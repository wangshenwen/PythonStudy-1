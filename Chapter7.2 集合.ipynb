{
 "cells": [
  {
   "cell_type": "code",
   "execution_count": 1,
   "metadata": {
    "collapsed": true
   },
   "outputs": [],
   "source": [
    "# 集合\n",
    "    # 集合的定义\n",
    "    # 创建集合\n",
    "    # 访问集合\n",
    "    # 不可变集合\n",
    "    "
   ]
  },
  {
   "cell_type": "code",
   "execution_count": 5,
   "metadata": {},
   "outputs": [
    {
     "name": "stdout",
     "output_type": "stream",
     "text": [
      "type(num1) = <class 'dict'>\n",
      "num1 = {}\n",
      "type(num2) = <class 'set'>\n",
      "num2 = {1, 2, 3, 4, 5, 11}\n"
     ]
    },
    {
     "ename": "TypeError",
     "evalue": "'set' object does not support indexing",
     "output_type": "error",
     "traceback": [
      "\u001b[1;31m---------------------------------------------------------------------------\u001b[0m",
      "\u001b[1;31mTypeError\u001b[0m                                 Traceback (most recent call last)",
      "\u001b[1;32m<ipython-input-5-bbb1ed720972>\u001b[0m in \u001b[0;36m<module>\u001b[1;34m()\u001b[0m\n\u001b[0;32m     14\u001b[0m \u001b[1;31m# 我们不需要做什么，集合会帮我们把重复的数据清理掉。\u001b[0m\u001b[1;33m\u001b[0m\u001b[1;33m\u001b[0m\u001b[0m\n\u001b[0;32m     15\u001b[0m \u001b[1;31m# 注意，集合是无序的，不能试图去索引集合中的某一个元素。\u001b[0m\u001b[1;33m\u001b[0m\u001b[1;33m\u001b[0m\u001b[0m\n\u001b[1;32m---> 16\u001b[1;33m \u001b[0mnum\u001b[0m \u001b[1;33m=\u001b[0m \u001b[0mnum2\u001b[0m\u001b[1;33m[\u001b[0m\u001b[1;36m2\u001b[0m\u001b[1;33m]\u001b[0m\u001b[1;33m\u001b[0m\u001b[0m\n\u001b[0m",
      "\u001b[1;31mTypeError\u001b[0m: 'set' object does not support indexing"
     ]
    }
   ],
   "source": [
    "# 集合的定义\n",
    "# 集合，字典的表亲；\n",
    "# 在Python3 中，如果大括号括起一堆数字，但没有体现映射关系，就是集合。\n",
    "# 集合，在Python 中的作用：唯一、无序。\n",
    "\n",
    "num1 = {}\n",
    "print(\"type(num1) =\", type(num1))\n",
    "print(\"num1 =\", num1)\n",
    "\n",
    "num2 = {1,2,3,4,5,5,4,3,2,1,11,2,3,4,5}\n",
    "print(\"type(num2) =\", type(num2))\n",
    "print(\"num2 =\", num2)\n",
    "\n",
    "# 我们不需要做什么，集合会帮我们把重复的数据清理掉。\n",
    "# 注意，集合是无序的，不能试图去索引集合中的某一个元素。\n",
    "# 错误示范\n",
    "num = num2[2]\n"
   ]
  },
  {
   "cell_type": "code",
   "execution_count": 15,
   "metadata": {},
   "outputs": [
    {
     "name": "stdout",
     "output_type": "stream",
     "text": [
      "set1==set2==set3: True\n"
     ]
    }
   ],
   "source": [
    "# 创建集合\n",
    "    # 直接把一堆元素用大括号({}) 括起来；\n",
    "    # set()。\n",
    "\n",
    "set1 = {\"小甲鱼\", \"小鱿鱼\", \"小护士\", \"小甲鱼\"}\n",
    "set2 = set([\"小甲鱼\",\"小鱿鱼\",\"小护士\"])\n",
    "set3 = set((\"小甲鱼\", \"小鱿鱼\", \"小护士\"))\n",
    "print(\"set1==set2==set3:\", set1 == set2 == set3)\n"
   ]
  },
  {
   "cell_type": "code",
   "execution_count": 20,
   "metadata": {},
   "outputs": [
    {
     "name": "stdout",
     "output_type": "stream",
     "text": [
      "list1_1 = [1, 2, 3, 4, 5, 0]\n",
      "list1_2 = [5, 5, 5, 3, 1]\n",
      "list2 = [1, 2, 3, 4, 5, 5, 3, 1, 0]\n",
      "list2_1 = [0, 1, 2, 3, 4, 5]\n"
     ]
    }
   ],
   "source": [
    "# 创建集合\n",
    "# 题目：去除列表[1,2,3,4,5,5,5,5,3,1,0] 中的重复元素。\n",
    "# 方法一：\n",
    "list1 = [1,2,3,4,5,5,5,5,3,1,0]\n",
    "list1_1 = []\n",
    "list1_2 = []\n",
    "for each in list1:\n",
    "    if each not in list1_1:\n",
    "        list1_1.append(each)\n",
    "    else:\n",
    "        list1_2.append(each)\n",
    "        \n",
    "print(\"list1_1 =\", list1_1)\n",
    "print(\"list1_2 =\", list1_2)\n",
    "print()\n",
    "\n",
    "# 方法二：set 去重\n",
    "list2 = [1,2,3,4,5,5,3,1,0] \n",
    "list2_1 = list(set(list2))\n",
    "print(\"list2 =\", list2)\n",
    "print(\"list2_1 =\", list2_1)\n"
   ]
  },
  {
   "cell_type": "code",
   "execution_count": 31,
   "metadata": {},
   "outputs": [
    {
     "name": "stdout",
     "output_type": "stream",
     "text": [
      "1 2 3 4 5 6 \n",
      "0 in set1: False\n",
      "1 not in set1: False\n",
      "set1 = {1, 2, 3, 4, 5, 6, 66}\n",
      "set1 = {1, 2, 3, 4, 6, 66}\n"
     ]
    }
   ],
   "source": [
    "# 访问集合\n",
    "# 集合中的元素是无序的，不能像序列那样用下标来访问，\n",
    "    # 但可以使用迭代，把集合中的数据，一个一个读出来。\n",
    "\n",
    "set1 = {1,2,3,4,5,6,5,4,3,1,2}\n",
    "for each in set1:\n",
    "    print(each, end=\" \")\n",
    "print()\n",
    "\n",
    "# 使用in 或 not in 判断一个元素是否在集合中已经存在。\n",
    "print(\"0 in set1:\", 0 in set1)\n",
    "print(\"1 not in set1:\", 1 not in set1)\n",
    "\n",
    "# 使用add() 方法，为集合添加元素；\n",
    "# 使用remove() 方法，删除集合中的已知元素。\n",
    "set1.add(66)\n",
    "print(\"set1 =\", set1)\n",
    "set1.remove(5)\n",
    "print(\"set1 =\", set1)\n"
   ]
  },
  {
   "cell_type": "code",
   "execution_count": 36,
   "metadata": {},
   "outputs": [
    {
     "name": "stdout",
     "output_type": "stream",
     "text": [
      "set1 = frozenset({1, 2, 3, 4, 5, 66, 33, 44})\n"
     ]
    }
   ],
   "source": [
    "# 不可变集合\n",
    "# 希望集合中的数据，像元组一样，不能随意地增加或删除集合中的元素。\n",
    "# frozenset() 函数，把元素冰冻起来。\n",
    "\n",
    "set1 = frozenset({1,2,3,4,5,4,3,2,5,66,44,33})\n",
    "print(\"set1 =\", set1)\n",
    "\n",
    "# 不能添加元素，会报错。\n",
    "# set1.add(99)\n",
    "# 不能删除元素，会报错。\n",
    "# set1.remove(66)\n"
   ]
  },
  {
   "cell_type": "code",
   "execution_count": null,
   "metadata": {
    "collapsed": true
   },
   "outputs": [],
   "source": []
  }
 ],
 "metadata": {
  "kernelspec": {
   "display_name": "Python 3",
   "language": "python",
   "name": "python3"
  },
  "language_info": {
   "codemirror_mode": {
    "name": "ipython",
    "version": 3
   },
   "file_extension": ".py",
   "mimetype": "text/x-python",
   "name": "python",
   "nbconvert_exporter": "python",
   "pygments_lexer": "ipython3",
   "version": "3.6.2"
  }
 },
 "nbformat": 4,
 "nbformat_minor": 2
}
