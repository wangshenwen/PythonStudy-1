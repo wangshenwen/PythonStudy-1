{
 "cells": [
  {
   "cell_type": "code",
   "execution_count": 1,
   "metadata": {
    "collapsed": true
   },
   "outputs": [],
   "source": [
    "# 为使代码简单，需要把程序分解成较小的部分：函数、对象和模块。\n",
    "\n",
    "# 函数\n",
    "    # 1. 创建和调用函数\n",
    "    # 2. 函数的参数\n",
    "    # 3. 函数的返回值\n"
   ]
  },
  {
   "cell_type": "code",
   "execution_count": 4,
   "metadata": {},
   "outputs": [
    {
     "name": "stdout",
     "output_type": "stream",
     "text": [
      "这是我创建的第一个函数\n",
      "我表示很激动\n",
      "在这里，我感谢爸爸妈妈，最爱爸爸妈妈\n",
      "\n",
      "这是我创建的第一个函数\n",
      "我表示很激动\n",
      "在这里，我感谢爸爸妈妈，最爱爸爸妈妈\n",
      "这是我创建的第一个函数\n",
      "我表示很激动\n",
      "在这里，我感谢爸爸妈妈，最爱爸爸妈妈\n",
      "这是我创建的第一个函数\n",
      "我表示很激动\n",
      "在这里，我感谢爸爸妈妈，最爱爸爸妈妈\n",
      "这是我创建的第一个函数\n",
      "我表示很激动\n",
      "在这里，我感谢爸爸妈妈，最爱爸爸妈妈\n"
     ]
    }
   ],
   "source": [
    "# 创建和调用函数\n",
    "\n",
    "def myFirstFunction():\n",
    "    print(\"这是我创建的第一个函数\")\n",
    "    print(\"我表示很激动\")\n",
    "    print(\"在这里，我感谢爸爸妈妈，最爱爸爸妈妈\")\n",
    "\n",
    "    \n",
    "myFirstFunction()\n",
    "print()\n",
    "\n",
    "for i in range(4):\n",
    "    myFirstFunction()"
   ]
  },
  {
   "cell_type": "code",
   "execution_count": 10,
   "metadata": {},
   "outputs": [
    {
     "name": "stdout",
     "output_type": "stream",
     "text": [
      "小甲鱼是帅锅！\n",
      "小鱿鱼是帅锅！\n",
      "小鲍鱼是帅锅！\n"
     ]
    }
   ],
   "source": [
    "# 函数的参数\n",
    "    # 参数使得函数可以实现个性化。\n",
    "\n",
    "\n",
    "def mySecondFunction(name):\n",
    "    print(name + \"是帅锅！\")\n",
    "\n",
    "mySecondFunction(\"小甲鱼\")\n",
    "mySecondFunction(\"小鱿鱼\")\n",
    "mySecondFunction(\"小鲍鱼\")\n"
   ]
  },
  {
   "cell_type": "code",
   "execution_count": 12,
   "metadata": {},
   "outputs": [
    {
     "name": "stdout",
     "output_type": "stream",
     "text": [
      "308\n"
     ]
    }
   ],
   "source": [
    "def add(num1, num2):\n",
    "    print(num1+num2)\n",
    "    \n",
    "add(109, 199)"
   ]
  },
  {
   "cell_type": "code",
   "execution_count": 15,
   "metadata": {},
   "outputs": [
    {
     "data": {
      "text/plain": [
       "587"
      ]
     },
     "execution_count": 15,
     "metadata": {},
     "output_type": "execute_result"
    }
   ],
   "source": [
    "# 函数的返回值\n",
    "def add(num1, num2):\n",
    "    return num1+num2\n",
    "\n",
    "add(199,388)"
   ]
  },
  {
   "cell_type": "code",
   "execution_count": null,
   "metadata": {
    "collapsed": true
   },
   "outputs": [],
   "source": []
  }
 ],
 "metadata": {
  "kernelspec": {
   "display_name": "Python 3",
   "language": "python",
   "name": "python3"
  },
  "language_info": {
   "codemirror_mode": {
    "name": "ipython",
    "version": 3
   },
   "file_extension": ".py",
   "mimetype": "text/x-python",
   "name": "python",
   "nbconvert_exporter": "python",
   "pygments_lexer": "ipython3",
   "version": "3.6.2"
  }
 },
 "nbformat": 4,
 "nbformat_minor": 2
}
