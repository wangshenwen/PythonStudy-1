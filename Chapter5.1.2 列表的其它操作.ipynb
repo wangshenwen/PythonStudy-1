{
 "cells": [
  {
   "cell_type": "code",
   "execution_count": 1,
   "metadata": {
    "collapsed": true
   },
   "outputs": [],
   "source": [
    "# 1. 列表分片\n",
    "#   基本语法：用一个冒号，隔开两个索引，左边是开始位置，右边是结束位置；\n",
    "#             左闭右开，包含开始位置上的元素，不包含结束位置上的元素；\n",
    "#             没有开始位置，Python默认从0开始；\n",
    "#             没有结束位置，从指定索引值到列表末尾的所有元素。\n",
    "#             没有任何索引值，只有一个冒号，得到整个列表的拷贝。\n",
    "\n",
    "#   进阶语法：分片还可以有第三个参数，代表步长，默认情况下为1；\n",
    "#             步长设置为 -1，相当于设置一个反转的列表。\n",
    "\n",
    "#   强调：列表分片是建立原列表的一个拷贝，有两个列表。\n"
   ]
  },
  {
   "cell_type": "code",
   "execution_count": 4,
   "metadata": {},
   "outputs": [
    {
     "name": "stdout",
     "output_type": "stream",
     "text": [
      "name1 = ['鸭蛋', '鸡蛋', '鹅蛋', '皮蛋', '二变蛋', '蛋黄派']\n",
      "name2 = ['鸡蛋', '鹅蛋', '皮蛋']\n",
      "name3 = ['鹅蛋', '皮蛋', '二变蛋', '蛋黄派']\n",
      "name4 = ['鸭蛋', '鸡蛋', '鹅蛋', '皮蛋', '二变蛋']\n",
      "name5 = ['鸭蛋', '鸡蛋', '鹅蛋', '皮蛋', '二变蛋', '蛋黄派']\n"
     ]
    }
   ],
   "source": [
    "# 列表分片\n",
    "name1 = ['鸭蛋', '鸡蛋', '鹅蛋', '皮蛋', '二变蛋', '蛋黄派']\n",
    "print(\"name1 =\", name1)\n",
    "\n",
    "name2 = name1[1:4]\n",
    "print(\"name2 =\", name2)\n",
    "\n",
    "name3 = name1[2:]\n",
    "print(\"name3 =\", name3)\n",
    "\n",
    "name4 = name1[:5]\n",
    "print(\"name4 =\", name4)\n",
    "\n",
    "name5 = name1[:]\n",
    "print(\"name5 =\", name5)\n"
   ]
  },
  {
   "cell_type": "code",
   "execution_count": 10,
   "metadata": {},
   "outputs": [
    {
     "name": "stdout",
     "output_type": "stream",
     "text": [
      "number1 = [1, 99, 2, 88, 3, 77, 4, 66, 5, 55, 6, 44, 7, 33, 8, 22]\n",
      "number2 = [1, 2, 3, 4, 5, 6, 7, 8]\n",
      "number3 = [99, 3, 66]\n",
      "number4 = [22, 8, 33, 7, 44, 6, 55, 5, 66, 4, 77, 3, 88, 2, 99, 1]\n"
     ]
    }
   ],
   "source": [
    "number1 = [1,99,2,88,3,77,4,66,5,55,6,44,7,33,8,22]\n",
    "print(\"number1 =\", number1)\n",
    "\n",
    "number2 = number1[::2]\n",
    "print(\"number2 =\", number2)\n",
    "\n",
    "number3 = number1[1:8:3]\n",
    "print(\"number3 =\", number3)\n",
    "\n",
    "number4 = number1[::-1]\n",
    "print(\"number4 =\", number4)\n"
   ]
  },
  {
   "cell_type": "code",
   "execution_count": null,
   "metadata": {
    "collapsed": true
   },
   "outputs": [],
   "source": [
    "# 2. 分片“拷贝”\n",
    "#    为一个列表指定另一个名字的做法，是向同一个列表增加一个新的标签； \n",
    "#    要真正的拷贝列表，要是有“分片”。 \n"
   ]
  },
  {
   "cell_type": "code",
   "execution_count": 14,
   "metadata": {},
   "outputs": [
    {
     "name": "stdout",
     "output_type": "stream",
     "text": [
      "list1 = [1, 3, 6, 4, 2, 7, 44, 99]\n",
      "list2 = [1, 3, 6, 4, 2, 7, 44, 99]\n",
      "list3 = [1, 3, 6, 4, 2, 7, 44, 99]\n",
      "\n",
      "list1 = [1, 2, 3, 4, 6, 7, 44, 99]\n",
      "list2 = [1, 3, 6, 4, 2, 7, 44, 99]\n",
      "list3 = [1, 2, 3, 4, 6, 7, 44, 99]\n"
     ]
    }
   ],
   "source": [
    "list1 = [1,3,6,4,2,7,44,99]\n",
    "print(\"list1 =\", list1)\n",
    "\n",
    "list2 = list1[:]\n",
    "print(\"list2 =\", list2)\n",
    "\n",
    "list3 = list1\n",
    "print(\"list3 =\", list3)\n",
    "\n",
    "print()\n",
    "\n",
    "list1.sort()\n",
    "print(\"list1 =\", list1)\n",
    "print(\"list2 =\", list2)\n",
    "print(\"list3 =\", list3)\n"
   ]
  },
  {
   "cell_type": "code",
   "execution_count": null,
   "metadata": {
    "collapsed": true
   },
   "outputs": [],
   "source": [
    "# 3. 列表与常用操作符\n",
    "#（1）比较操作符；多个元素，只比较第一个元素；\n",
    "#（2）加号操作符：拼接操作；\n",
    "#（3）乘号操作符：重复操作；\n",
    "#（4）包含操作符：是否包含某个元素、某个子列表：in, not in \n"
   ]
  },
  {
   "cell_type": "code",
   "execution_count": 24,
   "metadata": {},
   "outputs": [
    {
     "name": "stdout",
     "output_type": "stream",
     "text": [
      "list1 > list2: False\n",
      "num1 > num2: True\n",
      "str1 > str2: False\n"
     ]
    }
   ],
   "source": [
    "# 比较大小\n",
    "list1 = [123]\n",
    "list2 = [234]\n",
    "print(\"list1 > list2:\", list1 > list2)\n",
    "\n",
    "num1 = [999, 1, 3]\n",
    "num2 = [998,999,9999]\n",
    "print(\"num1 > num2:\", num1 > num2)\n",
    "\n",
    "str1 = ['ads','zzz']\n",
    "str2 = ['zsx','aaa']\n",
    "print(\"str1 > str2:\", str1 > str2)\n"
   ]
  },
  {
   "cell_type": "code",
   "execution_count": 30,
   "metadata": {},
   "outputs": [
    {
     "name": "stdout",
     "output_type": "stream",
     "text": [
      "list1 = [123, 234, 987]\n",
      "list2 = [23, 45, 78]\n",
      "\n",
      "list1 = [123, 234, 987]\n",
      "list2 = [23, 45, 78]\n",
      "list3 = [123, 234, 987, 23, 45, 78]\n",
      "\n",
      "list1 = [123, 234, 987]\n",
      "list2 = [23, 45, 78]\n",
      "list4 = [123, 234, 987, 1, 2, 3]\n",
      "\n",
      "list1 = [123, 234, 987, 123, 234, 987]\n",
      "\n"
     ]
    }
   ],
   "source": [
    "# 列表的加法：拼接操作符\n",
    "list1 = [123, 234, 987]\n",
    "list2 = [23, 45, 78]\n",
    "print(\"list1 =\", list1)\n",
    "print(\"list2 =\", list2)\n",
    "print()\n",
    "\n",
    "list3 = list1 + list2\n",
    "print(\"list1 =\", list1)\n",
    "print(\"list2 =\", list2)\n",
    "print(\"list3 =\", list3)\n",
    "print()\n",
    "\n",
    "list4 = list1 + [1,2,3]\n",
    "print(\"list1 =\", list1)\n",
    "print(\"list2 =\", list2)\n",
    "print(\"list4 =\", list4)\n",
    "print()\n",
    "\n",
    "list1 += list1\n",
    "print(\"list1 =\", list1)\n",
    "print()"
   ]
  },
  {
   "cell_type": "code",
   "execution_count": 38,
   "metadata": {},
   "outputs": [
    {
     "name": "stdout",
     "output_type": "stream",
     "text": [
      "num1=  ['a', 'sss', 3.14, 123, [346, 'dfe']]\n",
      "\n",
      "num1 = ['a', 'sss', 3.14, 123, [346, 'dfe']]\n",
      "num2 = ['a', 'sss', 3.14, 123, [346, 'dfe'], 'a', 'sss', 3.14, 123, [346, 'dfe'], 'a', 'sss', 3.14, 123, [346, 'dfe']]\n",
      "\n",
      "num1= ['a', 'sss', 3.14, 123, [346, 'dfe'], 'a', 'sss', 3.14, 123, [346, 'dfe']]\n",
      "\n"
     ]
    }
   ],
   "source": [
    "# 列表的乘法：重复操作符\n",
    "num1 = ['a', 'sss', 3.14, 123, [346, 'dfe']]\n",
    "print(\"num1= \", num1)\n",
    "print()\n",
    "\n",
    "num2 = num1 * 3\n",
    "print(\"num1 =\", num1)\n",
    "print(\"num2 =\", num2)\n",
    "print()\n",
    "\n",
    "num1 *= 2\n",
    "print(\"num1=\", num1)\n",
    "print()\n"
   ]
  },
  {
   "cell_type": "code",
   "execution_count": 44,
   "metadata": {},
   "outputs": [
    {
     "name": "stdout",
     "output_type": "stream",
     "text": [
      "123 in list1: True\n",
      "'a' in list1: True\n",
      "34 in list1: False\n",
      "[34,67] in list1: True\n",
      "67 in list1[7]: True\n"
     ]
    }
   ],
   "source": [
    "# 列表的包含操作符：in , not in\n",
    "list1 = [123, 456, 789, 'a', 'df', 3.45, 9.87, [34, 67]]\n",
    "print(\"123 in list1:\", 123 in list1)\n",
    "print(\"'a' in list1:\", 'a' in list1)\n",
    "\n",
    "print(\"34 in list1:\", 34 in list1)\n",
    "print(\"[34,67] in list1:\", [34, 67] in list1)\n",
    "print(\"67 in list1[7]:\", 67 in list1[7])"
   ]
  },
  {
   "cell_type": "code",
   "execution_count": null,
   "metadata": {
    "collapsed": true
   },
   "outputs": [],
   "source": []
  },
  {
   "cell_type": "code",
   "execution_count": 46,
   "metadata": {
    "collapsed": true
   },
   "outputs": [],
   "source": [
    "# 4. 列表的小伙伴们\n",
    "# dir()：查看列表有哪些方法；\n",
    "# 列表的方法：\n",
    "#     count(args): 计算某个参数在列表中出现的次数；\n",
    "#     index(args, start, end): 返回参数在列表中的位置，start是列表查找开始位置，end是列表查找结束位置；\n",
    "#     reverse(): 将列表翻转；\n",
    "#     sort(): 用指定的方式队列表排序，默认从小到大；\n"
   ]
  },
  {
   "cell_type": "code",
   "execution_count": 53,
   "metadata": {},
   "outputs": [
    {
     "name": "stdout",
     "output_type": "stream",
     "text": [
      "['__add__', '__class__', '__contains__', '__delattr__', '__delitem__', '__dir__', '__doc__', '__eq__', '__format__', '__ge__', '__getattribute__', '__getitem__', '__gt__', '__hash__', '__iadd__', '__imul__', '__init__', '__init_subclass__', '__iter__', '__le__', '__len__', '__lt__', '__mul__', '__ne__', '__new__', '__reduce__', '__reduce_ex__', '__repr__', '__reversed__', '__rmul__', '__setattr__', '__setitem__', '__sizeof__', '__str__', '__subclasshook__', 'append', 'clear', 'copy', 'count', 'extend', 'index', 'insert', 'pop', 'remove', 'reverse', 'sort']\n",
      "\n",
      "\n",
      "__add__\n",
      "__class__\n",
      "__contains__\n",
      "__delattr__\n",
      "__delitem__\n",
      "__dir__\n",
      "__doc__\n",
      "__eq__\n",
      "__format__\n",
      "__ge__\n",
      "__getattribute__\n",
      "__getitem__\n",
      "__gt__\n",
      "__hash__\n",
      "__iadd__\n",
      "__imul__\n",
      "__init__\n",
      "__init_subclass__\n",
      "__iter__\n",
      "__le__\n",
      "__len__\n",
      "__lt__\n",
      "__mul__\n",
      "__ne__\n",
      "__new__\n",
      "__reduce__\n",
      "__reduce_ex__\n",
      "__repr__\n",
      "__reversed__\n",
      "__rmul__\n",
      "__setattr__\n",
      "__setitem__\n",
      "__sizeof__\n",
      "__str__\n",
      "__subclasshook__\n",
      "append\n",
      "clear\n",
      "copy\n",
      "count\n",
      "extend\n",
      "index\n",
      "insert\n",
      "pop\n",
      "remove\n",
      "reverse\n",
      "sort\n"
     ]
    }
   ],
   "source": [
    "print(dir(list))\n",
    "print(\"\\n\")\n",
    "\n",
    "for i in dir(list):\n",
    "    print(i)\n",
    "print()\n",
    "\n"
   ]
  },
  {
   "cell_type": "code",
   "execution_count": 56,
   "metadata": {},
   "outputs": [
    {
     "name": "stdout",
     "output_type": "stream",
     "text": [
      "在list1中 1 出现的次数： 4\n",
      "在list1中133出现的次数： 2\n",
      "在list1中222出现的次数:  0\n"
     ]
    }
   ],
   "source": [
    "# count()\n",
    "list1 = [345, 133, 234, 1, 1, 1, 1, 567, 133, 345]\n",
    "print(\"在list1中 1 出现的次数：\", list1.count(1))\n",
    "print(\"在list1中133出现的次数：\", list1.count(133))\n",
    "print(\"在list1中222出现的次数: \", list1.count(222))\n"
   ]
  },
  {
   "cell_type": "code",
   "execution_count": 2,
   "metadata": {},
   "outputs": [
    {
     "name": "stdout",
     "output_type": "stream",
     "text": [
      "list1 = [345, 133, 234, 1, 1, 1, 1, 567, 133, 345]\n",
      "在list1中，133第一次出现的位置: 1\n",
      "在list1中，133第二次出现的位置: 8\n",
      "\n",
      "---------------------枚举--------------------\n",
      "在list1中，数字 1 出现的次数： 4\n",
      "在list1中，数字 1 出现的位置。\n",
      "3\n",
      "4\n",
      "5\n",
      "6\n",
      "\n",
      "------- for 循环 --------\n",
      "3\n",
      "4\n",
      "5\n",
      "6\n",
      "\n"
     ]
    }
   ],
   "source": [
    "# index()\n",
    "list1 = [345, 133, 234, 1, 1, 1, 1, 567, 133, 345]\n",
    "print(\"list1 =\", list1)\n",
    "\n",
    "print(\"在list1中，133第一次出现的位置:\", list1.index(133))\n",
    "print(\"在list1中，133第二次出现的位置:\", list1.index(133,(list1.index(133)+1), len(list1)))\n",
    "print()\n",
    "\n",
    "\n",
    "print(\"---------------------枚举--------------------\")\n",
    "times = list1.count(1)\n",
    "print(\"在list1中，数字 1 出现的次数：\", times)\n",
    "print(\"在list1中，数字 1 出现的位置。\")\n",
    "location1 = list1.index(1)\n",
    "print(location1)\n",
    "\n",
    "start = list1.index(1) + 1\n",
    "end = len(list1)\n",
    "location2 = list1.index(1, start, end)\n",
    "print(location2)\n",
    "\n",
    "start = location2 + 1\n",
    "location3 = list1.index(1, start, end)\n",
    "print(location3)\n",
    "\n",
    "start = location3 + 1\n",
    "location4 = list1.index(1, start, end)\n",
    "print(location4)\n",
    "print()\n",
    "\n",
    "print(\"------- for 循环 --------\") \n",
    "times = list1.count(1)\n",
    "while times > 0:\n",
    "    start = list1.index(1) + (list1.count(1) - times)\n",
    "    end = len(list1)\n",
    "    location = list1.index(1, start, end)\n",
    "    print(location)\n",
    "    times -= 1\n",
    "print()\n"
   ]
  },
  {
   "cell_type": "code",
   "execution_count": 4,
   "metadata": {},
   "outputs": [
    {
     "name": "stdout",
     "output_type": "stream",
     "text": [
      "list1 = [1, 2, 3, 4, 5, 6, 7, 8, 9]\n",
      "\n",
      "list2 = None\n",
      "list1 = [9, 8, 7, 6, 5, 4, 3, 2, 1]\n"
     ]
    }
   ],
   "source": [
    "# reverse()\n",
    "list1 = [1,2,3,4,5,6,7,8,9]\n",
    "print(\"list1 =\", list1)\n",
    "print()\n",
    "\n",
    "list2 = list1.reverse()\n",
    "print(\"list2 =\", list2)\n",
    "print(\"list1 =\", list1)\n"
   ]
  },
  {
   "cell_type": "code",
   "execution_count": 6,
   "metadata": {},
   "outputs": [
    {
     "name": "stdout",
     "output_type": "stream",
     "text": [
      "[1, 3, 5, 8, 4, 2, 6, 22, 9, 18]\n",
      "[1, 2, 3, 4, 5, 6, 8, 9, 18, 22]\n",
      "list1 = [22, 18, 9, 8, 6, 5, 4, 3, 2, 1]\n"
     ]
    }
   ],
   "source": [
    "# sort()\n",
    "list1 = [1,3,5,8,4,2,6,22,9,18]\n",
    "print(list1)\n",
    "\n",
    "list1.sort()\n",
    "print(list1)\n",
    "\n",
    "list1.sort(reverse = True)\n",
    "print(list1)\n",
    "\n"
   ]
  },
  {
   "cell_type": "code",
   "execution_count": null,
   "metadata": {
    "collapsed": true
   },
   "outputs": [],
   "source": []
  },
  {
   "cell_type": "code",
   "execution_count": null,
   "metadata": {
    "collapsed": true
   },
   "outputs": [],
   "source": []
  },
  {
   "cell_type": "code",
   "execution_count": null,
   "metadata": {
    "collapsed": true
   },
   "outputs": [],
   "source": []
  },
  {
   "cell_type": "code",
   "execution_count": null,
   "metadata": {
    "collapsed": true
   },
   "outputs": [],
   "source": []
  },
  {
   "cell_type": "code",
   "execution_count": null,
   "metadata": {
    "collapsed": true
   },
   "outputs": [],
   "source": []
  },
  {
   "cell_type": "code",
   "execution_count": null,
   "metadata": {
    "collapsed": true
   },
   "outputs": [],
   "source": []
  },
  {
   "cell_type": "code",
   "execution_count": null,
   "metadata": {
    "collapsed": true
   },
   "outputs": [],
   "source": []
  }
 ],
 "metadata": {
  "kernelspec": {
   "display_name": "Python 3",
   "language": "python",
   "name": "python3"
  },
  "language_info": {
   "codemirror_mode": {
    "name": "ipython",
    "version": 3
   },
   "file_extension": ".py",
   "mimetype": "text/x-python",
   "name": "python",
   "nbconvert_exporter": "python",
   "pygments_lexer": "ipython3",
   "version": "3.6.2"
  }
 },
 "nbformat": 4,
 "nbformat_minor": 2
}
