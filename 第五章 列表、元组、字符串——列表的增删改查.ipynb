{
 "cells": [
  {
   "cell_type": "code",
   "execution_count": null,
   "metadata": {
    "collapsed": true
   },
   "outputs": [],
   "source": [
    "# 1. 创建列表"
   ]
  },
  {
   "cell_type": "code",
   "execution_count": 5,
   "metadata": {},
   "outputs": [
    {
     "name": "stdout",
     "output_type": "stream",
     "text": [
      "1 2 3 4 5 \n",
      "\n",
      "1 <class 'int'>\n",
      "2 <class 'int'>\n",
      "3 <class 'int'>\n",
      "4 <class 'int'>\n",
      "5 <class 'int'>\n",
      "\n"
     ]
    }
   ],
   "source": [
    "number = [1, 2, 3, 4, 5]\n",
    "\n",
    "for i in number:\n",
    "    print(i, end=\" \")\n",
    "print('\\n')    \n",
    "\n",
    "for i in number:\n",
    "    print(i, type(i))\n",
    "print()\n",
    "\n"
   ]
  },
  {
   "cell_type": "code",
   "execution_count": 7,
   "metadata": {},
   "outputs": [
    {
     "name": "stdout",
     "output_type": "stream",
     "text": [
      "1 <class 'int'>\n",
      "2 <class 'int'>\n",
      "asd <class 'str'>\n",
      "3.1415 <class 'float'>\n",
      "[1, 2] <class 'list'>\n",
      "\n"
     ]
    }
   ],
   "source": [
    "mix = [1, 2, 'asd', 3.1415, [1,2]]\n",
    "for i in mix:\n",
    "    print(i, type(i))\n",
    "print()\n"
   ]
  },
  {
   "cell_type": "code",
   "execution_count": 12,
   "metadata": {},
   "outputs": [
    {
     "name": "stdout",
     "output_type": "stream",
     "text": [
      "[] <class 'list'>\n"
     ]
    }
   ],
   "source": [
    "empty = []\n",
    "\n",
    "print(empty, type(empty))\n"
   ]
  },
  {
   "cell_type": "code",
   "execution_count": null,
   "metadata": {
    "collapsed": true
   },
   "outputs": [],
   "source": []
  },
  {
   "cell_type": "code",
   "execution_count": null,
   "metadata": {
    "collapsed": true
   },
   "outputs": [],
   "source": [
    "# 2. 向列表中添加元素，列表的方法\n",
    "# append()：在列表末尾，增加一个元素；\n",
    "# extend()：在列表末尾，用一个列表扩展另一个列表；\n",
    "# insert(site, value)：在site位置，插入value值。\n"
   ]
  },
  {
   "cell_type": "code",
   "execution_count": 19,
   "metadata": {},
   "outputs": [
    {
     "name": "stdout",
     "output_type": "stream",
     "text": [
      "number1 = [1, 2, 3, 4, 5, 6]\n",
      "1 2 3 4 5 6 \n",
      "number1 = [1, 2, 3, 4, 5, 6, 99]\n",
      "1 2 3 4 5 6 99 "
     ]
    }
   ],
   "source": [
    "# append\n",
    "\n",
    "number1 = [1, 2, 3, 4, 5, 6]\n",
    "\n",
    "print(\"number1 =\", number1)\n",
    "for i in number1:\n",
    "    print(i, end = \" \")\n",
    "print()\n",
    "\n",
    "\n",
    "number1.append(99)\n",
    "print(\"number1 =\", number1)\n",
    "for i in number1:\n",
    "    print(i, end = \" \")\n"
   ]
  },
  {
   "cell_type": "code",
   "execution_count": 20,
   "metadata": {},
   "outputs": [
    {
     "name": "stdout",
     "output_type": "stream",
     "text": [
      "[1, 2, 3]\n",
      "\n",
      "[1, 2, 3, 'a', 'ss', 990, 7.234, [12, 3.4]]\n",
      "\n"
     ]
    }
   ],
   "source": [
    "# extend\n",
    "number2 = [1,2,3]\n",
    "print(number2)\n",
    "print()\n",
    "\n",
    "number2.extend(['a', 'ss', 990, 7.234, [12,3.4]])\n",
    "print(number2)\n",
    "print()\n"
   ]
  },
  {
   "cell_type": "code",
   "execution_count": 23,
   "metadata": {},
   "outputs": [
    {
     "name": "stdout",
     "output_type": "stream",
     "text": [
      "[1, 2, 3, 4, 5]\n",
      "\n",
      "[1, 2, 3, 4, 5, 99, 88]\n"
     ]
    }
   ],
   "source": [
    "# insert\n",
    "number3 = [1,2,3,4,5]\n",
    "print(number3)\n",
    "print()\n",
    "\n",
    "number3.insert(9,99)\n",
    "number3.insert(8,88)\n",
    "print(number3)\n"
   ]
  },
  {
   "cell_type": "code",
   "execution_count": null,
   "metadata": {
    "collapsed": true
   },
   "outputs": [],
   "source": []
  },
  {
   "cell_type": "code",
   "execution_count": 29,
   "metadata": {},
   "outputs": [
    {
     "name": "stdout",
     "output_type": "stream",
     "text": [
      "鸡蛋\n"
     ]
    }
   ],
   "source": [
    "# 3. 从列表中获取元素\n",
    "# 通过列表的索引值，从列表中获取元素。\n",
    "# 列表的索引值，从0开始。\n",
    "\n",
    "name = ['鸭蛋', '鹅蛋', '鸡蛋']\n",
    "print(name[2])\n"
   ]
  },
  {
   "cell_type": "code",
   "execution_count": null,
   "metadata": {
    "collapsed": true
   },
   "outputs": [],
   "source": []
  },
  {
   "cell_type": "code",
   "execution_count": null,
   "metadata": {
    "collapsed": true
   },
   "outputs": [],
   "source": [
    "# 4. 从列表中删除元素\n",
    "# remove()：列表的方法\n",
    "    # 不需要知道元素在列表中的位置，只需要知道有这个元素即可。\n",
    "    # 如果删除的元素不存在，就会报错。\n",
    "# del：不是列表的方法，是一个语句，其后不用加小括号。\n",
    "    # 删除元素，通过元素位置索引，del listName[index]\n",
    "    # 删除列表，del listName\n",
    "# pop()：列表的方法\n",
    "    # 弹出一个元素，默认弹出最后一个元素\n",
    "    # 加上一个索引值时，弹出索引位置的元素\n"
   ]
  },
  {
   "cell_type": "code",
   "execution_count": 31,
   "metadata": {},
   "outputs": [
    {
     "name": "stdout",
     "output_type": "stream",
     "text": [
      "[1, 2, 3, 4, 5, 777, 888, 999]\n",
      "[1, 2, 3, 4, 5, 777, 999]\n"
     ]
    },
    {
     "ename": "ValueError",
     "evalue": "list.remove(x): x not in list",
     "output_type": "error",
     "traceback": [
      "\u001b[1;31m---------------------------------------------------------------------------\u001b[0m",
      "\u001b[1;31mValueError\u001b[0m                                Traceback (most recent call last)",
      "\u001b[1;32m<ipython-input-31-7ff3950027bd>\u001b[0m in \u001b[0;36m<module>\u001b[1;34m()\u001b[0m\n\u001b[0;32m      6\u001b[0m \u001b[0mprint\u001b[0m\u001b[1;33m(\u001b[0m\u001b[0mnum1\u001b[0m\u001b[1;33m)\u001b[0m\u001b[1;33m\u001b[0m\u001b[0m\n\u001b[0;32m      7\u001b[0m \u001b[1;33m\u001b[0m\u001b[0m\n\u001b[1;32m----> 8\u001b[1;33m \u001b[0mnum1\u001b[0m\u001b[1;33m.\u001b[0m\u001b[0mremove\u001b[0m\u001b[1;33m(\u001b[0m\u001b[1;36m666\u001b[0m\u001b[1;33m)\u001b[0m\u001b[1;33m\u001b[0m\u001b[0m\n\u001b[0m",
      "\u001b[1;31mValueError\u001b[0m: list.remove(x): x not in list"
     ]
    }
   ],
   "source": [
    "# remove\n",
    "num1 = [1,2,3,4,5,777,888,999]\n",
    "print(num1)\n",
    "\n",
    "num1.remove(888)\n",
    "print(num1)\n",
    "\n",
    "num1.remove(666)\n"
   ]
  },
  {
   "cell_type": "code",
   "execution_count": 33,
   "metadata": {},
   "outputs": [
    {
     "name": "stdout",
     "output_type": "stream",
     "text": [
      "[1, 2, 3, 4, 5, 777, 888, 999]\n",
      "[1, 2, 3, 5, 777, 888, 999]\n"
     ]
    }
   ],
   "source": [
    "# del\n",
    "num2 = [1,2,3,4,5,777,888,999]\n",
    "print(num2)\n",
    "\n",
    "del num2[3]\n",
    "print(num2)\n"
   ]
  },
  {
   "cell_type": "code",
   "execution_count": 35,
   "metadata": {},
   "outputs": [
    {
     "name": "stdout",
     "output_type": "stream",
     "text": [
      "[1, 2, 3, 4, 5, 777, 888, 999]\n",
      "[1, 2, 3, 4, 5, 777, 888]\n",
      "[1, 2, 3, 5, 777, 888]\n"
     ]
    }
   ],
   "source": [
    "# pop\n",
    "num3 = [1,2,3,4,5,777,888,999]\n",
    "print(num3)\n",
    "\n",
    "num3.pop()\n",
    "print(num3)\n",
    "\n",
    "num3.pop(3)\n",
    "print(num3)\n"
   ]
  },
  {
   "cell_type": "code",
   "execution_count": null,
   "metadata": {
    "collapsed": true
   },
   "outputs": [],
   "source": []
  }
 ],
 "metadata": {
  "kernelspec": {
   "display_name": "Python 3",
   "language": "python",
   "name": "python3"
  },
  "language_info": {
   "codemirror_mode": {
    "name": "ipython",
    "version": 3
   },
   "file_extension": ".py",
   "mimetype": "text/x-python",
   "name": "python",
   "nbconvert_exporter": "python",
   "pygments_lexer": "ipython3",
   "version": "3.6.2"
  }
 },
 "nbformat": 4,
 "nbformat_minor": 2
}
