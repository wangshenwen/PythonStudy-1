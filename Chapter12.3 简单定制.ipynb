{
 "cells": [
  {
   "cell_type": "code",
   "execution_count": 1,
   "metadata": {
    "collapsed": true
   },
   "outputs": [],
   "source": [
    "# 基本要求：\n",
    "    # 定制一个计时器的类；\n",
    "    # start 和 stop 方法代表启动计时和停止计时；\n",
    "    # 假设计时器对象t1，print(t1)和直接调用t1，均显示结果；\n",
    "    # 当计时器未启动，或者已经停止时，调用stop方法，会给予温馨的提示；\n",
    "    # 两个计时器对象，可以进行相加：t1 + t2\n",
    "    # 只能使用提供的有限资源完成。\n",
    "    "
   ]
  },
  {
   "cell_type": "code",
   "execution_count": 9,
   "metadata": {},
   "outputs": [
    {
     "name": "stdout",
     "output_type": "stream",
     "text": [
      "小甲鱼是帅哥！\n",
      "----------------\n"
     ]
    },
    {
     "data": {
      "text/plain": [
       "小甲鱼是帅哥！"
      ]
     },
     "execution_count": 9,
     "metadata": {},
     "output_type": "execute_result"
    }
   ],
   "source": [
    "# 演示\n",
    "\"\"\"\n",
    ">>> t1 = MyTimer()\n",
    ">>> t1\n",
    "未开始计时！\n",
    ">>> t1.stop()\n",
    "提示：请先调用start()开始计时！\n",
    ">>> t1.start()\n",
    "计时开始 ...\n",
    ">>> t1\n",
    "提示：请先调用stop() 结束计时！\n",
    ">>> t1.stop()\n",
    "计时结束！\n",
    ">>> t1\n",
    "总共运行了5秒\n",
    ">>> t2 = MyTimer()\n",
    ">>> t2.start()\n",
    "计时开始...\n",
    ">>> t2.stop()\n",
    "计时结束！\n",
    ">>> t2\n",
    "总共运行了6秒\n",
    ">>> t1 + t2\n",
    "'总共运行了11秒'\n",
    "\"\"\"\n",
    "\n",
    "# 使用 time 模块的localtime 方法获取时间\n",
    "# time.localtime 返回 struct_time 的时间格式\n",
    "# 表现你的类：__str__() 和 __repr__() 魔法方法\n",
    "\n",
    "class A:\n",
    "    def __str__(self):\n",
    "        return \"小甲鱼是帅哥！\"\n",
    "a = A()\n",
    "print(a)\n",
    "a\n",
    "print(\"----------------\")\n",
    "\n",
    "class B():\n",
    "    def __repr__(self):\n",
    "        return \"小甲鱼是帅哥！\"\n",
    "b = B()\n",
    "b\n"
   ]
  },
  {
   "cell_type": "code",
   "execution_count": 38,
   "metadata": {},
   "outputs": [],
   "source": [
    "import time as t\n",
    "\n",
    "class MyTimer:\n",
    "    # 在__init__()方法中，先定义所有属于实例对象的变量\n",
    "    def __init__(self):\n",
    "        self.prompt = \"未开始计时！\"\n",
    "        self.begin = 0\n",
    "        self.end = 0\n",
    "        self.lasted = []\n",
    "        # 在__init__()方法中，添加一个列表\n",
    "        # 用来存放对应的单位\n",
    "        self.unit = [\"年\", \"月\", \"日\", \"时\", \"分\", \"秒\"]\n",
    "        \n",
    "    # 重写魔方方法__add__(),让两个计时器对象相加，自动返回时间的和。\n",
    "    def __add__(self, other):\n",
    "        prompt = \"总共运行了\"\n",
    "        result = []\n",
    "        for index in range(6):\n",
    "            result.append(self.lasted[index] + other.lasted[index])\n",
    "            if result[index]:\n",
    "                prompt += (str(result[index]) + self.unit[index])\n",
    "        return prompt\n",
    "        \n",
    "    # 开始计时\n",
    "    def start(self):\n",
    "        self.begin = t.localtime()\n",
    "        self.prompt = \"请先调用stop()结束计时。\"\n",
    "        print(\"计时开始...\")\n",
    "    \n",
    "    # 停止计时\n",
    "    def stop(self):\n",
    "        if not self.begin:\n",
    "            print(\"提示：请先调用start() 开始计时！\")\n",
    "        else:\n",
    "            self.end = t.localtime()\n",
    "            self._calc()\n",
    "            print(\"计时结束!\")\n",
    "    \n",
    "    # 内部方法，计算运行时间\n",
    "    def _calc(self):\n",
    "        self.lasted = []\n",
    "        self.prompt = \"总共运行了\"\n",
    "        for index in range(6):\n",
    "            self.lasted.append(self.end[index] - self.begin[index])\n",
    "            if self.lasted[index]:\n",
    "                self.prompt += (str(self.lasted[index]) + self.unit[index])\n",
    "        # 为下一轮计算，初始化变量\n",
    "        self.begin = 0\n",
    "        self.end = 0\n",
    "        \n",
    "    # print(t1)和直接调用t1，均显示结果，重写 __str__() 和 __repr__() 魔法方法\n",
    "    def __str__(self):\n",
    "        return self.prompt\n",
    "    __repr__ = __str__\n",
    "    \n"
   ]
  },
  {
   "cell_type": "code",
   "execution_count": null,
   "metadata": {
    "collapsed": true
   },
   "outputs": [],
   "source": []
  }
 ],
 "metadata": {
  "kernelspec": {
   "display_name": "Python 3",
   "language": "python",
   "name": "python3"
  },
  "language_info": {
   "codemirror_mode": {
    "name": "ipython",
    "version": 3
   },
   "file_extension": ".py",
   "mimetype": "text/x-python",
   "name": "python",
   "nbconvert_exporter": "python",
   "pygments_lexer": "ipython3",
   "version": "3.6.2"
  }
 },
 "nbformat": 4,
 "nbformat_minor": 2
}
