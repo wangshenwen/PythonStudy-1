{
 "cells": [
  {
   "cell_type": "code",
   "execution_count": 71,
   "metadata": {
    "collapsed": true
   },
   "outputs": [],
   "source": [
    "# 第三章 成为高手前必须知道的一些基础知识"
   ]
  },
  {
   "cell_type": "code",
   "execution_count": null,
   "metadata": {
    "collapsed": true
   },
   "outputs": [],
   "source": [
    "# 3.1 变量"
   ]
  },
  {
   "cell_type": "code",
   "execution_count": 8,
   "metadata": {},
   "outputs": [
    {
     "name": "stdout",
     "output_type": "stream",
     "text": [
      "小甲鱼\n",
      "老甲鱼\n"
     ]
    }
   ],
   "source": [
    "teacher = \"小甲鱼\"\n",
    "print(teacher)\n",
    "\n",
    "teacher = \"老甲鱼\"\n",
    "print(teacher)\n"
   ]
  },
  {
   "cell_type": "code",
   "execution_count": 72,
   "metadata": {},
   "outputs": [
    {
     "name": "stdout",
     "output_type": "stream",
     "text": [
      "x =  3\n",
      "x =  5\n",
      "y =  8\n",
      "z = 13\n"
     ]
    }
   ],
   "source": [
    "x = 3\n",
    "print('x = ', x)\n",
    "\n",
    "x = 5\n",
    "print('x = ', x)\n",
    "\n",
    "y = 8\n",
    "print('y = ', y)\n",
    "\n",
    "z = x + y\n",
    "print('z =', z)\n"
   ]
  },
  {
   "cell_type": "code",
   "execution_count": 73,
   "metadata": {},
   "outputs": [
    {
     "name": "stdout",
     "output_type": "stream",
     "text": [
      "myteacher = 小甲鱼\n",
      "yourteacher = 老甲鱼\n",
      "ourteacher = 小甲鱼老甲鱼\n"
     ]
    }
   ],
   "source": [
    "myteacher = '小甲鱼'\n",
    "print(\"myteacher =\", myteacher)\n",
    "yourteacher = '老甲鱼'\n",
    "print('yourteacher =', yourteacher)\n",
    "ourteacher = myteacher + yourteacher\n",
    "print('ourteacher =', ourteacher)\n"
   ]
  },
  {
   "cell_type": "code",
   "execution_count": null,
   "metadata": {
    "collapsed": true
   },
   "outputs": [],
   "source": [
    "# 3.2 字符串， 3.3 原始字符串， 3.4 长字符串"
   ]
  },
  {
   "cell_type": "code",
   "execution_count": 23,
   "metadata": {},
   "outputs": [
    {
     "data": {
      "text/plain": [
       "'58'"
      ]
     },
     "execution_count": 23,
     "metadata": {},
     "output_type": "execute_result"
    }
   ],
   "source": [
    "5 + 8\n"
   ]
  },
  {
   "cell_type": "code",
   "execution_count": 24,
   "metadata": {},
   "outputs": [
    {
     "data": {
      "text/plain": [
       "'58'"
      ]
     },
     "execution_count": 24,
     "metadata": {},
     "output_type": "execute_result"
    }
   ],
   "source": [
    "'5' + '8'"
   ]
  },
  {
   "cell_type": "code",
   "execution_count": 25,
   "metadata": {},
   "outputs": [
    {
     "ename": "SyntaxError",
     "evalue": "EOL while scanning string literal (<ipython-input-25-2e889c4ef344>, line 1)",
     "output_type": "error",
     "traceback": [
      "\u001b[1;36m  File \u001b[1;32m\"<ipython-input-25-2e889c4ef344>\"\u001b[1;36m, line \u001b[1;32m1\u001b[0m\n\u001b[1;33m    Let's go!\u001b[0m\n\u001b[1;37m             ^\u001b[0m\n\u001b[1;31mSyntaxError\u001b[0m\u001b[1;31m:\u001b[0m EOL while scanning string literal\n"
     ]
    }
   ],
   "source": [
    "#  error \n",
    "#  'Let's go!'"
   ]
  },
  {
   "cell_type": "code",
   "execution_count": 26,
   "metadata": {},
   "outputs": [
    {
     "data": {
      "text/plain": [
       "\"Let's go!\""
      ]
     },
     "execution_count": 26,
     "metadata": {},
     "output_type": "execute_result"
    }
   ],
   "source": [
    "\"Let's go!\""
   ]
  },
  {
   "cell_type": "code",
   "execution_count": 34,
   "metadata": {},
   "outputs": [
    {
     "data": {
      "text/plain": [
       "\"Let's go\""
      ]
     },
     "execution_count": 34,
     "metadata": {},
     "output_type": "execute_result"
    }
   ],
   "source": [
    "r\"Let's go\""
   ]
  },
  {
   "cell_type": "code",
   "execution_count": 35,
   "metadata": {},
   "outputs": [
    {
     "data": {
      "text/plain": [
       "'C:\\\\Winodws\\\\System32'"
      ]
     },
     "execution_count": 35,
     "metadata": {},
     "output_type": "execute_result"
    }
   ],
   "source": [
    "\"C:\\Winodws\\System32\""
   ]
  },
  {
   "cell_type": "code",
   "execution_count": 74,
   "metadata": {},
   "outputs": [
    {
     "name": "stdout",
     "output_type": "stream",
     "text": [
      "str = C:\n",
      "ow\n",
      "str1 = C:\\now\n",
      "str2 = C:\\now\n"
     ]
    }
   ],
   "source": [
    "str0 = \"C:\\now\"\n",
    "print(\"str0 =\", str0)\n",
    "\n",
    "str1 = \"C:\\\\now\"\n",
    "print(\"str1 =\", str1)\n",
    "\n",
    "str2 = r'C:\\now'               #原始字符串\n",
    "print(\"str2 =\", str2)"
   ]
  },
  {
   "cell_type": "code",
   "execution_count": null,
   "metadata": {
    "collapsed": true
   },
   "outputs": [],
   "source": [
    "# 3.5 改进小游戏， 3.6 if循环， 3.7 while循环， 3.8 引入外援"
   ]
  },
  {
   "cell_type": "code",
   "execution_count": 53,
   "metadata": {},
   "outputs": [
    {
     "name": "stdout",
     "output_type": "stream",
     "text": [
      "猜一猜小甲鱼，心中所想的数字：12\n",
      "实际数字更小一些。\n"
     ]
    }
   ],
   "source": [
    "# 3.6 if循环\n",
    "temp = input(\"猜一猜小甲鱼，心中所想的数字：\")\n",
    "guess = int(temp)\n",
    "secret = 10\n",
    "if guess == secret:\n",
    "    print(\"猜对了，你真棒！\")\n",
    "else:\n",
    "    if guess > secret:\n",
    "        print(\"实际数字更小一些。\")\n",
    "    else:\n",
    "        print(\"实际数字更大一些。\")\n"
   ]
  },
  {
   "cell_type": "code",
   "execution_count": 56,
   "metadata": {},
   "outputs": [
    {
     "name": "stdout",
     "output_type": "stream",
     "text": [
      "请猜猜小甲鱼心中所想的数字是什么？8\n",
      "猜对了，你太棒了！\n"
     ]
    }
   ],
   "source": [
    "secret = 8\n",
    "tmp = input(\"请猜猜小甲鱼心中所想的数字是什么？\")\n",
    "guess = int(tmp)\n",
    "\n",
    "if guess == secret:\n",
    "    print(\"猜对了，你太棒了！\")\n",
    "else:\n",
    "    if guess > secret:\n",
    "        print(\"实际的数字更小一些哦\")\n",
    "    else:\n",
    "        print(\"实际的数字更大一些哦\")\n"
   ]
  },
  {
   "cell_type": "code",
   "execution_count": 65,
   "metadata": {},
   "outputs": [
    {
     "name": "stdout",
     "output_type": "stream",
     "text": [
      "请小甲鱼输入你心中所想的数字：12.2\n",
      "请猜一猜小甲鱼的数字：13.2\n",
      "请重新输入一个数字吧：12.3\n",
      "猜大了，实际的数字更小一些。\n",
      "请重新输入一个数字吧：\n",
      "猜小了，实际的数字更大一些。\n",
      "请重新输入一个数字吧：\n",
      "猜小了，实际的数字更大一些。\n",
      "请重新输入一个数字吧：12.2\n",
      "猜对啦，你真棒！\n"
     ]
    }
   ],
   "source": [
    "# 3.7 while循环\n",
    "\n",
    "tmp1 = input(\"请小甲鱼输入你心中所想的数字：\")\n",
    "# secret = int(tmp1)\n",
    "secret = tmp1\n",
    "\n",
    "tmp2 = input(\"请猜一猜小甲鱼的数字：\")\n",
    "# guess = int(tmp2)\n",
    "guess = tmp2\n",
    "\n",
    "while secret != guess:\n",
    "    tmp3 = input(\"请重新输入一个数字吧：\")\n",
    "#    guess = int(tmp3)\n",
    "    guess = tmp3 \n",
    "    \n",
    "    if guess == secret:\n",
    "        print(\"猜对啦，你真棒！\")\n",
    "    else:\n",
    "        if secret > guess:\n",
    "            print(\"猜小了，实际的数字更大一些。\")\n",
    "        else:\n",
    "            print(\"猜大了，实际的数字更小一些。\")\n",
    "        "
   ]
  },
  {
   "cell_type": "code",
   "execution_count": 66,
   "metadata": {},
   "outputs": [
    {
     "name": "stdout",
     "output_type": "stream",
     "text": [
      "请猜一猜小甲鱼的数字：13\n",
      "dear, 实际数字更小一点哦。\n",
      "再输入一个数字：12\n",
      "dear, 实际数字更小一点哦。\n",
      "再输入一个数字：9\n",
      "dear, 实际数字更小一点哦。\n",
      "再输入一个数字：6\n",
      "猜对了，你真棒！\n",
      "游戏结束啦！\n"
     ]
    }
   ],
   "source": [
    "# 3.8 引入外援\n",
    "import random\n",
    "\n",
    "secret = random.randint(1,10);\n",
    "\n",
    "tmp1 = input(\"请猜一猜小甲鱼的数字：\")\n",
    "guess = int(tmp1)\n",
    "\n",
    "while guess != secret:\n",
    "    if guess > secret:\n",
    "        print(\"dear, 实际数字更小一点哦。\")\n",
    "    else:\n",
    "        print(\"dear, 实际数字更大一点哦。\")\n",
    "    \n",
    "    tmp2 = input(\"再输入一个数字：\")\n",
    "    guess = int(tmp2)\n",
    "    \n",
    "    if guess == secret:\n",
    "        print(\"猜对了，你真棒！\")\n",
    "\n",
    "print(\"游戏结束啦！\")"
   ]
  },
  {
   "cell_type": "code",
   "execution_count": null,
   "metadata": {
    "collapsed": true
   },
   "outputs": [],
   "source": [
    "# 3.9 闲聊数据类型\n",
    "    # 带引号的是字符串，单引号、双引号、三引号；不带引号的是数字；\n",
    "    # 字符串相加是拼接，数字相加是得到两个数字之和。\n",
    "\n",
    "# 3.9.1 整型\n",
    "    # Python3的整型已经与长整型，进行了无缝结合。长度基本不受限制，只受限于计算机的虚拟内存总数。\n",
    "\n",
    "# 3.9.2 浮点型\n",
    "    # Python 区分整型和浮点型的唯一方式是看有没有小数点。\n",
    "    # E记法：科学计数法，用于表示特别大或者特别小的数字。\n",
    "        # 底数为10，E后面的数字是10的幂数。\n",
    "\n",
    "# 3.9.3 布尔类型\n",
    "    # 布尔类型可以当做整数来对待：True 相当于整型值1，False 相当于整型值0.\n",
    "\n",
    "# 3.9.4 类型转换\n",
    "    # int(), float(), str() \n",
    "    # int()：将一个字符串或浮点数，转换成一个整数；\n",
    "        # 浮点数转整数，Python 会采取“截断”处理，把小数点后的数直接砍掉。\n",
    "    # float()：将一个字符串或者整数，转换成一个浮点数（小数）；\n",
    "    # str()：将一个数或者其他任何类型转换成一个字符串。\n",
    "\n",
    "# 3.9.5 获得关于类型的信息\n",
    "    # type()：告知变量的类型\n",
    "    # isinstance(num, type)：确定变量的类型，返回布尔型的值（True, False）\n",
    "        # 第一个变量num：待确定类型的数据；\n",
    "        # 第二个变量type：指定一个数据类型。\n"
   ]
  },
  {
   "cell_type": "code",
   "execution_count": 77,
   "metadata": {},
   "outputs": [
    {
     "data": {
      "text/plain": [
       "'5201314'"
      ]
     },
     "execution_count": 77,
     "metadata": {},
     "output_type": "execute_result"
    }
   ],
   "source": [
    "'520' + '1314'"
   ]
  },
  {
   "cell_type": "code",
   "execution_count": 79,
   "metadata": {},
   "outputs": [
    {
     "data": {
      "text/plain": [
       "1834"
      ]
     },
     "execution_count": 79,
     "metadata": {},
     "output_type": "execute_result"
    }
   ],
   "source": [
    "520 + 1314"
   ]
  },
  {
   "cell_type": "code",
   "execution_count": 97,
   "metadata": {},
   "outputs": [
    {
     "name": "stdout",
     "output_type": "stream",
     "text": [
      "a = 2.5e-10\n",
      "b = 8.6e+20\n",
      "c = 86000000000.0\n",
      "d = 0.0008\n"
     ]
    }
   ],
   "source": [
    "# 浮点数\n",
    "a = 0.00000000025\n",
    "print(\"a =\", a)\n",
    "\n",
    "b = 8.6E20\n",
    "print(\"b =\", b)\n",
    "\n",
    "c = 8.6E+10\n",
    "print(\"c =\", c)\n",
    "\n",
    "d = 8E-4\n",
    "print(\"d =\", d)\n"
   ]
  },
  {
   "cell_type": "code",
   "execution_count": 99,
   "metadata": {},
   "outputs": [
    {
     "name": "stdout",
     "output_type": "stream",
     "text": [
      "a = 2\n",
      "b = 0\n"
     ]
    }
   ],
   "source": [
    "# 布尔类型\n",
    "a = True + True\n",
    "print(\"a =\",a)\n",
    "\n",
    "b = True * False\n",
    "print(\"b =\", b)\n"
   ]
  },
  {
   "cell_type": "code",
   "execution_count": 109,
   "metadata": {},
   "outputs": [
    {
     "name": "stdout",
     "output_type": "stream",
     "text": [
      "a = 520   b = 520\n"
     ]
    },
    {
     "ename": "TypeError",
     "evalue": "must be str, not int",
     "output_type": "error",
     "traceback": [
      "\u001b[1;31m---------------------------------------------------------------------------\u001b[0m",
      "\u001b[1;31mTypeError\u001b[0m                                 Traceback (most recent call last)",
      "\u001b[1;32m<ipython-input-109-e0a3624e8c81>\u001b[0m in \u001b[0;36m<module>\u001b[1;34m()\u001b[0m\n\u001b[0;32m      4\u001b[0m \u001b[0mprint\u001b[0m\u001b[1;33m(\u001b[0m\u001b[1;34m\"a =\"\u001b[0m\u001b[1;33m,\u001b[0m \u001b[0ma\u001b[0m\u001b[1;33m,\u001b[0m \u001b[1;34m\"  b =\"\u001b[0m\u001b[1;33m,\u001b[0m \u001b[0mb\u001b[0m\u001b[1;33m)\u001b[0m\u001b[1;33m\u001b[0m\u001b[0m\n\u001b[0;32m      5\u001b[0m \u001b[1;33m\u001b[0m\u001b[0m\n\u001b[1;32m----> 6\u001b[1;33m \u001b[0mc\u001b[0m \u001b[1;33m=\u001b[0m \u001b[0ma\u001b[0m \u001b[1;33m+\u001b[0m \u001b[0mb\u001b[0m\u001b[1;33m\u001b[0m\u001b[0m\n\u001b[0m\u001b[0;32m      7\u001b[0m \u001b[0mprint\u001b[0m\u001b[1;33m(\u001b[0m\u001b[1;34m\"c =\"\u001b[0m\u001b[1;33m,\u001b[0m \u001b[0mc\u001b[0m\u001b[1;33m)\u001b[0m\u001b[1;33m\u001b[0m\u001b[0m\n",
      "\u001b[1;31mTypeError\u001b[0m: must be str, not int"
     ]
    }
   ],
   "source": [
    "# int() 字符串 ——> 整数\n",
    "a = '520'\n",
    "b = int(a)\n",
    "print(\"a =\", a, \"  b =\", b)\n",
    "\n",
    "# error example，字符串与整数不能相加\n",
    "c = a + b\n",
    "print(\"c =\", c)\n"
   ]
  },
  {
   "cell_type": "code",
   "execution_count": 110,
   "metadata": {},
   "outputs": [
    {
     "name": "stdout",
     "output_type": "stream",
     "text": [
      "a = 5.9999   b = 5\n"
     ]
    }
   ],
   "source": [
    "# int()：浮点数 ——> 整数\n",
    "\n",
    "a = 5.9999\n",
    "b = int(a)\n",
    "print(\"a =\", a, \"  b =\", b)\n"
   ]
  },
  {
   "cell_type": "code",
   "execution_count": 112,
   "metadata": {},
   "outputs": [
    {
     "name": "stdout",
     "output_type": "stream",
     "text": [
      "a = 520\n",
      "b = 520.0\n"
     ]
    },
    {
     "ename": "TypeError",
     "evalue": "must be str, not float",
     "output_type": "error",
     "traceback": [
      "\u001b[1;31m---------------------------------------------------------------------------\u001b[0m",
      "\u001b[1;31mTypeError\u001b[0m                                 Traceback (most recent call last)",
      "\u001b[1;32m<ipython-input-112-b886b989db9e>\u001b[0m in \u001b[0;36m<module>\u001b[1;34m()\u001b[0m\n\u001b[0;32m      5\u001b[0m \u001b[0mprint\u001b[0m\u001b[1;33m(\u001b[0m\u001b[1;34m\"b =\"\u001b[0m\u001b[1;33m,\u001b[0m \u001b[0mb\u001b[0m\u001b[1;33m)\u001b[0m\u001b[1;33m\u001b[0m\u001b[0m\n\u001b[0;32m      6\u001b[0m \u001b[1;33m\u001b[0m\u001b[0m\n\u001b[1;32m----> 7\u001b[1;33m \u001b[0ma\u001b[0m \u001b[1;33m+\u001b[0m \u001b[0mb\u001b[0m\u001b[1;33m\u001b[0m\u001b[0m\n\u001b[0m",
      "\u001b[1;31mTypeError\u001b[0m: must be str, not float"
     ]
    }
   ],
   "source": [
    "# float()：字符串 ——> 浮点数\n",
    "a = '520'\n",
    "b = float(a)\n",
    "print(\"a =\", a)\n",
    "print(\"b =\", b)\n",
    "\n",
    "a + b\n"
   ]
  },
  {
   "cell_type": "code",
   "execution_count": 114,
   "metadata": {},
   "outputs": [
    {
     "name": "stdout",
     "output_type": "stream",
     "text": [
      "c = 234\n",
      "d = 234.0\n",
      "e = 468.0\n"
     ]
    }
   ],
   "source": [
    "# float(): 整数 ——> 浮点数\n",
    "c = 234\n",
    "d = float(c)\n",
    "print(\"c =\", c)\n",
    "print(\"d =\", d)\n",
    "\n",
    "e = c + d\n",
    "print(\"e =\", e)\n"
   ]
  },
  {
   "cell_type": "code",
   "execution_count": 3,
   "metadata": {},
   "outputs": [
    {
     "name": "stdout",
     "output_type": "stream",
     "text": [
      "a = 5.9999\n",
      "b = 5.9999\n"
     ]
    }
   ],
   "source": [
    "# str()：数 ——> 字符串\n",
    "a = 5.9999\n",
    "b = str(a)\n",
    "c = str(5.9999)\n",
    "\n",
    "print(\"a =\", a)\n",
    "print(\"b =\", b)\n"
   ]
  },
  {
   "cell_type": "code",
   "execution_count": 129,
   "metadata": {},
   "outputs": [
    {
     "name": "stdout",
     "output_type": "stream",
     "text": [
      "type(\"520\") = <class 'int'>\n",
      "type(520) = <class 'int'>\n",
      "type(5.20) = <class 'float'>\n",
      "type(5e-2) = <class 'float'>\n",
      "type(True) = <class 'bool'>\n"
     ]
    }
   ],
   "source": [
    "# type()\n",
    "print('type(\"520\") =', type(520))\n",
    "print(\"type(520) =\", type(520))\n",
    "\n",
    "print('type(5.20) =', type(5.20))\n",
    "print(\"type(5e-2) =\", type(5e-2))\n",
    "\n",
    "print(\"type(True) =\", type(True))\n"
   ]
  },
  {
   "cell_type": "code",
   "execution_count": 131,
   "metadata": {},
   "outputs": [
    {
     "data": {
      "text/plain": [
       "True"
      ]
     },
     "execution_count": 131,
     "metadata": {},
     "output_type": "execute_result"
    }
   ],
   "source": [
    "# instance(num, type)\n",
    "isinstance(5,int)\n"
   ]
  },
  {
   "cell_type": "code",
   "execution_count": 132,
   "metadata": {},
   "outputs": [
    {
     "data": {
      "text/plain": [
       "True"
      ]
     },
     "execution_count": 132,
     "metadata": {},
     "output_type": "execute_result"
    }
   ],
   "source": [
    "isinstance(5.20, float)\n"
   ]
  },
  {
   "cell_type": "code",
   "execution_count": 1,
   "metadata": {},
   "outputs": [
    {
     "name": "stdout",
     "output_type": "stream",
     "text": [
      "True\n"
     ]
    }
   ],
   "source": [
    "a = '小甲鱼'\n",
    "print(isinstance(a, str))\n"
   ]
  },
  {
   "cell_type": "code",
   "execution_count": null,
   "metadata": {
    "collapsed": true
   },
   "outputs": [],
   "source": [
    "# 3.10 常用操作符\n",
    "# 3.10.1 算数操作符\n",
    "    # 地板除，/表示结果为浮点数，//表示结果为整数。\n",
    "    # 取余 %\n",
    "    # 幂运算 **\n",
    "    # 符合运算, +=   -=    *=    /=    //=  \n",
    "    \n",
    "# 3.10.2 优先级问题\n",
    "    # 幂运算、正负符号、加减乘除、比较、逻辑\n",
    "\n",
    "# 3.10.3 比较操作符\n",
    "    # 根据表达式的值得真假，返回布尔类型的值。\n",
    "    # >  <   >=   <=    ==    !=\n",
    "\n",
    "# 3.10.4 逻辑操作符\n",
    "    # and     or     not\n"
   ]
  },
  {
   "cell_type": "code",
   "execution_count": 143,
   "metadata": {},
   "outputs": [
    {
     "name": "stdout",
     "output_type": "stream",
     "text": [
      "a = 11\n",
      "b = 8\n",
      "c = 30\n",
      "d = 3.3333333333333335\n",
      "f = 3\n",
      "g = 2\n",
      "h1 = 1024\n",
      "h2 = 0.25\n",
      "h3 = -4\n"
     ]
    }
   ],
   "source": [
    "# 算数操作符\n",
    "a = b = c = d = e = f = 10\n",
    "\n",
    "a += 1\n",
    "print(\"a =\", a)\n",
    "\n",
    "b -= 2\n",
    "print(\"b =\",b)\n",
    "\n",
    "c *= 3\n",
    "print(\"c =\", c)\n",
    "\n",
    "d /= 3\n",
    "print(\"d =\", d)\n",
    "\n",
    "f //= 3\n",
    "print(\"f =\", f)\n",
    "\n",
    "# 取余 %\n",
    "g = a % 3\n",
    "print(\"g =\", g)\n",
    "\n",
    "# 幂运算 **\n",
    "h1 = g**10\n",
    "print(\"h1 =\", h1)\n",
    "\n",
    "h2 = g ** -2\n",
    "print(\"h2 =\", h2)\n",
    "\n",
    "h3 = -g ** 2\n",
    "print(\"h3 =\", h3)\n"
   ]
  },
  {
   "cell_type": "code",
   "execution_count": 144,
   "metadata": {},
   "outputs": [
    {
     "data": {
      "text/plain": [
       "False"
      ]
     },
     "execution_count": 144,
     "metadata": {},
     "output_type": "execute_result"
    }
   ],
   "source": [
    "not True\n"
   ]
  },
  {
   "cell_type": "code",
   "execution_count": 145,
   "metadata": {},
   "outputs": [
    {
     "data": {
      "text/plain": [
       "True"
      ]
     },
     "execution_count": 145,
     "metadata": {},
     "output_type": "execute_result"
    }
   ],
   "source": [
    "not 0"
   ]
  },
  {
   "cell_type": "code",
   "execution_count": 146,
   "metadata": {},
   "outputs": [
    {
     "data": {
      "text/plain": [
       "False"
      ]
     },
     "execution_count": 146,
     "metadata": {},
     "output_type": "execute_result"
    }
   ],
   "source": [
    "not 4"
   ]
  },
  {
   "cell_type": "code",
   "execution_count": null,
   "metadata": {
    "collapsed": true
   },
   "outputs": [],
   "source": []
  }
 ],
 "metadata": {
  "kernelspec": {
   "display_name": "Python 3",
   "language": "python",
   "name": "python3"
  },
  "language_info": {
   "codemirror_mode": {
    "name": "ipython",
    "version": 3
   },
   "file_extension": ".py",
   "mimetype": "text/x-python",
   "name": "python",
   "nbconvert_exporter": "python",
   "pygments_lexer": "ipython3",
   "version": "3.6.2"
  }
 },
 "nbformat": 4,
 "nbformat_minor": 2
}
