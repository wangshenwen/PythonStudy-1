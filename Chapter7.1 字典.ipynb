{
 "cells": [
  {
   "cell_type": "code",
   "execution_count": 1,
   "metadata": {
    "collapsed": true
   },
   "outputs": [],
   "source": [
    "# 字典\n",
    "    # 创建和访问字典\n",
    "    # 各种内置方法\n",
    "    "
   ]
  },
  {
   "cell_type": "code",
   "execution_count": null,
   "metadata": {
    "collapsed": true
   },
   "outputs": [],
   "source": [
    "# Python 中的字典，有些地方也叫哈希(Hash)，有些地方叫关系数组。\n",
    "\n",
    "# 字典的使用\n",
    "    # 字典的标志性符号：大括号 {} ；\n",
    "    # 字典由多个键及对应的值共同构成，每一对键值组合称为项。\n",
    "\n",
    "# 字典的创建\n",
    "    # 直接使用大括号，声明一个空字典；\n",
    "    # 使用 dict() 来创建字典；\n",
    "    # 使用具有映射关系的参数，来创建字典；\n",
    "    # 直接给字典的键赋值\n",
    "        # 若键不存在，则创建一个新的键并赋值；\n",
    "        # 若键存在，则改写键对应的值。\n",
    "\n",
    "# 注意：\n",
    "    # 字典的键，必须独一无二，而值可以取任意类型，但必须是不可改变的（如：数、字符串、元组）。\n",
    "    # 字典跟序列不同：\n",
    "        # 序列讲究顺序，字典不讲究顺序，讲究映射；\n",
    "        # 赋值\n",
    "            # 在序列中，试图为一个不存在的位置赋值时，会报错；\n",
    "            # 但若在在字典中，会自动创建相应的键，并添加对应的值进去。\n"
   ]
  },
  {
   "cell_type": "code",
   "execution_count": 2,
   "metadata": {},
   "outputs": [
    {
     "name": "stdout",
     "output_type": "stream",
     "text": [
      "dict1 = {'李宁': '一切皆有可能', '耐克': 'Just do it', '阿迪达斯': 'Impossible is nothing'}\n",
      "dict1 = {'李宁': '一切皆有可能', '耐克': 'Just do it', '阿迪达斯': 'Impossible is nothing'}\n",
      "\n",
      "李宁的口号是： 一切皆有可能\n"
     ]
    }
   ],
   "source": [
    "# 字典的使用\n",
    "dict1 = {\"李宁\":\"一切皆有可能\", \"耐克\":\"Just do it\", \"阿迪达斯\":\"Impossible is nothing\"}\n",
    "print(\"dict1 =\", dict1)\n",
    "print(\"dict1 =\", dict1)\n",
    "print()\n",
    "print(\"李宁的口号是：\",dict1[\"李宁\"])\n"
   ]
  },
  {
   "cell_type": "code",
   "execution_count": 6,
   "metadata": {},
   "outputs": [
    {
     "name": "stdout",
     "output_type": "stream",
     "text": [
      "empty = {} , type(empty) = <class 'dict'>\n"
     ]
    }
   ],
   "source": [
    "# 字典的创建 —— 直接用大括号，声明一个空字典。\n",
    "\n",
    "empty = {}\n",
    "print(\"empty =\", empty, \", type(empty) =\", type(empty))\n"
   ]
  },
  {
   "cell_type": "code",
   "execution_count": 5,
   "metadata": {},
   "outputs": [
    {
     "name": "stdout",
     "output_type": "stream",
     "text": [
      "dict2 = {'F': 70, 'i': 108, 's': 99, 'h': 27, 'C': 67}\n",
      "dict3 = {'a': 1, 'b': 2, 'c': 3, 'd': 4}\n"
     ]
    }
   ],
   "source": [
    "# 字典的创建 —— 使用dict() 函数，创建字典。\n",
    "    # 因为 dict() 函数的参数可以是一个序列（但不能是多个），\n",
    "    # 所以，要打包成一个元组序列（列表也可以）。\n",
    "    \n",
    "dict2 = dict((('F',70),('i',108),('s',99),('h',27),('C', 67)))\n",
    "print(\"dict2 =\", dict2)\n",
    "\n",
    "\n",
    "dict3 = dict([('a',1),('b',2),('c',3),('d',4)])\n",
    "print(\"dict3 =\", dict3)\n"
   ]
  },
  {
   "cell_type": "code",
   "execution_count": 11,
   "metadata": {},
   "outputs": [
    {
     "name": "stdout",
     "output_type": "stream",
     "text": [
      "dict4 = {'a': 11, 'b': 22, 'c': 33, 'd': 44}\n",
      "dict6 = {'a': 111, 'b': 222, 'c': 333}\n"
     ]
    }
   ],
   "source": [
    "# 字典的创建 —— 使用具有映射关系的参数，创建字典。\n",
    "dict4 = dict(a=11, b=22, c=33, d=44)\n",
    "print(\"dict4 =\", dict4)\n",
    "\n",
    "# 注意：键的位置上，不能使用字符串的引号，否则会报错。\n",
    "# dict5 = dict('a'=11, 'b'=22, 'c'=33, 'd'=44)\n",
    "# print(\"dict5 =\", dict5)\n",
    "\n",
    "dict6 = dict(zip(['a','b','c'],[111,222,333]))\n",
    "print(\"dict6 =\", dict6)\n"
   ]
  },
  {
   "cell_type": "code",
   "execution_count": 16,
   "metadata": {},
   "outputs": [
    {
     "name": "stdout",
     "output_type": "stream",
     "text": [
      "dict7 = {'a': 123, 'b': 234, 'c': 345}\n",
      "dict7 = {'a': 123, 'b': 999, 'c': 345}\n",
      "dict7 = {'a': 123, 'b': 999, 'c': 345, 'd': 456}\n"
     ]
    }
   ],
   "source": [
    "# 字典的创建 —— 直接给字典的键赋值。\n",
    "    # 若键不存在，创建一个新的键，并赋值；\n",
    "    # 若键存在，改写对应的键的值。\n",
    "    \n",
    "dict7 = {'a':123, 'b':234, 'c':345}\n",
    "print(\"dict7 =\", dict7)\n",
    "\n",
    "dict7['b'] = 999\n",
    "print(\"dict7 =\", dict7)\n",
    "\n",
    "dict7['d'] = 456\n",
    "print(\"dict7 =\", dict7)"
   ]
  },
  {
   "cell_type": "code",
   "execution_count": null,
   "metadata": {
    "collapsed": true
   },
   "outputs": [],
   "source": []
  },
  {
   "cell_type": "code",
   "execution_count": null,
   "metadata": {
    "collapsed": true
   },
   "outputs": [],
   "source": [
    "# 字典的内置方法\n",
    "    # fromkeys()\n",
    "    # keys(), values(), items()\n",
    "    # get()\n",
    "    # copy()\n",
    "    # pop(), popitem()\n",
    "    # update()\n",
    "    "
   ]
  },
  {
   "cell_type": "code",
   "execution_count": 13,
   "metadata": {},
   "outputs": [
    {
     "name": "stdout",
     "output_type": "stream",
     "text": [
      "dict8_1 = {1: None, 2: None, 3: None}\n",
      "dict8_2 = {1: None, 2: None, 3: None}\n",
      "dict8_3 = {1: None, 2: None, 3: None}\n",
      "\n",
      "dict9_1 = {1: 'Number', 2: 'Number', 3: 'Number'}\n",
      "dict9_2 = {1: ('one', 'two', 'three', 'four'), 2: ('one', 'two', 'three', 'four'), 3: ('one', 'two', 'three', 'four')}\n",
      "\n"
     ]
    }
   ],
   "source": [
    "# 字典的内置方法 —— fromkeys()\n",
    "# fromkeys()：创建一个新的字典，有两个参数。\n",
    "            # 第一个参数是字典的键；\n",
    "            # 第二个参数是可选的，是传入键对应的值，若不提供，对应为None。\n",
    "\n",
    "dict8 = {}\n",
    "dict8_1 = dict8.fromkeys((1,2,3,))\n",
    "dict8_2 = dict8.fromkeys((1,2,3))\n",
    "dict8_3 = dict8.fromkeys([1,2,3])\n",
    "print(\"dict8_1 =\", dict8_1)\n",
    "print(\"dict8_2 =\", dict8_2)\n",
    "print(\"dict8_3 =\", dict8_3)\n",
    "print()\n",
    "\n",
    "dict9 = {}\n",
    "dict9_1 = dict9.fromkeys((1,2,3),\"Number\")\n",
    "dict9_2 = dict9.fromkeys((1,2,3),(\"one\", \"two\", \"three\", \"four\"))\n",
    "print(\"dict9_1 =\", dict9_1)\n",
    "print(\"dict9_2 =\", dict9_2)\n",
    "print()\n"
   ]
  },
  {
   "cell_type": "code",
   "execution_count": 44,
   "metadata": {},
   "outputs": [
    {
     "name": "stdout",
     "output_type": "stream",
     "text": [
      "dict10 = {0: '赞', 1: '赞', 2: '赞', 3: '赞', 4: '赞', 5: '赞', 6: '赞', 7: '赞', 8: '赞', 9: '赞', 10: '赞', 11: '赞', 12: '赞', 13: '赞', 14: '赞', 15: '赞', 16: '赞', 17: '赞', 18: '赞', 19: '赞', 20: '赞', 21: '赞', 22: '赞', 23: '赞', 24: '赞', 25: '赞', 26: '赞', 27: '赞', 28: '赞', 29: '赞'}\n",
      "\n",
      "type(dict10_1) = <class 'dict_keys'>\n",
      "dict10_1 = dict_keys([0, 1, 2, 3, 4, 5, 6, 7, 8, 9, 10, 11, 12, 13, 14, 15, 16, 17, 18, 19, 20, 21, 22, 23, 24, 25, 26, 27, 28, 29])\n",
      "\n",
      "type(dict10_2) = <class 'dict_values'>\n",
      "dict10_2 = dict_values(['赞', '赞', '赞', '赞', '赞', '赞', '赞', '赞', '赞', '赞', '赞', '赞', '赞', '赞', '赞', '赞', '赞', '赞', '赞', '赞', '赞', '赞', '赞', '赞', '赞', '赞', '赞', '赞', '赞', '赞'])\n",
      "\n",
      "type(dict10_3) = <class 'dict_items'>\n",
      "dict10_3 = dict_items([(0, '赞'), (1, '赞'), (2, '赞'), (3, '赞'), (4, '赞'), (5, '赞'), (6, '赞'), (7, '赞'), (8, '赞'), (9, '赞'), (10, '赞'), (11, '赞'), (12, '赞'), (13, '赞'), (14, '赞'), (15, '赞'), (16, '赞'), (17, '赞'), (18, '赞'), (19, '赞'), (20, '赞'), (21, '赞'), (22, '赞'), (23, '赞'), (24, '赞'), (25, '赞'), (26, '赞'), (27, '赞'), (28, '赞'), (29, '赞')])\n",
      "\n"
     ]
    }
   ],
   "source": [
    "# 字典的内置方法 —— keys(), values(), items()\n",
    "# 访问字典的方法，有三个：\n",
    "    # keys()：返回字典中的键；\n",
    "    # values()：返回字典中的值；\n",
    "    # items()：返回字典中的键值对。\n",
    "    \n",
    "dict10 = {}\n",
    "dict10 = dict10.fromkeys(range(30),\"赞\")\n",
    "print(\"dict10 =\", dict10)\n",
    "print()\n",
    "\n",
    "dict10_1 = dict10.keys()\n",
    "print(\"type(dict10_1) =\", type(dict10_1))\n",
    "print(\"dict10_1 =\", dict10_1)\n",
    "print()\n",
    "\n",
    "dict10_2 = dict10.values()\n",
    "print(\"type(dict10_2) =\", type(dict10_2))\n",
    "print(\"dict10_2 =\", dict10_2)\n",
    "print()\n",
    "\n",
    "dict10_3 = dict10.items()\n",
    "print(\"type(dict10_3) =\", type(dict10_3))\n",
    "print(\"dict10_3 =\", dict10_3)\n",
    "print()\n"
   ]
  },
  {
   "cell_type": "code",
   "execution_count": 31,
   "metadata": {},
   "outputs": [
    {
     "name": "stdout",
     "output_type": "stream",
     "text": [
      "dict11 = {0: 'qun', 1: 'qun', 2: 'qun', 3: 'qun', 4: 'qun', 5: 'qun', 6: 'qun', 7: 'qun', 8: 'qun', 9: 'qun', 10: 'qun', 11: 'qun', 12: 'qun', 13: 'qun', 14: 'qun', 15: 'qun', 16: 'qun', 17: 'qun', 18: 'qun', 19: 'qun'}\n",
      "dict11[10] = qun\n",
      "dict11[21] = None\n",
      "\n",
      "dict11[21] = 该值不存在\n",
      "\n",
      "19 in dict11 True\n",
      "21 in dict11 False\n"
     ]
    }
   ],
   "source": [
    "# 字典的内置方法 —— get()\n",
    "# get()方法：提供了更宽松的方式去访问字典。\n",
    "    # 当键不存在时，get() 方法不会报错，只会默默返回一个None，表示啥都没找到；\n",
    "        # 若不用get()方法，直接用下标访问字典中的项，若不存在，会报错。\n",
    "    # 如果希望找不到数据时，返回指定的值，可以在第二个参数设置对应的默认返回值；\n",
    "# 如果不知道一个键是否在字典中，可以使用成员资格操作符(in 或 not in)来判断。\n",
    "# 在字典中检查成员资格。\n",
    "\n",
    "\n",
    "dict11 = {}\n",
    "dict11 = dict11.fromkeys(range(20),\"qun\")\n",
    "print(\"dict11 =\", dict11)\n",
    "\n",
    "# 用下标，访问字典中不存在的项，会报错。\n",
    "# dict11[21]\n",
    "\n",
    "# 用 get() 方法访问字典中的项\n",
    "print(\"dict11[10] =\", dict11.get(10))\n",
    "print(\"dict11[21] =\", dict11.get(21))\n",
    "print()\n",
    "\n",
    "# 用get() 方法访问字典中的项\n",
    "print(\"dict11[21] =\", dict11.get(21,\"该值不存在\"))\n",
    "print()\n",
    "\n",
    "# 不知道一个键是否在字典中，用成员资格操作符来判断。\n",
    "print(\"19 in dict11\", 19 in dict11)\n",
    "print(\"21 in dict11\", 21 in dict11)\n",
    "print()\n",
    "\n",
    "# 在字典中检查键的成员资格，比序列更高效。\n",
    "    # 在字典中，查找的是键，不是值；\n",
    "    # 在序列中，查找的是元素值，不是元素的索引。\n"
   ]
  },
  {
   "cell_type": "code",
   "execution_count": 39,
   "metadata": {},
   "outputs": [
    {
     "name": "stdout",
     "output_type": "stream",
     "text": [
      "dict11 = {}\n",
      "dict11 = {}\n",
      "\n",
      "a = {'姓名': '小甲鱼'}\n",
      "b = {'姓名': '小甲鱼'}\n",
      "a = {}\n",
      "b = {'姓名': '小甲鱼'}\n",
      "\n",
      "a1 = {'年龄': '18'}\n",
      "b1 = {'年龄': '18'}\n",
      "a1 = {}\n",
      "b1 = {}\n"
     ]
    }
   ],
   "source": [
    "# 清空一个字典 —— clear()方法\n",
    "print(\"dict11 =\", dict11)\n",
    "dict11.clear()\n",
    "\n",
    "print(\"dict11 =\", dict11)\n",
    "print()\n",
    "\n",
    "# 使用变量名赋值为一个空字典的方法，来清空字典，存在一定的弊端；\n",
    "# 原字典并没有被真正的清空，只是变量指向了新的空字典；\n",
    "# 这种做法，在一定条件下，有安全隐患，比如：账户的数据和密码等资料，可能被窃取。\n",
    "\n",
    "a = {\"姓名\":\"小甲鱼\"}\n",
    "b = a\n",
    "print(\"a =\",a)\n",
    "print(\"b =\",b)\n",
    "\n",
    "a = {}\n",
    "print(\"a =\",a)\n",
    "print(\"b =\",b)\n",
    "print()\n",
    "\n",
    "# 推荐的清空做法：使用clear() 方法。\n",
    "a1 = {\"年龄\":\"18\"}\n",
    "b1 = a1\n",
    "print(\"a1 =\", a1)\n",
    "print(\"b1 =\", b1)\n",
    "a1.clear()\n",
    "print(\"a1 =\", a1)\n",
    "print(\"b1 =\", b1)\n"
   ]
  },
  {
   "cell_type": "code",
   "execution_count": 52,
   "metadata": {},
   "outputs": [
    {
     "name": "stdout",
     "output_type": "stream",
     "text": [
      "type(a) = <class 'dict'>\n",
      "a = {1: 'one', 2: 'two', 3: 'three', 4: 'four'}\n",
      "id(a) = 113552336\n",
      "\n",
      "type(b) = <class 'dict'>\n",
      "b = {1: 'one', 2: 'two', 3: 'three', 4: 'four'}\n",
      "id(b) = 113552120\n",
      "\n",
      "id(a) = 113552336 , type(a) = <class 'dict'>\n",
      "a = {1: 'eleven', 2: 'two', 3: 'three', 4: 'four'}\n",
      "\n",
      "id(b) = 113552120 , type(b) = <class 'dict'>\n",
      "b = {1: 'one', 2: 'two', 3: 'three', 4: 'four'}\n",
      "\n"
     ]
    }
   ],
   "source": [
    "# 字典的内置方法 —— copy()：复制字典\n",
    "a = dict(((1,'one'),(2,'two'),(3,'three'),(4,'four')))\n",
    "print(\"type(a) =\", type(a))\n",
    "print(\"a =\", a)\n",
    "print(\"id(a) =\", id(a))\n",
    "print()\n",
    "\n",
    "b = a.copy()\n",
    "print(\"type(b) =\", type(b))\n",
    "print(\"b =\", b)\n",
    "print(\"id(b) =\",id(b))\n",
    "print()\n",
    "\n",
    "a[1]='eleven'\n",
    "print(\"id(a) =\",id(a),\", type(a) =\", type(a))\n",
    "print(\"a =\", a)\n",
    "print()\n",
    "\n",
    "print(\"id(b) =\", id(b), \", type(b) =\", type(b))\n",
    "print(\"b =\", b)\n",
    "print()\n"
   ]
  },
  {
   "cell_type": "code",
   "execution_count": 64,
   "metadata": {},
   "outputs": [
    {
     "name": "stdout",
     "output_type": "stream",
     "text": [
      "a = {1: 'one', 2: 'two', 3: 'three', 4: 'four', 5: 'five'}\n",
      "a1 = two\n",
      "a1 = two\n",
      "a2 = five\n",
      "a = {1: 'one', 3: 'three', 4: 'four'}\n",
      "\n",
      "a3 = (4, 'four')\n",
      "a = {1: 'one', 3: 'three'}\n",
      "a3 = (4, 'four')\n",
      "a = {1: 'one', 3: 'three'}\n"
     ]
    }
   ],
   "source": [
    "# 字典的内置方法 —— pop() 与 popitem()\n",
    "# pop()：给定键，弹出对应的值；\n",
    "# popitem()：弹出一个项。\n",
    "\n",
    "a = {1:\"one\",2:\"two\",3:\"three\",4:\"four\",5:\"five\"}\n",
    "print(\"a =\", a)\n",
    "a1 = a.pop(2)\n",
    "a2 = a.pop(5)\n",
    "print(\"a1 =\", a1)\n",
    "print(\"a1 =\", a1)\n",
    "print(\"a2 =\", a2)\n",
    "print(\"a =\", a)\n",
    "print()\n",
    "\n",
    "a3 = a.popitem()\n",
    "print(\"a3 =\", a3)\n",
    "print(\"a =\", a)\n",
    "print(\"a3 =\", a3)\n",
    "print(\"a =\", a)"
   ]
  },
  {
   "cell_type": "code",
   "execution_count": 68,
   "metadata": {},
   "outputs": [
    {
     "name": "stdout",
     "output_type": "stream",
     "text": [
      "a1 = three\n",
      "a2 = None\n",
      "a = {1: 'one', 2: 'two', 3: 'three', 4: 'four', 5: 'five', 8: None}\n"
     ]
    }
   ],
   "source": [
    "# setdefault() —— 在字典中找不到相应的键时，会自动添加。\n",
    "\n",
    "a = {1:\"one\", 2:\"two\", 3:\"three\", 4:\"four\", 5:\"five\"}\n",
    "a1 = a.setdefault(3)\n",
    "print(\"a1 =\", a1)\n",
    "\n",
    "a2 = a.setdefault(8)\n",
    "print(\"a2 =\", a2)\n",
    "\n",
    "print(\"a =\", a)\n"
   ]
  },
  {
   "cell_type": "code",
   "execution_count": 70,
   "metadata": {},
   "outputs": [
    {
     "name": "stdout",
     "output_type": "stream",
     "text": [
      "pets = {'米奇': '老鼠', '汤姆': '猫', '小白': '猪'}\n",
      "pets = {'米奇': '老鼠', '汤姆': '猫', '小白': '臭猪猪'}\n"
     ]
    }
   ],
   "source": [
    "# 字典的内置方法 —— update()：更新字典\n",
    "pets = {\"米奇\":\"老鼠\", \"汤姆\":\"猫\", \"小白\":\"猪\"}\n",
    "print(\"pets =\", pets)\n",
    "\n",
    "pets.update(小白=\"臭猪猪\")\n",
    "print(\"pets =\", pets)\n"
   ]
  },
  {
   "cell_type": "code",
   "execution_count": 77,
   "metadata": {},
   "outputs": [
    {
     "name": "stdout",
     "output_type": "stream",
     "text": [
      "有 4 个参数\n",
      "它们分别是： {'a': 1, 'b': 2, 'c': 3, 'd': 4}\n",
      "\n",
      "a = {'one': 'oneone', 'two': 'twotwo', 'thr': 'thrthr', 'four': 'fourfour', 'five': 'fivefive'}\n",
      "有 5 个参数\n",
      "它们分别是： {'one': 'oneone', 'two': 'twotwo', 'thr': 'thrthr', 'four': 'fourfour', 'five': 'fivefive'}\n",
      "\n"
     ]
    }
   ],
   "source": [
    "# 收集参数\n",
    "    # 以元组打包，一个星号；\n",
    "    # 以字典打包，两个星号；\n",
    "\n",
    "def test(** params):\n",
    "    print(\"有 %d 个参数\" % len(params))\n",
    "    print(\"它们分别是：\",params)\n",
    "  \n",
    "test(a=1,b=2,c=3,d=4)\n",
    "print()\n",
    "\n",
    "# 当参数带两个星号时，传递给函数的任意一个 key=value 实参，会被打包进一个字典。\n",
    "# 有打包，就有解包。\n",
    "a = {\"one\":\"oneone\", \"two\":\"twotwo\",\"thr\":\"thrthr\",\"four\":\"fourfour\",\"five\":\"fivefive\"}\n",
    "print(\"a =\", a)\n",
    "\n",
    "test(**a)\n",
    "print()\n"
   ]
  },
  {
   "cell_type": "code",
   "execution_count": null,
   "metadata": {
    "collapsed": true
   },
   "outputs": [],
   "source": []
  }
 ],
 "metadata": {
  "kernelspec": {
   "display_name": "Python 3",
   "language": "python",
   "name": "python3"
  },
  "language_info": {
   "codemirror_mode": {
    "name": "ipython",
    "version": 3
   },
   "file_extension": ".py",
   "mimetype": "text/x-python",
   "name": "python",
   "nbconvert_exporter": "python",
   "pygments_lexer": "ipython3",
   "version": "3.6.2"
  }
 },
 "nbformat": 4,
 "nbformat_minor": 2
}
