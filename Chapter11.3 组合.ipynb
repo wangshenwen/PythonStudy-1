{
 "cells": [
  {
   "cell_type": "code",
   "execution_count": 1,
   "metadata": {
    "collapsed": true
   },
   "outputs": [],
   "source": [
    "# 组合：直接把需要的类，放进去实例化，就可以了。"
   ]
  },
  {
   "cell_type": "code",
   "execution_count": 4,
   "metadata": {},
   "outputs": [
    {
     "name": "stdout",
     "output_type": "stream",
     "text": [
      "水池里共有乌龟10只，小鱼100条。\n"
     ]
    }
   ],
   "source": [
    "# 一个水池，水池里有乌龟和鱼。\n",
    "# 乌龟和鱼，不是同一个物种，不用继承，用组合。\n",
    "\n",
    "class Turtle:\n",
    "    def __init__(self,x):\n",
    "        self.num = x\n",
    "        \n",
    "class Fish:\n",
    "    def __init__(self, x):\n",
    "        self.num = x\n",
    "    \n",
    "class Pool:\n",
    "    def __init__(self, x, y):\n",
    "        self.turtle = Turtle(x)\n",
    "        self.fish = Fish(y)\n",
    "    def print_num(self):\n",
    "        print(\"水池里共有乌龟%d只，小鱼%d条。\"%(self.turtle.num,self.fish.num))\n",
    "\n",
    "\n",
    "pool = Pool(10,100)\n",
    "pool.print_num()"
   ]
  },
  {
   "cell_type": "code",
   "execution_count": null,
   "metadata": {
    "collapsed": true
   },
   "outputs": [],
   "source": []
  },
  {
   "cell_type": "code",
   "execution_count": null,
   "metadata": {
    "collapsed": true
   },
   "outputs": [],
   "source": []
  },
  {
   "cell_type": "code",
   "execution_count": 5,
   "metadata": {
    "collapsed": true
   },
   "outputs": [],
   "source": [
    "# Mixin机制\n",
    "\n",
    "# Mixin简介\n",
    "    # Mixin编程是一种开发模式，\n",
    "    # 是一种将多个类中的功能单元，进行组合利用的方式，\n",
    "    # 这听起来是类的继承机制就可以实现，但与传统的类继承不同，\n",
    "    # Mixin并不作为任何类的基类，也不关心与什么类一起使用，\n",
    "    # 而是在运行时，动态的同其他类一起组合使用。\n",
    "\n",
    "# Mixin特点\n",
    "    # 可以在不修改任何源代码的情况下，对已有类进行扩展；\n",
    "    # 可以保证组件的划分；\n",
    "    # 可以根据需要，使用已有的功能进行组合，来实现新的“类”；\n",
    "    # 避免类继承的局限性，因为新的业务需求，可能需要创建新的子类。\n",
    "    \n"
   ]
  },
  {
   "cell_type": "code",
   "execution_count": 7,
   "metadata": {},
   "outputs": [
    {
     "name": "stdout",
     "output_type": "stream",
     "text": [
      "a\n",
      "b\n"
     ]
    }
   ],
   "source": [
    "# Mixin机制与多继承\n",
    "# 可以利用Python的多继承，方便的实现Mixin机制。\n",
    "\n",
    "# A，B 分别表示不同的功能单元，C为A，B功能的组合，则C就拥有A，B的功能。\n",
    "\n",
    "class A:\n",
    "    def get_a(self):\n",
    "        print(\"a\")\n",
    "        \n",
    "class B:\n",
    "    def get_b(self):\n",
    "        print(\"b\")\n",
    "    \n",
    "class C(A,B):\n",
    "    pass\n",
    "\n",
    "c = C()\n",
    "c.get_a()\n",
    "c.get_b()\n"
   ]
  },
  {
   "cell_type": "code",
   "execution_count": 15,
   "metadata": {},
   "outputs": [
    {
     "ename": "TypeError",
     "evalue": "Cannot create a consistent method resolution\norder (MRO) for bases object, B",
     "output_type": "error",
     "traceback": [
      "\u001b[1;31m---------------------------------------------------------------------------\u001b[0m",
      "\u001b[1;31mTypeError\u001b[0m                                 Traceback (most recent call last)",
      "\u001b[1;32m<ipython-input-15-e33977ad1652>\u001b[0m in \u001b[0;36m<module>\u001b[1;34m()\u001b[0m\n\u001b[0;32m     13\u001b[0m         \u001b[0mprint\u001b[0m\u001b[1;33m(\u001b[0m\u001b[1;34m\"b\"\u001b[0m\u001b[1;33m)\u001b[0m\u001b[1;33m\u001b[0m\u001b[0m\n\u001b[0;32m     14\u001b[0m \u001b[1;33m\u001b[0m\u001b[0m\n\u001b[1;32m---> 15\u001b[1;33m \u001b[0mA\u001b[0m\u001b[1;33m.\u001b[0m\u001b[0m__bases__\u001b[0m \u001b[1;33m+=\u001b[0m \u001b[1;33m(\u001b[0m\u001b[0mB\u001b[0m\u001b[1;33m,\u001b[0m\u001b[1;33m)\u001b[0m\u001b[1;33m\u001b[0m\u001b[0m\n\u001b[0m\u001b[0;32m     16\u001b[0m \u001b[0ma\u001b[0m\u001b[1;33m.\u001b[0m\u001b[0mget_b\u001b[0m\u001b[1;33m(\u001b[0m\u001b[1;33m)\u001b[0m\u001b[1;33m\u001b[0m\u001b[0m\n",
      "\u001b[1;31mTypeError\u001b[0m: Cannot create a consistent method resolution\norder (MRO) for bases object, B"
     ]
    }
   ],
   "source": [
    "# __bases__\n",
    "# 多继承的实现，会创建新类。\n",
    "# 有时，在运行时，希望给类A添加类B的功能时，可以使用python的元编程特性，\n",
    "# __bases__ 属性可以在运行时，轻松的给类A添加类B的特性。\n",
    "\n",
    "\n",
    "class A:\n",
    "    def get_a(self):\n",
    "        print(\"a\")\n",
    "        \n",
    "class B:\n",
    "    def get_b(self):\n",
    "        print(\"b\")\n",
    "    \n",
    "A.__bases__ += (B,)\n",
    "a.get_b()"
   ]
  },
  {
   "cell_type": "code",
   "execution_count": 16,
   "metadata": {},
   "outputs": [
    {
     "ename": "TypeError",
     "evalue": "Cannot create a consistent method resolution\norder (MRO) for bases object, A, B",
     "output_type": "error",
     "traceback": [
      "\u001b[1;31m---------------------------------------------------------------------------\u001b[0m",
      "\u001b[1;31mTypeError\u001b[0m                                 Traceback (most recent call last)",
      "\u001b[1;32m<ipython-input-16-315a8cc8c3b4>\u001b[0m in \u001b[0;36m<module>\u001b[1;34m()\u001b[0m\n\u001b[0;32m      6\u001b[0m     \u001b[1;32mpass\u001b[0m\u001b[1;33m\u001b[0m\u001b[0m\n\u001b[0;32m      7\u001b[0m \u001b[1;33m\u001b[0m\u001b[0m\n\u001b[1;32m----> 8\u001b[1;33m \u001b[0mC\u001b[0m\u001b[1;33m.\u001b[0m\u001b[0m__bases__\u001b[0m \u001b[1;33m+=\u001b[0m \u001b[1;33m(\u001b[0m\u001b[0mA\u001b[0m\u001b[1;33m,\u001b[0m\u001b[0mB\u001b[0m\u001b[1;33m,\u001b[0m \u001b[1;33m)\u001b[0m\u001b[1;33m\u001b[0m\u001b[0m\n\u001b[0m",
      "\u001b[1;31mTypeError\u001b[0m: Cannot create a consistent method resolution\norder (MRO) for bases object, A, B"
     ]
    }
   ],
   "source": [
    "# __bases__\n",
    "# 其实 __bases__ 也是继承的机制，因为 __bases__ 属性存储了类的基类。\n",
    "# 因此，多继承方法，也可以这样实现。\n",
    "\n",
    "class C:\n",
    "    pass\n",
    "\n",
    "C.__bases__ += (A,B, )"
   ]
  },
  {
   "cell_type": "code",
   "execution_count": null,
   "metadata": {
    "collapsed": true
   },
   "outputs": [],
   "source": [
    "# 以上两个 __bases__ 示例在Python3.x 中错误，其原因是：\n",
    "# Python3.x 中的类默认是新式类，在新式类中，无法修改 __bases__\n",
    "\n",
    "# 在Python2.x中，分新式类和旧式类，旧式类可以正常运行。\n"
   ]
  },
  {
   "cell_type": "code",
   "execution_count": null,
   "metadata": {
    "collapsed": true
   },
   "outputs": [],
   "source": []
  },
  {
   "cell_type": "code",
   "execution_count": 14,
   "metadata": {},
   "outputs": [
    {
     "name": "stdout",
     "output_type": "stream",
     "text": [
      "a feature.\n",
      "b feature.\n"
     ]
    }
   ],
   "source": [
    "# 以上两种方式，都是基于多继承和python的元编程特性，\n",
    "# 然而在业务需求变化时，就需要新的功能组合，\n",
    "# 那么就需要重新修改A的基类，这会带来同步的问题，\n",
    "# 因为我们改的是类的特性，而不是对象的。\n",
    "# 因此以上修改会对所有引用该类的模块都收到影响，这是相当危险的。\n",
    "# 通常我们希望修改对象的行为，而不是修改类的。\n",
    "# 同样的我们可以利用__dict__来扩展对象的方法。\n",
    "\n",
    "\n",
    "class PlugIn(object):\n",
    "    def __init__(self):\n",
    "        self._exported_methods = []\n",
    "        \n",
    "    def plugin(self, owner):\n",
    "        for f in self._exported_methods:\n",
    "            owner.__dict__[f.__name__] = f\n",
    "\n",
    "    def plugout(self, owner):\n",
    "        for f in self._exported_methods:\n",
    "            del owner.__dict__[f.__name__]\n",
    "\n",
    "class AFeature(PlugIn):\n",
    "    def __init__(self):\n",
    "        super(AFeature, self).__init__()\n",
    "        self._exported_methods.append(self.get_a_value)\n",
    "\n",
    "    def get_a_value(self):\n",
    "        print('a feature.')\n",
    "\n",
    "class BFeature(PlugIn):\n",
    "    def __init__(self):\n",
    "        super(BFeature, self).__init__()\n",
    "        self._exported_methods.append(self.get_b_value)\n",
    "\n",
    "    def get_b_value(self):\n",
    "        print('b feature.')\n",
    "\n",
    "class Combine:pass\n",
    "\n",
    "c = Combine()\n",
    "AFeature().plugin(c)\n",
    "BFeature().plugin(c)\n",
    "\n",
    "c.get_a_value()\n",
    "c.get_b_value()"
   ]
  },
  {
   "cell_type": "code",
   "execution_count": null,
   "metadata": {
    "collapsed": true
   },
   "outputs": [],
   "source": []
  }
 ],
 "metadata": {
  "kernelspec": {
   "display_name": "Python 3",
   "language": "python",
   "name": "python3"
  },
  "language_info": {
   "codemirror_mode": {
    "name": "ipython",
    "version": 3
   },
   "file_extension": ".py",
   "mimetype": "text/x-python",
   "name": "python",
   "nbconvert_exporter": "python",
   "pygments_lexer": "ipython3",
   "version": "3.6.2"
  }
 },
 "nbformat": 4,
 "nbformat_minor": 2
}
