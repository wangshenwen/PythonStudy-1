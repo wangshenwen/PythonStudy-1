{
 "cells": [
  {
   "cell_type": "code",
   "execution_count": 1,
   "metadata": {
    "collapsed": true
   },
   "outputs": [],
   "source": [
    "# 对象\n",
    "\n",
    "# 描述真实世界的一个对象，\n",
    "    # 可以从静态特征来描述，一个对象的特征称为“属性”；\n",
    "    # 可以从动态行为来描述，一个对象的行为称为“方法”；\n",
    "\n",
    "# 需要使用类，来创建一个真正的对象，\n",
    "    # 这个对象叫做这个类的一个实例（Instance），也叫实例对象（Instance Objects）.\n",
    "\n",
    "# 注意，\n",
    "    # 类名后面跟着小括号，跟调用函数一样，在Python中，为便于区分，\n",
    "        # 约定：类名用大写字母开头，函数用小写字母开头。\n",
    "    # 赋值操作并不是必需的，\n",
    "        # 但是，如果没有把创建好的实例对象，赋值给一个变量，\n",
    "        # 这个对象就没有办法使用，因为没有任何引用指向这个实例，\n",
    "        # 最终，该对象会被Python的垃圾收集机制，自动回收。\n",
    "\n",
    "# 如果需要调用对象里的方法，使用点操作符(.)即可。\n"
   ]
  },
  {
   "cell_type": "code",
   "execution_count": 10,
   "metadata": {},
   "outputs": [
    {
     "name": "stdout",
     "output_type": "stream",
     "text": [
      "我正在努力的向前爬。\n",
      "我正在飞快的向前跑。\n",
      "咬你，咬你。\n",
      "有吃的，真满足！\n",
      "困了，睡了，晚安。\n"
     ]
    }
   ],
   "source": [
    "class Turtle:\n",
    "    # Python 中的类名以大写字母开头\n",
    "    # 特征的描述，称为属性，在代码层面就是变量\n",
    "    color = 'green'\n",
    "    weight = 10\n",
    "    legs = 4\n",
    "    shell = True\n",
    "    mouth = \"大嘴\"\n",
    "    \n",
    "    # 方法，实际就是函数，通过调用这些函数，来完成一些工作\n",
    "    def climb(self):\n",
    "        print(\"我正在努力的向前爬。\")\n",
    "    def run(self):\n",
    "        print(\"我正在飞快的向前跑。\")\n",
    "    def bite(self):\n",
    "        print(\"咬你，咬你。\")\n",
    "    def eat(self):\n",
    "        print(\"有吃的，真满足！\")\n",
    "    def sleep(self):\n",
    "        print(\"困了，睡了，晚安。\")\n",
    "\n",
    "\n",
    "tt = Turtle()\n",
    "\n",
    "tt.climb()\n",
    "tt.run()\n",
    "tt.bite()\n",
    "tt.eat()\n",
    "tt.sleep()\n"
   ]
  },
  {
   "cell_type": "code",
   "execution_count": null,
   "metadata": {
    "collapsed": true
   },
   "outputs": [],
   "source": []
  },
  {
   "cell_type": "code",
   "execution_count": 2,
   "metadata": {
    "collapsed": true
   },
   "outputs": [],
   "source": [
    "# 面向对象编程\n",
    "    # self      \n",
    "    # 魔方方法\n",
    "    # 私有和公有\n",
    "    "
   ]
  },
  {
   "cell_type": "code",
   "execution_count": 20,
   "metadata": {},
   "outputs": [
    {
     "name": "stdout",
     "output_type": "stream",
     "text": [
      "我叫飞火流星, 噢！！谁踢我啦~~\n",
      "我叫团队之星, 噢！！谁踢我啦~~\n",
      "我叫土豆土豆, 噢！！谁踢我啦~~\n"
     ]
    }
   ],
   "source": [
    "# self参数：\n",
    "    # 由同一个类可以生成无数对象，当一个对象的方法被调用时，\n",
    "    # 对象会将自身的引用作为第一个参数传递给该方法，\n",
    "    # 那么，Python 就知道需要操作哪个对象的方法了。\n",
    "        \n",
    "class Ball:\n",
    "    def setName(self, name):\n",
    "        self.name = name\n",
    "    def kick(self):\n",
    "        print(\"我叫%s, 噢！！谁踢我啦~~\" % self.name)\n",
    "\n",
    "a = Ball()\n",
    "a.setName(\"飞火流星\")\n",
    "\n",
    "b = Ball()\n",
    "b.setName(\"团队之星\")\n",
    "\n",
    "c = Ball()\n",
    "c.setName(\"土豆土豆\")\n",
    "\n",
    "a.kick()\n",
    "b.kick()\n",
    "c.kick()\n",
    " "
   ]
  },
  {
   "cell_type": "code",
   "execution_count": 24,
   "metadata": {},
   "outputs": [
    {
     "name": "stdout",
     "output_type": "stream",
     "text": [
      "我叫大土豆,噢~，谁踢我呀！\n"
     ]
    }
   ],
   "source": [
    "# 魔方方法\n",
    "    # Python的对象，天生拥有一些神奇的方法，它们是面向对象的Python的一切。\n",
    "    # 它们是可以给你的类增加魔力的特殊方法，如果你的对象实现了这些方法中的某一个，\n",
    "    # 那么，这个方法会在特殊的情况下，被Python调用，而这一切都是自动发生的。\n",
    "    \n",
    "    # Python的这些具有魔力的方法，总是被双下划线所包围；\n",
    "\n",
    "# __init__()方法：构造方法\n",
    "    # 只要实例化一个对象，这个方法就会在对象被创建时自动调用；\n",
    "    # 实例化对象是可以自动传入参数的，这些参数会自动传入 __init()__ 方法中，\n",
    "    # 可以通过重写这个方法，来自定义对象的初始化操作。\n",
    "\n",
    "class Potato:\n",
    "    def __init__(self, name):\n",
    "        self.name = name\n",
    "    def kick(self):\n",
    "        print(\"我叫%s,噢~，谁踢我呀！\" % self.name)\n",
    "    \n",
    "p = Potato(\"大土豆\")\n",
    "p.kick()\n"
   ]
  },
  {
   "cell_type": "code",
   "execution_count": null,
   "metadata": {
    "collapsed": true
   },
   "outputs": [],
   "source": [
    "# 公有和私有\n",
    "\n",
    "# 公有变量\n",
    "    # 默认上，对象的属性和方法，都是公开的，可以直接通过点操作符，进行访问。\n",
    "\n",
    "# 私有变量\n",
    "    # Python采用了一种叫 name_mangling（名字改编）的技术，\n",
    "    # 在Python中定义私有变量，只需要在变量名或函数名前，加上两个下划线(\"__\")；\n",
    "    # 那么，变量名或函数名，就是私有的了。\n",
    "    \n",
    "# 通过 name_mangling 技术，\n",
    "    # 理论上，在外部，将变量名“隐藏”起来了，如果要访问，需要从内部进行。\n",
    "    # 实际上，在外部，使用“_类名__变量名”，即可访问双横线开头的私有变量了。\n",
    "    \n",
    "# Python 目前的私有机制，是伪私有；\n",
    "    # Python的类是没有控制权限的，所有变都是可以被外部调用的。\n",
    "    "
   ]
  },
  {
   "cell_type": "code",
   "execution_count": 26,
   "metadata": {},
   "outputs": [
    {
     "name": "stdout",
     "output_type": "stream",
     "text": [
      "名字是： 小甲鱼\n"
     ]
    }
   ],
   "source": [
    "class Person:\n",
    "    name = \"小甲鱼\"\n",
    "\n",
    "p = Person()\n",
    "print(\"名字是：\",p.name)\n"
   ]
  },
  {
   "cell_type": "code",
   "execution_count": 28,
   "metadata": {},
   "outputs": [
    {
     "ename": "AttributeError",
     "evalue": "'Person' object has no attribute '__name'",
     "output_type": "error",
     "traceback": [
      "\u001b[1;31m---------------------------------------------------------------------------\u001b[0m",
      "\u001b[1;31mAttributeError\u001b[0m                            Traceback (most recent call last)",
      "\u001b[1;32m<ipython-input-28-1a66651d5834>\u001b[0m in \u001b[0;36m<module>\u001b[1;34m()\u001b[0m\n\u001b[0;32m      3\u001b[0m \u001b[1;33m\u001b[0m\u001b[0m\n\u001b[0;32m      4\u001b[0m \u001b[0mp\u001b[0m \u001b[1;33m=\u001b[0m \u001b[0mPerson\u001b[0m\u001b[1;33m(\u001b[0m\u001b[1;33m)\u001b[0m\u001b[1;33m\u001b[0m\u001b[0m\n\u001b[1;32m----> 5\u001b[1;33m \u001b[0mp\u001b[0m\u001b[1;33m.\u001b[0m\u001b[0m__name\u001b[0m\u001b[1;33m\u001b[0m\u001b[0m\n\u001b[0m",
      "\u001b[1;31mAttributeError\u001b[0m: 'Person' object has no attribute '__name'"
     ]
    }
   ],
   "source": [
    "class Person:\n",
    "    __name = \"小甲鱼\"\n",
    "    \n",
    "p = Person()\n",
    "p.__name    # 此处是外部访问私有变量，应该报错。\n"
   ]
  },
  {
   "cell_type": "code",
   "execution_count": 36,
   "metadata": {},
   "outputs": [
    {
     "name": "stdout",
     "output_type": "stream",
     "text": [
      "名字： 小甲鱼\n"
     ]
    },
    {
     "data": {
      "text/plain": [
       "'小甲鱼'"
      ]
     },
     "execution_count": 36,
     "metadata": {},
     "output_type": "execute_result"
    }
   ],
   "source": [
    "class Person:\n",
    "    def __init__(self, name):\n",
    "        self.__name = name\n",
    "    def getName(self):\n",
    "        return self.__name\n",
    "    \n",
    "p = Person(\"小甲鱼\")\n",
    "\n",
    "print(\"名字：\",p.getName())\n",
    "\n",
    "\n",
    "# p.__name  # 在外部访问私有变量，会报错；\n",
    "\n",
    "# 在外部，使用“_类名__变量名”，即可访问双横线开头的私有变量了。\n",
    "p._Person__name"
   ]
  },
  {
   "cell_type": "code",
   "execution_count": null,
   "metadata": {
    "collapsed": true
   },
   "outputs": [],
   "source": []
  }
 ],
 "metadata": {
  "kernelspec": {
   "display_name": "Python 3",
   "language": "python",
   "name": "python3"
  },
  "language_info": {
   "codemirror_mode": {
    "name": "ipython",
    "version": 3
   },
   "file_extension": ".py",
   "mimetype": "text/x-python",
   "name": "python",
   "nbconvert_exporter": "python",
   "pygments_lexer": "ipython3",
   "version": "3.6.2"
  }
 },
 "nbformat": 4,
 "nbformat_minor": 2
}
