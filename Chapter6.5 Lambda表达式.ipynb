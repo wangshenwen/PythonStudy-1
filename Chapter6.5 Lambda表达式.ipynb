{
 "cells": [
  {
   "cell_type": "code",
   "execution_count": 1,
   "metadata": {
    "collapsed": true
   },
   "outputs": [],
   "source": [
    "# lambda 表达式\n",
    "    # lambda 关键字\n",
    "    # 两个 BIF 函数\n",
    "        # filter()\n",
    "        # map()\n",
    "\n",
    "        "
   ]
  },
  {
   "cell_type": "code",
   "execution_count": 2,
   "metadata": {},
   "outputs": [
    {
     "data": {
      "text/plain": [
       "11"
      ]
     },
     "execution_count": 2,
     "metadata": {},
     "output_type": "execute_result"
    }
   ],
   "source": [
    "# lambda 关键字：创建匿名函数。\n",
    "# 匿名函数的基本语法：\n",
    "    # 在冒号左边放原函数的参数，可以有多个参数，用逗号隔开即可；\n",
    "    # 冒号右边是返回值。\n",
    "# lambda 语句是一个函数对象，如果要对它进行使用，只要简单地进行赋值就好。\n",
    "\n",
    "def ds(x):\n",
    "    return 2*x+1\n",
    "\n",
    "ds(5)\n"
   ]
  },
  {
   "cell_type": "code",
   "execution_count": 4,
   "metadata": {},
   "outputs": [
    {
     "data": {
      "text/plain": [
       "<function __main__.<lambda>>"
      ]
     },
     "execution_count": 4,
     "metadata": {},
     "output_type": "execute_result"
    }
   ],
   "source": [
    "# lambda 关键字\n",
    "# 使用lambda 语句，定义 ds 函数\n",
    "lambda x: 2 * x + 1\n"
   ]
  },
  {
   "cell_type": "code",
   "execution_count": 6,
   "metadata": {},
   "outputs": [
    {
     "data": {
      "text/plain": [
       "11"
      ]
     },
     "execution_count": 6,
     "metadata": {},
     "output_type": "execute_result"
    }
   ],
   "source": [
    "# lambda 关键字 \n",
    "g = lambda x: x * 2 + 1\n",
    "g(5)\n"
   ]
  },
  {
   "cell_type": "code",
   "execution_count": 8,
   "metadata": {},
   "outputs": [
    {
     "data": {
      "text/plain": [
       "7"
      ]
     },
     "execution_count": 8,
     "metadata": {},
     "output_type": "execute_result"
    }
   ],
   "source": [
    "# lambda 关键字\n",
    "# lambda 表达式带两个参数的例子\n",
    "\n",
    "def add(x,y):\n",
    "    return x + y\n",
    "\n",
    "add(3,4)\n"
   ]
  },
  {
   "cell_type": "code",
   "execution_count": 9,
   "metadata": {},
   "outputs": [
    {
     "data": {
      "text/plain": [
       "8"
      ]
     },
     "execution_count": 9,
     "metadata": {},
     "output_type": "execute_result"
    }
   ],
   "source": [
    "# lambda 关键字\n",
    "# 使用lambda语句，定义 add 函数\n",
    "\n",
    "g = lambda x,y: x+y\n",
    "\n",
    "g(3,5)"
   ]
  },
  {
   "cell_type": "code",
   "execution_count": 11,
   "metadata": {},
   "outputs": [
    {
     "name": "stdout",
     "output_type": "stream",
     "text": [
      "Help on class filter in module builtins:\n",
      "\n",
      "class filter(object)\n",
      " |  filter(function or None, iterable) --> filter object\n",
      " |  \n",
      " |  Return an iterator yielding those items of iterable for which function(item)\n",
      " |  is true. If function is None, return the items that are true.\n",
      " |  \n",
      " |  Methods defined here:\n",
      " |  \n",
      " |  __getattribute__(self, name, /)\n",
      " |      Return getattr(self, name).\n",
      " |  \n",
      " |  __iter__(self, /)\n",
      " |      Implement iter(self).\n",
      " |  \n",
      " |  __new__(*args, **kwargs) from builtins.type\n",
      " |      Create and return a new object.  See help(type) for accurate signature.\n",
      " |  \n",
      " |  __next__(self, /)\n",
      " |      Implement next(self).\n",
      " |  \n",
      " |  __reduce__(...)\n",
      " |      Return state information for pickling.\n",
      "\n"
     ]
    }
   ],
   "source": [
    "# lambda 表达式的 BIF —— filter()\n",
    "# filter(): 过滤器，通过过滤器，保留关注的信息，丢掉不感兴趣的信息。\n",
    " \n",
    "help(filter)\n",
    "\n",
    "# filter 函数有两个参数\n",
    "    # 第一个参数，可以是函数，也可以是None.\n",
    "    # 如果是第一个参数是函数，\n",
    "        # 则将第二个可迭代参数里的每一个元素，作为函数的参数进行计算，把返回值为 True 的值筛选出来；\n",
    "    # 如果第一个参数是None，\n",
    "        # 则直接将第二个参数中为 True 的值筛选出来。\n"
   ]
  },
  {
   "cell_type": "code",
   "execution_count": 17,
   "metadata": {},
   "outputs": [
    {
     "name": "stdout",
     "output_type": "stream",
     "text": [
      "1, True, \n",
      "\n"
     ]
    },
    {
     "data": {
      "text/plain": [
       "[]"
      ]
     },
     "execution_count": 17,
     "metadata": {},
     "output_type": "execute_result"
    }
   ],
   "source": [
    "# lambda 表达式的 BIF —— filter()\n",
    "\n",
    "temp = filter(None, [1, 0, False, True])\n",
    "\n",
    "for item in temp:\n",
    "    print(item, end=\", \")\n",
    "print()    \n",
    "\n",
    "for item in temp:\n",
    "    print(item, end=\", \")\n",
    "print()  \n",
    "\n",
    "list(temp)\n",
    "\n",
    "# 因为 temp 是lambda 函数filter 的返回值，调用一次函数，输出一次结果后，其值为空。\n"
   ]
  },
  {
   "cell_type": "code",
   "execution_count": 18,
   "metadata": {},
   "outputs": [
    {
     "data": {
      "text/plain": [
       "[1, 3, 5, 7, 9]"
      ]
     },
     "execution_count": 18,
     "metadata": {},
     "output_type": "execute_result"
    }
   ],
   "source": [
    "# lambda 表达式的BIF —— filter()\n",
    "# 奇数过滤器\n",
    "\n",
    "def odd(x):\n",
    "    return x % 2\n",
    "\n",
    "temp2 = filter(odd, range(10))\n",
    "\n",
    "list(temp2)\n"
   ]
  },
  {
   "cell_type": "code",
   "execution_count": 19,
   "metadata": {},
   "outputs": [
    {
     "data": {
      "text/plain": [
       "[1, 3, 5, 7, 9]"
      ]
     },
     "execution_count": 19,
     "metadata": {},
     "output_type": "execute_result"
    }
   ],
   "source": [
    "# lambda 表达式的BIF —— filter()\n",
    "\n",
    "list(filter(lambda x : x % 2, range(10)))\n"
   ]
  },
  {
   "cell_type": "code",
   "execution_count": 20,
   "metadata": {},
   "outputs": [
    {
     "data": {
      "text/plain": [
       "[2, 3, 4, 5, 6, 7, 8, 9, 10, 11]"
      ]
     },
     "execution_count": 20,
     "metadata": {},
     "output_type": "execute_result"
    }
   ],
   "source": [
    "# lambda 表达式 —— map()\n",
    "# map()：“映射”\n",
    "# map()：也有两个参数，一个函数和一个可迭代序列，\n",
    "    # 将序列的每一个元素，作为函数的参数，进行运算，\n",
    "    # 直到可迭代序列的每个元素都加工完毕，返回所有加工后的元素构成的新序列。\n",
    "\n",
    "temp3 = map(lambda x: x+2, range(10))\n",
    "list(temp3)\n"
   ]
  },
  {
   "cell_type": "code",
   "execution_count": 21,
   "metadata": {
    "collapsed": true
   },
   "outputs": [],
   "source": []
  }
 ],
 "metadata": {
  "kernelspec": {
   "display_name": "Python 3",
   "language": "python",
   "name": "python3"
  },
  "language_info": {
   "codemirror_mode": {
    "name": "ipython",
    "version": 3
   },
   "file_extension": ".py",
   "mimetype": "text/x-python",
   "name": "python",
   "nbconvert_exporter": "python",
   "pygments_lexer": "ipython3",
   "version": "3.6.2"
  }
 },
 "nbformat": 4,
 "nbformat_minor": 2
}
