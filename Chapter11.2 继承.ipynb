{
 "cells": [
  {
   "cell_type": "code",
   "execution_count": 1,
   "metadata": {
    "collapsed": true
   },
   "outputs": [],
   "source": [
    "# 继承\n",
    "    # 继承的语法与使用\n",
    "    # 调用未绑定的父类方法\n",
    "    # 使用super 函数\n",
    "    # 多重继承\n"
   ]
  },
  {
   "cell_type": "code",
   "execution_count": null,
   "metadata": {
    "collapsed": true
   },
   "outputs": [],
   "source": [
    "# 继承的语法\n",
    "    # class 类名(被继承的类):\n",
    "        # .....\n",
    "        \n",
    "# 被继承的类，称为基类、父类或超类，\n",
    "# 继承者称为子类，一个子类，可以继承它的父类的任何的方法和属性。\n",
    "\n",
    "# 注意：如果子类中定义与父类同名的方法或属性，则会自动覆盖父类对应的方法或属性。\n"
   ]
  },
  {
   "cell_type": "code",
   "execution_count": 8,
   "metadata": {},
   "outputs": [
    {
     "name": "stdout",
     "output_type": "stream",
     "text": [
      "正在调用父类的方法...\n",
      "---------------------\n",
      "正在调用父类的方法...\n"
     ]
    }
   ],
   "source": [
    "# 继承的使用1\n",
    "# 被继承的类，称为基类、父类或超类，\n",
    "# 继承者称为子类，一个子类，可以继承它的父类的任何的方法和属性。\n",
    "\n",
    "class Parent:\n",
    "    def hello(self):\n",
    "        print(\"正在调用父类的方法...\")\n",
    "\n",
    "class Child(Parent):\n",
    "    pass\n",
    "\n",
    "p = Parent()\n",
    "p.hello()\n",
    "print(\"---------------------\")\n",
    "\n",
    "c = Child()\n",
    "c.hello()\n"
   ]
  },
  {
   "cell_type": "code",
   "execution_count": 11,
   "metadata": {},
   "outputs": [
    {
     "name": "stdout",
     "output_type": "stream",
     "text": [
      "正在调用父类的方法...\n",
      "----------------------\n",
      "正在调用子类的方法...\n"
     ]
    }
   ],
   "source": [
    "# 继承的使用2\n",
    "# 如果子类中定义与父类同名的方法或属性，则会自动覆盖父类对应的方法或属性。\n",
    "\n",
    "class Parent:\n",
    "    def hello(self):\n",
    "        print(\"正在调用父类的方法...\")\n",
    "\n",
    "class Child(Parent):\n",
    "    def hello(self):\n",
    "        print(\"正在调用子类的方法...\")\n",
    "        \n",
    "p = Parent()\n",
    "p.hello()\n",
    "print(\"----------------------\")\n",
    "\n",
    "c = Child()\n",
    "c.hello()\n"
   ]
  },
  {
   "cell_type": "code",
   "execution_count": 16,
   "metadata": {
    "collapsed": true
   },
   "outputs": [],
   "source": [
    "# 继承的使用3\n",
    "# 对鱼类进行扩展细分，有金鱼(Goldfish)、鲤鱼(Carp)、三文鱼(Salmon)、鲨鱼(Shark)\n",
    "\n",
    "import random as r\n",
    "\n",
    "class Fish:\n",
    "    def __init__(self):\n",
    "        self.x = r.randint(0,10)\n",
    "        self.y = r.randint(0,10)\n",
    "    def move(self):\n",
    "        # 这里主要演示鱼的继承机制，就不考虑检查场景边界和移动方向的问题。\n",
    "        # 假设所有鱼都是一路向西游。\n",
    "        self.x -= 1\n",
    "        print(\"我的位置是：\", self.x, self.y)\n",
    "        \n",
    "class Goldfish(Fish):\n",
    "    pass\n",
    "\n",
    "class Carp(Fish):\n",
    "    pass\n",
    "\n",
    "class Salmon(Fish):\n",
    "    pass\n",
    "\n",
    "# 假设鲨鱼是个吃货，除了继承Fish类的属性和方法，还要增加一个吃的方法。\n",
    "class Shark(Fish):\n",
    "    def __init__(self):\n",
    "        self.hungry = True\n",
    "    def eat(self):\n",
    "        if self.hungry:\n",
    "            print(\"吃货的梦想是，不要停，一直吃。\")\n",
    "            self.hungry = False\n",
    "        else:\n",
    "            print(\"太撑了，吃不下了。\")\n",
    "            "
   ]
  },
  {
   "cell_type": "code",
   "execution_count": 27,
   "metadata": {},
   "outputs": [
    {
     "name": "stdout",
     "output_type": "stream",
     "text": [
      "鱼儿的游动：\n",
      "我的位置是： 0 1\n",
      "我的位置是： -1 1\n",
      "我的位置是： -2 1\n",
      "\n",
      "金鱼的游动：\n",
      "我的位置是： 9 6\n",
      "我的位置是： 8 6\n",
      "我的位置是： 7 6\n",
      "\n",
      "鲨鱼吃东西：\n",
      "吃货的梦想是，不要停，一直吃。\n",
      "太撑了，吃不下了。\n",
      "太撑了，吃不下了。\n",
      "鲨鱼的游动：\n"
     ]
    },
    {
     "ename": "AttributeError",
     "evalue": "'Shark' object has no attribute 'x'",
     "output_type": "error",
     "traceback": [
      "\u001b[1;31m---------------------------------------------------------------------------\u001b[0m",
      "\u001b[1;31mAttributeError\u001b[0m                            Traceback (most recent call last)",
      "\u001b[1;32m<ipython-input-27-1dfaa9f051b4>\u001b[0m in \u001b[0;36m<module>\u001b[1;34m()\u001b[0m\n\u001b[0;32m     19\u001b[0m \u001b[0mshark\u001b[0m\u001b[1;33m.\u001b[0m\u001b[0meat\u001b[0m\u001b[1;33m(\u001b[0m\u001b[1;33m)\u001b[0m\u001b[1;33m\u001b[0m\u001b[0m\n\u001b[0;32m     20\u001b[0m \u001b[0mprint\u001b[0m\u001b[1;33m(\u001b[0m\u001b[1;34m\"鲨鱼的游动：\"\u001b[0m\u001b[1;33m)\u001b[0m\u001b[1;33m\u001b[0m\u001b[0m\n\u001b[1;32m---> 21\u001b[1;33m \u001b[0mshark\u001b[0m\u001b[1;33m.\u001b[0m\u001b[0mmove\u001b[0m\u001b[1;33m(\u001b[0m\u001b[1;33m)\u001b[0m\u001b[1;33m\u001b[0m\u001b[0m\n\u001b[0m",
      "\u001b[1;32m<ipython-input-16-d525d9a513d8>\u001b[0m in \u001b[0;36mmove\u001b[1;34m(self)\u001b[0m\n\u001b[0;32m     11\u001b[0m         \u001b[1;31m# 这里主要演示鱼的继承机制，就不考虑检查场景边界和移动方向的问题。\u001b[0m\u001b[1;33m\u001b[0m\u001b[1;33m\u001b[0m\u001b[0m\n\u001b[0;32m     12\u001b[0m         \u001b[1;31m# 假设所有鱼都是一路向西游。\u001b[0m\u001b[1;33m\u001b[0m\u001b[1;33m\u001b[0m\u001b[0m\n\u001b[1;32m---> 13\u001b[1;33m         \u001b[0mself\u001b[0m\u001b[1;33m.\u001b[0m\u001b[0mx\u001b[0m \u001b[1;33m-=\u001b[0m \u001b[1;36m1\u001b[0m\u001b[1;33m\u001b[0m\u001b[0m\n\u001b[0m\u001b[0;32m     14\u001b[0m         \u001b[0mprint\u001b[0m\u001b[1;33m(\u001b[0m\u001b[1;34m\"我的位置是：\"\u001b[0m\u001b[1;33m,\u001b[0m \u001b[0mself\u001b[0m\u001b[1;33m.\u001b[0m\u001b[0mx\u001b[0m\u001b[1;33m,\u001b[0m \u001b[0mself\u001b[0m\u001b[1;33m.\u001b[0m\u001b[0my\u001b[0m\u001b[1;33m)\u001b[0m\u001b[1;33m\u001b[0m\u001b[0m\n\u001b[0;32m     15\u001b[0m \u001b[1;33m\u001b[0m\u001b[0m\n",
      "\u001b[1;31mAttributeError\u001b[0m: 'Shark' object has no attribute 'x'"
     ]
    }
   ],
   "source": [
    "fish = Fish()\n",
    "print(\"鱼儿的游动：\")\n",
    "fish.move()\n",
    "fish.move()\n",
    "fish.move()\n",
    "print()\n",
    "\n",
    "goldfish = Goldfish()\n",
    "print(\"金鱼的游动：\")\n",
    "goldfish.move()\n",
    "goldfish.move()\n",
    "goldfish.move()\n",
    "print()\n",
    "\n",
    "shark = Shark()\n",
    "print(\"鲨鱼吃东西：\")\n",
    "shark.eat()\n",
    "shark.eat()\n",
    "shark.eat()\n",
    "print(\"鲨鱼的游动：\")\n",
    "shark.move()"
   ]
  },
  {
   "cell_type": "code",
   "execution_count": null,
   "metadata": {
    "collapsed": true
   },
   "outputs": [],
   "source": [
    "# 同样是继承自Fish类，为什么金鱼有move()方法，鲨鱼就没有move()方法呢？\n",
    "# Shark 对象没有 x 属性。\n",
    "# 在Shark 类中，重写__init__魔法方法，没有初始化鲨鱼的x坐标和y坐标，故调用move()方法，会出错。\n",
    "# 解决方案：\n",
    "    # 在Shark 类中重写 __init__魔法方法时，先调用基类Fish的__init__方法。\n",
    "        # 调用未绑定的父类方法\n",
    "        # 使用 super 函数\n"
   ]
  },
  {
   "cell_type": "code",
   "execution_count": null,
   "metadata": {
    "collapsed": true
   },
   "outputs": [],
   "source": []
  },
  {
   "cell_type": "code",
   "execution_count": 35,
   "metadata": {},
   "outputs": [
    {
     "name": "stdout",
     "output_type": "stream",
     "text": [
      "鲨鱼的游动：\n",
      "我的位置是: 9 5\n",
      "我的位置是: 8 5\n",
      "我的位置是: 7 5\n"
     ]
    }
   ],
   "source": [
    "# 调用未绑定的父类方法\n",
    "\n",
    "import random as r\n",
    "\n",
    "class Fish:\n",
    "    def __init__(self):\n",
    "        self.x = r.randint(0,10)\n",
    "        self.y = r.randint(0,10)\n",
    "        \n",
    "    def move(self):\n",
    "        self.x -= 1\n",
    "        print(\"我的位置是:\", self.x, self.y)\n",
    "\n",
    "        \n",
    "class Shark(Fish):\n",
    "    def __init__(self):\n",
    "        Fish.__init__(self)\n",
    "        self.hungry = True\n",
    "    \n",
    "shark = Shark()\n",
    "print(\"鲨鱼的游动：\")\n",
    "shark.move()\n",
    "shark.move()\n",
    "shark.move()\n",
    "\n",
    "\n",
    "# 注意，此处的self并不是父类Fish的实例对象，而是子类Shark的实例对象。\n",
    "      # 所有，这里说的未绑定，是指并不需要绑定父类的实例对象，使用子类的实例对象代替即可。\n",
    "    \n",
    "# 这里可能不太懂，没关系，在Python中有一个方案可以替代它：\n",
    "    # 使用super函数\n",
    "\n"
   ]
  },
  {
   "cell_type": "code",
   "execution_count": 39,
   "metadata": {},
   "outputs": [
    {
     "name": "stdout",
     "output_type": "stream",
     "text": [
      "我的位置是: 5 6\n",
      "我的位置是: 4 6\n",
      "我的位置是: 3 6\n"
     ]
    }
   ],
   "source": [
    "# 使用super函数\n",
    "    # super函数帮我自动找到基类的方法，还为我们传入了self参数。\n",
    "\n",
    "class Shark(Fish):\n",
    "    def __init__(self):\n",
    "        super().__init__()\n",
    "        self.hungry = True\n",
    "\n",
    "shark = Shark()\n",
    "shark.move()\n",
    "shark.move()\n",
    "shark.move()\n",
    "\n",
    "# super的超级之处在于：\n",
    "    # 你不需要给出任何基类的名字，它会自动帮您找出所有基类以及对应的方法。\n",
    "    # 不用给出基类的名字，意味着：\n",
    "        # 如果需要改变类继承关系，只要改变class语句里的父类，即可。\n",
    "        # 不必在大量代码里，一一修改所有被继承的方法。\n"
   ]
  },
  {
   "cell_type": "code",
   "execution_count": null,
   "metadata": {
    "collapsed": true
   },
   "outputs": [],
   "source": []
  },
  {
   "cell_type": "code",
   "execution_count": 44,
   "metadata": {},
   "outputs": [
    {
     "name": "stdout",
     "output_type": "stream",
     "text": [
      "我是foo1，我在Base1中...\n",
      "我是foo2，我在Base2中...\n"
     ]
    }
   ],
   "source": [
    "# 多重继承\n",
    "\n",
    "class Base1:\n",
    "    def foo1(self):\n",
    "        print(\"我是foo1，我在Base1中...\")\n",
    "\n",
    "class Base2:\n",
    "    def foo2(self):\n",
    "        print(\"我是foo2，我在Base2中...\")\n",
    "\n",
    "class C(Base1, Base2):\n",
    "    pass\n",
    "\n",
    "c = C()\n",
    "c.foo1()\n",
    "c.foo2()\n",
    "\n",
    "# 多重继承其实很容易导致代码混乱，甚至出现不可预见的BUG！！！\n",
    "# 所以，除非一定、确定、必须使用多重继承，\n",
    "# 不要使用多重继承。\n"
   ]
  },
  {
   "cell_type": "code",
   "execution_count": null,
   "metadata": {
    "collapsed": true
   },
   "outputs": [],
   "source": []
  },
  {
   "cell_type": "code",
   "execution_count": null,
   "metadata": {
    "collapsed": true
   },
   "outputs": [],
   "source": []
  },
  {
   "cell_type": "code",
   "execution_count": 43,
   "metadata": {},
   "outputs": [
    {
     "data": {
      "text/plain": [
       "(__main__.C, __main__.Base1, __main__.Base2, object)"
      ]
     },
     "execution_count": 43,
     "metadata": {},
     "output_type": "execute_result"
    }
   ],
   "source": [
    "# 多重继承的陷阱：钻石继承（菱形继承）\n",
    "\n",
    "# Python中如何解决钻石继承问题：\n",
    "    # 使用“方法解析顺序（Method Resolution Order，MRO）”\n",
    "    # C3算法\n",
    "\n",
    "# MRO的顺序基本是：\n",
    "    # 在避免同一类多次调用的前提下，\n",
    "    # 使用广度优先和从左到右的原则，去寻找需要的属性、方法。\n",
    "\n",
    "# 在继承体系中，C3算法保证同一个类，只会被搜寻一次。\n",
    "\n",
    "# 可以使用 类名.__mro__ ，获得MRO的顺序。\n",
    "    # object类是所有类的基类，金字塔的顶端。\n",
    "C.__mro__\n",
    "\n",
    "# 其实，可以不必考虑那么多，使用super 函数即可。\n"
   ]
  },
  {
   "cell_type": "code",
   "execution_count": 46,
   "metadata": {},
   "outputs": [
    {
     "name": "stdout",
     "output_type": "stream",
     "text": [
      "进入D…\n",
      "进入B…\n",
      "进入A…\n",
      "离开A…\n",
      "离开B…\n",
      "进入C…\n",
      "进入A…\n",
      "离开A…\n",
      "离开C…\n",
      "离开D…\n"
     ]
    }
   ],
   "source": [
    "# 钻石继承的案例1\n",
    "class A():\n",
    "    def __init__(self):\n",
    "        print(\"进入A…\")\n",
    "        print(\"离开A…\")\n",
    "\n",
    "class B(A):\n",
    "    def __init__(self):\n",
    "        print(\"进入B…\")\n",
    "        A.__init__(self)\n",
    "        print(\"离开B…\")\n",
    "        \n",
    "class C(A):\n",
    "    def __init__(self):\n",
    "        print(\"进入C…\")\n",
    "        A.__init__(self)\n",
    "        print(\"离开C…\")\n",
    "\n",
    "class D(B, C):\n",
    "    def __init__(self):\n",
    "        print(\"进入D…\")\n",
    "        B.__init__(self)\n",
    "        C.__init__(self)\n",
    "        print(\"离开D…\")\n",
    "\n",
    "d = D()"
   ]
  },
  {
   "cell_type": "code",
   "execution_count": 47,
   "metadata": {},
   "outputs": [
    {
     "name": "stdout",
     "output_type": "stream",
     "text": [
      "进入D…\n",
      "进入B…\n",
      "进入C…\n",
      "进入A…\n",
      "离开A…\n",
      "离开C…\n",
      "离开B…\n",
      "离开D…\n"
     ]
    }
   ],
   "source": [
    "# 钻石继承的案例2\n",
    "    # super在钻石继承中的应用\n",
    "\n",
    "class A():\n",
    "    def __init__(self):\n",
    "        print(\"进入A…\")\n",
    "        print(\"离开A…\")\n",
    "\n",
    "class B(A):\n",
    "    def __init__(self):\n",
    "        print(\"进入B…\")\n",
    "        super().__init__()\n",
    "        print(\"离开B…\")\n",
    "        \n",
    "class C(A):\n",
    "    def __init__(self):\n",
    "        print(\"进入C…\")\n",
    "        super().__init__()\n",
    "        print(\"离开C…\")\n",
    "\n",
    "class D(B, C):\n",
    "    def __init__(self):\n",
    "        print(\"进入D…\")\n",
    "        super().__init__()\n",
    "        print(\"离开D…\")\n",
    "\n",
    "d = D()"
   ]
  },
  {
   "cell_type": "code",
   "execution_count": null,
   "metadata": {
    "collapsed": true
   },
   "outputs": [],
   "source": []
  }
 ],
 "metadata": {
  "kernelspec": {
   "display_name": "Python 3",
   "language": "python",
   "name": "python3"
  },
  "language_info": {
   "codemirror_mode": {
    "name": "ipython",
    "version": 3
   },
   "file_extension": ".py",
   "mimetype": "text/x-python",
   "name": "python",
   "nbconvert_exporter": "python",
   "pygments_lexer": "ipython3",
   "version": "3.6.2"
  }
 },
 "nbformat": 4,
 "nbformat_minor": 2
}
