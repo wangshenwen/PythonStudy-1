{
 "cells": [
  {
   "cell_type": "code",
   "execution_count": 1,
   "metadata": {
    "collapsed": true
   },
   "outputs": [],
   "source": [
    "# 字符串\n",
    "    # 字符串的定义\n",
    "    # 字符串的内置方法\n",
    "    # 格式化\n"
   ]
  },
  {
   "cell_type": "code",
   "execution_count": null,
   "metadata": {
    "collapsed": true
   },
   "outputs": [],
   "source": [
    "# 字符串的定义\n",
    "# 1. 字符与字符串\n",
    "    # 在Python中，没有字符这个类型，\n",
    "    # 在Python看来，字符就是长度为1的字符串。\n",
    "    # 要访问字符串中的一个字符时，使用“索引字符串”的方法。\n",
    "# 2. 字符串的修改\n",
    "    # 字符串跟元组一样，一旦确定，就不能直接修改；\n",
    "    # 间接法：通过“分片”，进行修改；\n",
    "# 3. 注意\n",
    "    # 通过拼接旧字符串的各部分，得到新字符串的，并没有真正意义上改变原始字符串\n",
    "    # 原来的“家伙”还在，只是变量指向了新的字符串；\n",
    "    # 旧字符串一旦失去变量的引用，就会被Python 垃圾回收机制释放掉。\n",
    "    "
   ]
  },
  {
   "cell_type": "code",
   "execution_count": 9,
   "metadata": {},
   "outputs": [
    {
     "name": "stdout",
     "output_type": "stream",
     "text": [
      "str1 = I live in a meaningful llife.\n",
      "str1[:7] = I live \n",
      "\n",
      "str1 = I live in a meaningful llife.\n",
      "str2 = I live in a happy and meaningful llife.\n",
      "\n",
      "str1 = I live in a meaningful llife.\n",
      "str3 = I live  meaningful llife.\n"
     ]
    }
   ],
   "source": [
    "# 字符串的定义\n",
    "str1 = \"I live in a meaningful llife.\"\n",
    "\n",
    "print(\"str1 =\", str1)\n",
    "print(\"str1[:7] =\", str1[:7])\n",
    "print()\n",
    "\n",
    "str2 = str1[:12] + \"happy and \" + str1[12:]\n",
    "print(\"str1 =\", str1)\n",
    "print(\"str2 =\", str2)\n",
    "print()\n",
    "\n",
    "str3 = str1[:7] + str1[11:]\n",
    "print(\"str1 =\", str1)\n",
    "print(\"str3 =\", str3)\n"
   ]
  },
  {
   "cell_type": "code",
   "execution_count": null,
   "metadata": {
    "collapsed": true
   },
   "outputs": [],
   "source": []
  },
  {
   "cell_type": "code",
   "execution_count": null,
   "metadata": {
    "collapsed": true
   },
   "outputs": [],
   "source": [
    "# 字符串的内置方法\n",
    "    # casefold()：将字符串的所有字符变为小写；\n",
    "    \n",
    "    # count(sub[, start[, end]])：查找字符串中某个子字符串出现的次数；\n",
    "    \n",
    "    # find(sub[, start[, end]])：查找字符串中某个子字符串的位置，如果找不到，返回-1；\n",
    "    # index(sub[, start[, end]])：查找字符串中某个子字符串的位置，如果找不到，抛出异常。\n",
    "    \n",
    "    # join(sub)：连接字符串，以字符串为分隔符，插入到sub字符串中所有字符串；\n",
    "    # 加号连接符：加号连接操作会引起内存复制和垃圾回收操作，效率非常低。\n",
    "    \n",
    "    # replace(old, new[, count])：替换指定的字符串；\n",
    "    \n",
    "    # split(sep = None, maxsplit = -1)：拆分字符串，跟join正好相反；\n",
    "    "
   ]
  },
  {
   "cell_type": "code",
   "execution_count": 13,
   "metadata": {},
   "outputs": [
    {
     "name": "stdout",
     "output_type": "stream",
     "text": [
      "str1 = I Love MianYang\n",
      "\n",
      "str1 = I Love MianYang\n",
      "str2 = i love mianyang\n"
     ]
    }
   ],
   "source": [
    "# 字符串的内置方法 —— casefold\n",
    "    # casefold()：将字符串的所有字符变为小写；\n",
    "str1 = \"I Love MianYang\"\n",
    "print(\"str1 =\", str1)\n",
    "print()\n",
    "str2 = str1.casefold()\n",
    "print(\"str1 =\", str1)\n",
    "print(\"str2 =\", str2)\n"
   ]
  },
  {
   "cell_type": "code",
   "execution_count": 19,
   "metadata": {},
   "outputs": [
    {
     "name": "stdout",
     "output_type": "stream",
     "text": [
      "str1 = I love Mianyang, I grown up in Mianyang, I work in Mianyang, and I am happy in Mianyang.\n",
      "num1 = 4\n",
      "num2 = 7\n"
     ]
    }
   ],
   "source": [
    "# 字符串的内置方法 —— count\n",
    "    # count(sub[, start[, end]])：查找字符串中某个子字符串出现的次数；\n",
    "str1 = \"I love Mianyang, I grown up in Mianyang, I work in Mianyang, and I am happy in Mianyang.\"\n",
    "num1 = str1.count(\"Mianyang\")\n",
    "num2 = str1.count(\"i\")\n",
    "print(\"str1 =\", str1)\n",
    "print(\"num1 =\", num1)\n",
    "print(\"num2 =\", num2)\n"
   ]
  },
  {
   "cell_type": "code",
   "execution_count": 25,
   "metadata": {},
   "outputs": [
    {
     "name": "stdout",
     "output_type": "stream",
     "text": [
      "loc1 = 7\n",
      "loc2 = -1\n",
      "loc3 = 7\n"
     ]
    },
    {
     "ename": "ValueError",
     "evalue": "substring not found",
     "output_type": "error",
     "traceback": [
      "\u001b[1;31m---------------------------------------------------------------------------\u001b[0m",
      "\u001b[1;31mValueError\u001b[0m                                Traceback (most recent call last)",
      "\u001b[1;32m<ipython-input-25-39ba84e67bbd>\u001b[0m in \u001b[0;36m<module>\u001b[1;34m()\u001b[0m\n\u001b[0;32m     11\u001b[0m \u001b[0mloc3\u001b[0m \u001b[1;33m=\u001b[0m \u001b[0mstr1\u001b[0m\u001b[1;33m.\u001b[0m\u001b[0mindex\u001b[0m\u001b[1;33m(\u001b[0m\u001b[1;34m\"Mianyang\"\u001b[0m\u001b[1;33m)\u001b[0m\u001b[1;33m\u001b[0m\u001b[0m\n\u001b[0;32m     12\u001b[0m \u001b[0mprint\u001b[0m\u001b[1;33m(\u001b[0m\u001b[1;34m\"loc3 =\"\u001b[0m\u001b[1;33m,\u001b[0m \u001b[0mloc3\u001b[0m\u001b[1;33m)\u001b[0m\u001b[1;33m\u001b[0m\u001b[0m\n\u001b[1;32m---> 13\u001b[1;33m \u001b[0mloc4\u001b[0m \u001b[1;33m=\u001b[0m \u001b[0mstr1\u001b[0m\u001b[1;33m.\u001b[0m\u001b[0mindex\u001b[0m\u001b[1;33m(\u001b[0m\u001b[1;34m\"mianyang\"\u001b[0m\u001b[1;33m)\u001b[0m\u001b[1;33m\u001b[0m\u001b[0m\n\u001b[0m",
      "\u001b[1;31mValueError\u001b[0m: substring not found"
     ]
    }
   ],
   "source": [
    "# 字符串的内置方法 —— find, index\n",
    "    # find(sub[, start[, end]])：查找字符串中某个子字符串的位置，如果找不到，返回-1；\n",
    "    # index(sub[, start[, end]])：查找字符串中某个子字符串的位置，如果找不到，抛出异常。\n",
    "\n",
    "str1 = \"I love Mianyang, I grown up in Mianyang, I work in Mianyang, and I am happy in Mianyang.\"\n",
    "loc1 = str1.find(\"Mianyang\")\n",
    "print(\"loc1 =\", loc1)\n",
    "loc2 = str1.find(\"mianyang\")\n",
    "print(\"loc2 =\", loc2)\n",
    "\n",
    "loc3 = str1.index(\"Mianyang\")\n",
    "print(\"loc3 =\", loc3)\n",
    "loc4 = str1.index(\"mianyang\")\n"
   ]
  },
  {
   "cell_type": "code",
   "execution_count": 27,
   "metadata": {},
   "outputs": [
    {
     "name": "stdout",
     "output_type": "stream",
     "text": [
      "str1 = ,\n",
      "str2 = a,b,c,d,e,f,g,h,i,j,k,l,m,n\n",
      "str3 = a.b.c.d.e.f.g.h.i.j.k.l.m.n\n"
     ]
    }
   ],
   "source": [
    "# 字符串的内置方法 —— join\n",
    "    # join(sub)：连接字符串，以字符串为分隔符，插入到sub字符串中所有字符串；\n",
    "    # 加号连接符：加号连接操作会引起内存复制和垃圾回收操作，效率非常低。\n",
    "str1 = \",\"\n",
    "str2 = str1.join(\"abcdefghijklmn\")\n",
    "\n",
    "print(\"str1 =\", str1)\n",
    "print(\"str2 =\", str2)\n",
    "\n",
    "str3 = \".\".join(\"abcdefghijklmn\")\n",
    "print(\"str3 =\", str3)"
   ]
  },
  {
   "cell_type": "code",
   "execution_count": 28,
   "metadata": {},
   "outputs": [
    {
     "name": "stdout",
     "output_type": "stream",
     "text": [
      "str1 = I love Mianyang, I grown up in Mianyang, I work in Mianyang, and I am happy in Mianyang.\n",
      "str2 = I love Beijing, I grown up in Beijing, I work in Beijing, and I am happy in Beijing.\n",
      "str3 = I love Shanghai, I grown up in Shanghai, I work in Mianyang, and I am happy in Mianyang.\n"
     ]
    }
   ],
   "source": [
    "# 字符串的内置方法 —— replace\n",
    "    # replace(old, new[, count])：替换指定的字符串；\n",
    "str1 = \"I love Mianyang, I grown up in Mianyang, I work in Mianyang, and I am happy in Mianyang.\"\n",
    "str2 = str1.replace(\"Mianyang\", \"Beijing\")\n",
    "print(\"str1 =\", str1)\n",
    "print(\"str2 =\", str2)\n",
    "\n",
    "str3 = str1.replace(\"Mianyang\", \"Shanghai\", 2)\n",
    "print(\"str3 =\", str3)\n"
   ]
  },
  {
   "cell_type": "code",
   "execution_count": 46,
   "metadata": {},
   "outputs": [
    {
     "name": "stdout",
     "output_type": "stream",
     "text": [
      "str1 = I love Mianyang, I grown up in Mianyang, I work in Mianyang, and I am happy in Mianyang.\n",
      "\n",
      "list1 = ['I', 'love', 'Mianyang,', 'I', 'grown', 'up', 'in', 'Mianyang,', 'I', 'work', 'in', 'Mianyang,', 'and', 'I', 'am', 'happy', 'in', 'Mianyang.']\n",
      "I----love----Mianyang,----I----grown----up----in----Mianyang,----I----work----in----Mianyang,----and----I----am----happy----in----Mianyang.----\n",
      "\n",
      "['I love Mianyang', ' I grown up in Mianyang', ' I work in Mianyang', ' and I am happy in Mianyang.']\n",
      "I love Mianyang---- I grown up in Mianyang---- I work in Mianyang---- and I am happy in Mianyang.----\n",
      "\n",
      "I love ----yang, I grown up in ----yang, I work in ----yang, and I am happy in ----yang.----\n",
      "\n",
      "I love ----yang, I grown up in ----yang, I work in Mianyang, and I am happy in Mianyang.----\n",
      "\n",
      "I love ----yang, I grown up in ----yang, I work in Mianyang, and I am happy in Mianyang.----\n",
      "\n"
     ]
    }
   ],
   "source": [
    "# 字符串的内置方法 —— split\n",
    "    # split(sep = None, maxsplit = -1)：拆分字符串，跟join正好相反；\n",
    "    \n",
    "str1 = \"I love Mianyang, I grown up in Mianyang, I work in Mianyang, and I am happy in Mianyang.\"\n",
    "list1 = str1.split()\n",
    "print(\"str1 =\", str1)\n",
    "print()\n",
    "\n",
    "print(\"list1 =\", list1)\n",
    "for i in list1:\n",
    "    print(i, end=\"----\")\n",
    "print(\"\\n\")\n",
    "\n",
    "list2 = str1.split(\",\")\n",
    "print(list2)\n",
    "for i in list2:\n",
    "    print(i, end=\"----\")\n",
    "print(\"\\n\")\n",
    "\n",
    "list3 = str1.split(\"Mian\")\n",
    "for i in list3:\n",
    "    print(i, end=\"----\")\n",
    "print(\"\\n\")\n",
    "\n",
    "list4 = str1.split(\"Mian\", maxsplit=2)\n",
    "for i in list4:\n",
    "    print(i, end=\"----\")\n",
    "print(\"\\n\")\n",
    "    \n",
    "list5 = str1.split(\"Mian\", 2)\n",
    "for i in list5:\n",
    "    print(i, end=\"----\")\n",
    "print(\"\\n\")\n"
   ]
  },
  {
   "cell_type": "code",
   "execution_count": null,
   "metadata": {
    "collapsed": true
   },
   "outputs": [],
   "source": []
  },
  {
   "cell_type": "code",
   "execution_count": 47,
   "metadata": {
    "collapsed": true
   },
   "outputs": [],
   "source": [
    "# 格式化\n",
    "# 1. 定义：按照统一的规格输出字符串；\n",
    "# 2. format()方法：接受位置参数和关键字参数，二者均传递到replacement字段（在字符串内由大括号表示）；\n",
    "    # 位置参数：数字，与位置有关；\n",
    "    # 关键字参数：标签，相当于关键字；\n",
    "    # 注意：\n",
    "        #（1）混合使用，位置参数必须在关键字参数之前；\n",
    "        #（2）要打印出大括号，多用一层大括号包围起来。\n",
    "# 3. 格式化操作符 %\n",
    "    # % 左右都为数字，表示求余数；% 左或右是字符串，表示格式化操作符。\n",
    "# 4. Python 的转义字符及含义\n",
    "    # \\' ：单引号；\n",
    "    # \\\" ：双引号；\n",
    "    # \\a ：发出系统响铃声；\n",
    "    # \\b ：退格符；    \n",
    "    # \\n ：退格符；\n",
    "    # \\t ：换行符；\n",
    "    # \\v ：纵向制表符；\n",
    "    # \\r ：回车符；\n",
    "    # \\f ：换页符；\n",
    "    # \\o ：八进制数代表的字符；\n",
    "    # \\x ：十六进制数代表的字符；\n",
    "    # \\0 ：表示一个空格字符；\n",
    "    # \\\\ ：反斜杠；\n",
    "    "
   ]
  },
  {
   "cell_type": "code",
   "execution_count": 68,
   "metadata": {},
   "outputs": [
    {
     "name": "stdout",
     "output_type": "stream",
     "text": [
      "str1 = I love Mianyang.SiChuan\n",
      "str2 = I love Sichuan.Mianyang\n",
      "str3 = I love Mianyang.China\n",
      "str4 = I love China.Mianyang\n",
      "str5 = I love China.Mianyang\n",
      "str6 = I love sleep and eat and play\n",
      "str7 = {0}\n",
      "str8 = 圆周率 : 3.142\n"
     ]
    }
   ],
   "source": [
    "# 格式化 —— format()函数\n",
    "\n",
    "# 位置参数\n",
    "str1 = \"{0} love {1}.{2}\".format(\"I\", \"Mianyang\", \"SiChuan\")\n",
    "print(\"str1 =\", str1)\n",
    "\n",
    "str2 = \"{0} love {1}.{2}\".format(\"I\", \"Sichuan\", \"Mianyang\")\n",
    "print(\"str2 =\", str2)\n",
    "\n",
    "str3 = \"{0} love {2}.{1}\".format(\"I\", \"China\", \"Mianyang\")\n",
    "print(\"str3 =\", str3)\n",
    "\n",
    "# 关键字参数\n",
    "str4 = \"{a} love {b}.{c}\".format(a=\"I\", b=\"China\", c=\"Mianyang\")\n",
    "print(\"str4 =\", str4)\n",
    "\n",
    "str5 = \"{a} love {b}.{c}\".format(b=\"China\", a=\"I\", c=\"Mianyang\")\n",
    "print(\"str5 =\", str5)\n",
    "\n",
    "# 混合参数（位置参数在关键字参数之前）\n",
    "str6 = \"{0} love {1} and {aa} and {bc}\".format(\"I\", \"sleep\", aa=\"eat\", bc=\"play\")\n",
    "print(\"str6 =\", str6)\n",
    "\n",
    "# 输出大括号\n",
    "    # “不打印”没有被输出，因为replacement字段被外层的大括号{}剥夺，因此没有字段可输出；\n",
    "    # 注意，这样不会产生错误的。\n",
    "str7 = \"{{0}}\".format(\"不打印\")\n",
    "print(\"str7 =\", str7)\n",
    "\n",
    "# 输出固定格式的浮点数\n",
    "str8 = \"{0} : {1:.3f}\".format(\"圆周率\",3.141592)\n",
    "print(\"str8 =\", str8)\n",
    "\n"
   ]
  },
  {
   "cell_type": "code",
   "execution_count": 84,
   "metadata": {},
   "outputs": [
    {
     "name": "stdout",
     "output_type": "stream",
     "text": [
      "str1 = a\n",
      "str2 = F ( P Z d\n",
      "str3 =  123 转换为八进制是：173\n",
      "str4 =   1234230000.000000 用科学计数法表示为： 1.234230e+09\n",
      "str5 =  27.38\n",
      "str6 =  234.89\n",
      "str7 =          5\n",
      "str8 =    5         aaaa\n",
      "str9 =  000000005\n",
      "str10 =  0X64\n"
     ]
    }
   ],
   "source": [
    "# 格式化 —— 格式化操作符\n",
    "    # %c ：格式化字符及其ASCII码；\n",
    "    # %d ：格式化整数；\n",
    "    # %f ：格式化浮点数，可指定小数点后的精度；\n",
    "    # %e ：用科学计数法，格式化浮点数；\n",
    "    # m.n ：m是显示的最小总宽度，n是小数点后的位数；\n",
    "    # - ：结果左对齐；\n",
    "    # + ：在正数前面显示加号；\n",
    "    # # ：在八进制数前面，显示'0o'，在十六进制数前面显示'0x'或'0X'；\n",
    "    # 0 ：显示的数字前面填充 '0' 代替数字。\n",
    "\n",
    "str1 = \"% c\"% 97\n",
    "print(\"str1 =\", str1)\n",
    "\n",
    "str2 = '% c % c % c % c % c' % (70, 40, 80, 90, 100)\n",
    "print(\"str2 =\", str2)\n",
    "\n",
    "str3 = '% d 转换为八进制是：%o' % (123, 123)\n",
    "print(\"str3 =\", str3)\n",
    "\n",
    "str4 = \" % f 用科学计数法表示为：% e\" % (1234230000, 1234230000)\n",
    "print(\"str4 =\", str4)\n",
    "\n",
    "str5 = '% 5.2f' % 27.3784\n",
    "print(\"str5 =\", str5)\n",
    " \n",
    "str6 = '% .2f' % 234.8937 \n",
    "print(\"str6 =\", str6)\n",
    "\n",
    "str7 = '% 10d' % 5\n",
    "print(\"str7 =\", str7)\n",
    "\n",
    "str8 = ' % -10d' % 5\n",
    "print(\"str8 = \", str8, \"aaaa\")\n",
    "\n",
    "str9 = '% 010d' % 5\n",
    "print(\"str9 =\", str9)\n",
    "\n",
    "str10 = '% #X' % 100\n",
    "print(\"str10 =\", str10)\n",
    "\n"
   ]
  },
  {
   "cell_type": "code",
   "execution_count": null,
   "metadata": {
    "collapsed": true
   },
   "outputs": [],
   "source": []
  }
 ],
 "metadata": {
  "kernelspec": {
   "display_name": "Python 3",
   "language": "python",
   "name": "python3"
  },
  "language_info": {
   "codemirror_mode": {
    "name": "ipython",
    "version": 3
   },
   "file_extension": ".py",
   "mimetype": "text/x-python",
   "name": "python",
   "nbconvert_exporter": "python",
   "pygments_lexer": "ipython3",
   "version": "3.6.2"
  }
 },
 "nbformat": 4,
 "nbformat_minor": 2
}
