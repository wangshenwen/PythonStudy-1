{
 "cells": [
  {
   "cell_type": "code",
   "execution_count": 3,
   "metadata": {
    "collapsed": true
   },
   "outputs": [],
   "source": [
    "# 题目：按照100分制，90分以上成绩为A，80—90分为B，60—80分为C，60分以下为D。\n",
    "#       现在要求写一个程序，当用户输入分数时，自动转换为A,B,C,D的形式，并打印出来。"
   ]
  },
  {
   "cell_type": "code",
   "execution_count": 1,
   "metadata": {},
   "outputs": [
    {
     "name": "stdout",
     "output_type": "stream",
     "text": [
      "开始分数-等级活动，请输入非q的任意字符：1\n",
      "请输入分数(0-100)：101\n",
      "输入的分数超出范围。\n",
      "请再次输入分数（0-100）：100\n",
      "A\n",
      "如果要退出，请输入q；如果要继续，请输入非q的任意字符:a\n",
      "请输入分数(0-100)：98\n",
      "A\n",
      "如果要退出，请输入q；如果要继续，请输入非q的任意字符:9\n",
      "请输入分数(0-100)：78\n",
      "C\n",
      "如果要退出，请输入q；如果要继续，请输入非q的任意字符:78\n",
      "请输入分数(0-100)：67\n",
      "C\n",
      "如果要退出，请输入q；如果要继续，请输入非q的任意字符:7\n",
      "请输入分数(0-100)：46\n",
      "D\n",
      "如果要退出，请输入q；如果要继续，请输入非q的任意字符:q\n",
      "查分数对应的等级活动，结束。\n"
     ]
    }
   ],
   "source": [
    "# 方式一\n",
    "\n",
    "flg = input(\"开始分数-等级活动，请输入非q的任意字符：\")\n",
    "\n",
    "while flg != 'q':\n",
    "    tmp = input(\"请输入分数(0-100)：\")\n",
    "    score = int(tmp)\n",
    "\n",
    "    while (score > 100 or score < 0):\n",
    "        print(\"输入的分数超出范围。\")\n",
    "        tmp1 = input(\"请再次输入分数（0-100）：\")\n",
    "        score = int(tmp1)\n",
    "\n",
    "    if (score>=90 and score<=100):\n",
    "        print(\"A\")\n",
    "    elif (score>=80 and score<90):\n",
    "        print(\"B\")\n",
    "    elif (score>=60 and score<80):\n",
    "        print(\"C\")\n",
    "    else:\n",
    "        print(\"D\")\n",
    "\n",
    "\n",
    "    flg = input(\"如果要退出，请输入q；如果要继续，请输入非q的任意字符:\")\n",
    "    if (flg == 'q'):\n",
    "        print(\"查分数对应的等级活动，结束。\")\n",
    "\n",
    "\n"
   ]
  },
  {
   "cell_type": "code",
   "execution_count": 2,
   "metadata": {},
   "outputs": [
    {
     "name": "stdout",
     "output_type": "stream",
     "text": [
      "请输入分数(0-100)：12\n"
     ]
    },
    {
     "data": {
      "text/plain": [
       "str"
      ]
     },
     "execution_count": 2,
     "metadata": {},
     "output_type": "execute_result"
    }
   ],
   "source": [
    "# 输入的数字的类型\n",
    "tmp = input(\"请输入分数(0-100)：\")\n",
    "type(tmp)\n",
    "    "
   ]
  },
  {
   "cell_type": "code",
   "execution_count": 3,
   "metadata": {},
   "outputs": [
    {
     "ename": "AssertionError",
     "evalue": "",
     "output_type": "error",
     "traceback": [
      "\u001b[1;31m---------------------------------------------------------------------------\u001b[0m",
      "\u001b[1;31mAssertionError\u001b[0m                            Traceback (most recent call last)",
      "\u001b[1;32m<ipython-input-3-2223f9ff18af>\u001b[0m in \u001b[0;36m<module>\u001b[1;34m()\u001b[0m\n\u001b[0;32m      1\u001b[0m \u001b[1;31m# 断言 assert\u001b[0m\u001b[1;33m\u001b[0m\u001b[1;33m\u001b[0m\u001b[0m\n\u001b[0;32m      2\u001b[0m \u001b[1;31m# 关键字后面的条件为假时，程序自动崩溃，并抛出AssertionError的异常。\u001b[0m\u001b[1;33m\u001b[0m\u001b[1;33m\u001b[0m\u001b[0m\n\u001b[1;32m----> 3\u001b[1;33m \u001b[1;32massert\u001b[0m \u001b[1;36m3\u001b[0m\u001b[1;33m>\u001b[0m\u001b[1;36m4\u001b[0m\u001b[1;33m\u001b[0m\u001b[0m\n\u001b[0m",
      "\u001b[1;31mAssertionError\u001b[0m: "
     ]
    }
   ],
   "source": [
    "# 断言 assert\n",
    "# 关键字后面的条件为假时，程序自动崩溃，并抛出AssertionError的异常。\n",
    "assert 3 > 4\n"
   ]
  },
  {
   "cell_type": "code",
   "execution_count": 10,
   "metadata": {},
   "outputs": [],
   "source": [
    "assert 3 < 4"
   ]
  },
  {
   "cell_type": "code",
   "execution_count": 11,
   "metadata": {},
   "outputs": [
    {
     "ename": "AssertionError",
     "evalue": "",
     "output_type": "error",
     "traceback": [
      "\u001b[1;31m---------------------------------------------------------------------------\u001b[0m",
      "\u001b[1;31mAssertionError\u001b[0m                            Traceback (most recent call last)",
      "\u001b[1;32m<ipython-input-11-6e6df518a476>\u001b[0m in \u001b[0;36m<module>\u001b[1;34m()\u001b[0m\n\u001b[1;32m----> 1\u001b[1;33m \u001b[1;32massert\u001b[0m \u001b[1;32mFalse\u001b[0m\u001b[1;33m\u001b[0m\u001b[0m\n\u001b[0m",
      "\u001b[1;31mAssertionError\u001b[0m: "
     ]
    }
   ],
   "source": [
    "assert False"
   ]
  },
  {
   "cell_type": "code",
   "execution_count": 13,
   "metadata": {},
   "outputs": [
    {
     "name": "stdout",
     "output_type": "stream",
     "text": [
      "F i s h C \n"
     ]
    }
   ],
   "source": [
    "# for 循环\n",
    "# for循环会自动调用迭代器的next()方法，自动捕获StopIteration异常并结束循环。\n",
    "\n",
    "favorite = \"FishC\"\n",
    "for each in favorite:\n",
    "    print(each, end=\" \")\n",
    "print()\n"
   ]
  },
  {
   "cell_type": "code",
   "execution_count": 14,
   "metadata": {},
   "outputs": [
    {
     "name": "stdout",
     "output_type": "stream",
     "text": [
      "0 1 2 3 4 5 6 7 8 9 \n"
     ]
    }
   ],
   "source": [
    "# for 循环\n",
    "# range([start, ] stop [, step=1])\n",
    "\n",
    "for i in range(10):\n",
    "    print(i, end = \" \")\n",
    "print()\n"
   ]
  },
  {
   "cell_type": "code",
   "execution_count": 15,
   "metadata": {},
   "outputs": [
    {
     "name": "stdout",
     "output_type": "stream",
     "text": [
      "2 3 4 5 6 7 8 \n"
     ]
    }
   ],
   "source": [
    "for i in range(2,9):\n",
    "    print(i, end = \" \")\n",
    "print()\n"
   ]
  },
  {
   "cell_type": "code",
   "execution_count": 16,
   "metadata": {},
   "outputs": [
    {
     "name": "stdout",
     "output_type": "stream",
     "text": [
      "2 4 6 8 \n"
     ]
    }
   ],
   "source": [
    "for i in range(2,10,2):\n",
    "    print(i, end = \" \")\n",
    "print()\n"
   ]
  },
  {
   "cell_type": "code",
   "execution_count": 19,
   "metadata": {},
   "outputs": [
    {
     "name": "stdout",
     "output_type": "stream",
     "text": [
      "100 98 96 94 92 90 88 86 84 82 80 78 76 74 72 70 68 66 64 62 60 58 56 54 52 \n"
     ]
    }
   ],
   "source": [
    "for i in range(100,50,-2):\n",
    "    print(i, end = \" \")\n",
    "print()\n"
   ]
  },
  {
   "cell_type": "code",
   "execution_count": 22,
   "metadata": {},
   "outputs": [
    {
     "name": "stdout",
     "output_type": "stream",
     "text": [
      "请输入小甲鱼最想听的一句话：阳阳\n",
      "抱歉，错了，请重新输入（正确才能离开哦）：阳阳乖\n",
      "抱歉，错了，请重新输入（正确才能离开哦）：阳阳乖乖\n",
      "猜对啦，游戏结束！\n"
     ]
    }
   ],
   "source": [
    "# break语句：终止for循环，跳出当前的循环体\n",
    "\n",
    "bingo = \"阳阳乖乖\"\n",
    "answer = input(\"请输入小甲鱼最想听的一句话：\")\n",
    "while True:\n",
    "    if answer == bingo:\n",
    "        break\n",
    "    answer = input(\"抱歉，错了，请重新输入（正确才能离开哦）：\")\n",
    "print(\"猜对啦，游戏结束！\")\n",
    "    "
   ]
  },
  {
   "cell_type": "code",
   "execution_count": 25,
   "metadata": {},
   "outputs": [
    {
     "name": "stdout",
     "output_type": "stream",
     "text": [
      "3\n",
      "2\n",
      "5\n",
      "4\n",
      "7\n",
      "6\n",
      "9\n",
      "8\n",
      "11\n"
     ]
    }
   ],
   "source": [
    "# continue语句：终止本轮循环，开始下一轮循环。\n",
    "# 注意：开始下一轮循环前，要先测试循环条件。\n",
    "\n",
    "for i in range(1,10):\n",
    "    if i%2 == 0:\n",
    "        print(i)\n",
    "        continue\n",
    "    i += 2\n",
    "    print(i)\n",
    "\n"
   ]
  },
  {
   "cell_type": "code",
   "execution_count": null,
   "metadata": {
    "collapsed": true
   },
   "outputs": [],
   "source": []
  }
 ],
 "metadata": {
  "kernelspec": {
   "display_name": "Python 3",
   "language": "python",
   "name": "python3"
  },
  "language_info": {
   "codemirror_mode": {
    "name": "ipython",
    "version": 3
   },
   "file_extension": ".py",
   "mimetype": "text/x-python",
   "name": "python",
   "nbconvert_exporter": "python",
   "pygments_lexer": "ipython3",
   "version": "3.6.2"
  }
 },
 "nbformat": 4,
 "nbformat_minor": 2
}
