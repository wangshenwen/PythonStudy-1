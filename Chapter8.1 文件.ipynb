{
 "cells": [
  {
   "cell_type": "code",
   "execution_count": 1,
   "metadata": {
    "collapsed": true
   },
   "outputs": [],
   "source": [
    "# 文件\n",
    "    # 打开文件\n",
    "    # 文件对象的方法\n",
    "    # 关闭文件\n",
    "    # 文件的读取和定位\n",
    "    # 文件的写入\n",
    "    # 一个任务\n"
   ]
  },
  {
   "cell_type": "code",
   "execution_count": 3,
   "metadata": {},
   "outputs": [],
   "source": [
    "# 打开文件\n",
    "# Python 中使用open 这个函数来打开文件，并返回文件对象。\n",
    "\n",
    "# open(file, mode='r', buffering=-1, encoding=None, errors=None, newline=None, closefd=True,opener=None)\n",
    "\n",
    "# 初学者，只用关注第一个和第二个参数，即可。\n",
    "    # 第一个参数：传入的文件名，如果只有文件名，不带路径的话，在当前文件中找到该文件并打开；\n",
    "    # 第二个参数：指定文件的打开方式。\n",
    "            # 'r'：以只读方式打开文件（默认）；\n",
    "            # 'w'：以写入方式打开文件，会覆盖已存在的文件；\n",
    "            # 'x'：如果文件已存在，该方式打开会引发异常；\n",
    "            # 'a'：以写入的方式打开，若文件存在，则在末尾追加写入；\n",
    "            # 'b'：以二进制模式打开文件；\n",
    "            # 't'：以文本模式打开（默认）；\n",
    "            # '+'：可读写模式（可添加到其他模式中使用）；\n",
    "            # 'U'：通用换行符模式。\n",
    "\n",
    "# 使用open() 成功打开一个文件之后，返回一个文件对象，拿到这个文件对象，可以修改或读取这个文件。\n",
    "\n",
    "# 先确保JupterNotebook的路径（C:\\Users\\Administrator\\PythonStudy-1）下\n",
    "\n",
    "f = open(\"record.txt\")\n",
    "\n",
    "# 没消息，就是好消息，说明文件被成功打开了。\n"
   ]
  },
  {
   "cell_type": "code",
   "execution_count": null,
   "metadata": {
    "collapsed": true
   },
   "outputs": [],
   "source": [
    "# 文件对象的方法\n",
    "    # close()：关闭文件；\n",
    "    \n",
    "    # read(size = -1)：从文件中读取size 个字符，\n",
    "                     # 当未给定size或给的负值的时候，读取剩余的所有字符，然后作为字符串返回；\n",
    "    # readline()：从文件中读取一整行字符串；\n",
    "    \n",
    "    # write(str)：将字符串str 写入字符串；\n",
    "    # writelines(seq)：向文件写入字符串序列seq，seq应该是一个返回字符串的可迭代对象；\n",
    "    \n",
    "    # seek(offset,from)：在文件中移动文件指针，从from偏移offset 个字节，\n",
    "                       # 0代表文件起始位置，1代表当前位置，2代表文件末尾位置；\n",
    "    \n",
    "    # tell()：返回当前在文件中的位置。\n"
   ]
  },
  {
   "cell_type": "code",
   "execution_count": null,
   "metadata": {
    "collapsed": true
   },
   "outputs": [],
   "source": [
    "# 文件的关闭\n",
    "    # Python 拥有垃圾回收机制，不会因为忘记关闭文件，就造成内存泄漏危险。\n",
    "    # 但是，Python 可能会缓存你写入的数据，若中途发生断电之类的故障，缓存的数据会丢失，不会写入到文件中去。\n",
    "    # 为了安全，写完文件后，立刻关闭文件。\n",
    "            "
   ]
  },
  {
   "cell_type": "code",
   "execution_count": 26,
   "metadata": {},
   "outputs": [
    {
     "name": "stdout",
     "output_type": "stream",
     "text": [
      "f.read() = 1\n",
      "22\n",
      "333\n",
      "4444\n",
      "55555\n",
      "666666\n",
      "f.tell() = 31\n",
      "\n",
      "f.tell.2() = 31\n",
      "f.tell.3() = 0\n",
      "f.read(5) = 1\n",
      "22\n",
      "33\n",
      "\n",
      "f.tell.4() = 9\n",
      "f.readline() = 3\n",
      "\n",
      "\n",
      "list(f) = ['4444\\n', '55555\\n', '666666']\n",
      "\n",
      "1\n",
      "22\n",
      "333\n",
      "4444\n",
      "55555\n",
      "666666\n",
      "\n",
      "1\n",
      "22\n",
      "333\n",
      "4444\n",
      "55555\n",
      "666666\n"
     ]
    }
   ],
   "source": [
    "# 文件的读取和定位\n",
    "    # 使用文件对象的read()；\n",
    "    # 使用文件对象的readline()；\n",
    "    # 直接 list(f)；\n",
    "    # 直接使用迭代来读取。\n",
    "\n",
    "\n",
    "# read() 是按字节为单位读取，如果不设置参数，会全部读取出来，文件指针指向文件末尾。\n",
    "# tell() 方法可以告诉你当前文件指针的位置。\n",
    "f = open(\"record.txt\")\n",
    "print(\"f.read() =\", f.read())\n",
    "print(\"f.tell() =\", f.tell())\n",
    "print()\n",
    "\n",
    "# 使用seek() 方法可以调整文件指针的位置。\n",
    "    # seek(offset, from)\n",
    "    # offset 为0表示起始位置，为1表示当前位置，为2表示末尾位置。\n",
    "    \n",
    "print(\"f.tell.2() =\", f.tell())\n",
    "f.seek(0,0)\n",
    "print(\"f.tell.3() =\", f.tell())\n",
    "\n",
    "print(\"f.read(5) =\", f.read(7))\n",
    "print()\n",
    "\n",
    "\n",
    "# readline() 方法用于在文件中读取一整行，就是从文件指针的位置向后读取，直到遇到换行符（\\n）结束。\n",
    "print(\"f.tell.4() =\", f.tell())\n",
    "print(\"f.readline() =\", f.readline())\n",
    "print()\n",
    "\n",
    "# 把文件的内容放到列表中。\n",
    "print(\"list(f) =\",list(f))\n",
    "print()\n",
    "\n",
    "f.seek(0,0)\n",
    "for each in list(f):\n",
    "    print(each, end=\"\")\n",
    "print()\n",
    "print()\n",
    "\n",
    "# 文件对象自身支持迭代，不用绕圈子啦\n",
    "f.seek(0,0)\n",
    "for line in f:\n",
    "    print(line, end=\"\")\n",
    "print()\n",
    "\n",
    "f.close()\n"
   ]
  },
  {
   "cell_type": "code",
   "execution_count": 34,
   "metadata": {},
   "outputs": [],
   "source": [
    "# 文件的写入\n",
    "# 如果需要写入文件，请确保文件的打开模式有 'w' 或 'a' ，否则会出错。\n",
    "# 注意，'w' 模式写入文件，此前的文件内容会被全部删除。\n",
    "\n",
    "f = open(\"record.txt\")\n",
    "# f.write(\"这是一段待写入的数据。\")\n",
    "f.close()\n"
   ]
  },
  {
   "cell_type": "code",
   "execution_count": 40,
   "metadata": {},
   "outputs": [
    {
     "name": "stdout",
     "output_type": "stream",
     "text": [
      "f.tell.1() = 22\n",
      "\n",
      "f.tell.2() = 0\n",
      "这是一段待写入的数据。\n",
      "\n"
     ]
    }
   ],
   "source": [
    "# 文件的写入\n",
    "f = open(\"record.txt\", \"w\")\n",
    "f.write(\"这是一段待写入的数据。\")\n",
    "print(\"f.tell.1() =\",f.tell())\n",
    "f.close()\n",
    "print()\n",
    "\n",
    "f = open(\"record.txt\")\n",
    "f.seek(0,0)\n",
    "print(\"f.tell.2() =\", f.tell())\n",
    "\n",
    "for each in f:\n",
    "    print(each, end=\"\")\n",
    "print()\n",
    "print() \n",
    "\n",
    "f.close()\n"
   ]
  },
  {
   "cell_type": "code",
   "execution_count": null,
   "metadata": {
    "collapsed": true
   },
   "outputs": [],
   "source": []
  }
 ],
 "metadata": {
  "kernelspec": {
   "display_name": "Python 3",
   "language": "python",
   "name": "python3"
  },
  "language_info": {
   "codemirror_mode": {
    "name": "ipython",
    "version": 3
   },
   "file_extension": ".py",
   "mimetype": "text/x-python",
   "name": "python",
   "nbconvert_exporter": "python",
   "pygments_lexer": "ipython3",
   "version": "3.6.2"
  }
 },
 "nbformat": 4,
 "nbformat_minor": 2
}
