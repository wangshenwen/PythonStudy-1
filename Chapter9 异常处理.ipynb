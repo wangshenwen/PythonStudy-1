{
 "cells": [
  {
   "cell_type": "code",
   "execution_count": 1,
   "metadata": {
    "collapsed": true
   },
   "outputs": [],
   "source": [
    "# 异常处理\n",
    "    # try-except 语句\n",
    "        # 语法\n",
    "        # 针对不同异常，设置多个except\n",
    "        # 针对多个异常统一处理\n",
    "        # 捕获所有异常\n",
    "    # try-finally 语句\n",
    "    # raise 语句\n",
    "    # 丰富的 else 语句\n",
    "    # 简洁的 with 语句\n",
    "    "
   ]
  },
  {
   "cell_type": "code",
   "execution_count": null,
   "metadata": {
    "collapsed": true
   },
   "outputs": [],
   "source": [
    "# try-except语句：语法\n",
    "\n",
    "# 1.语法：\n",
    "    # try:\n",
    "        # 检测范围\n",
    "    # except Exception[as reason]\n",
    "        # 出现异常(Exception)后的处理代码"
   ]
  },
  {
   "cell_type": "code",
   "execution_count": 2,
   "metadata": {},
   "outputs": [
    {
     "ename": "FileNotFoundError",
     "evalue": "[Errno 2] No such file or directory: '我为什么是一个文档.txt'",
     "output_type": "error",
     "traceback": [
      "\u001b[1;31m---------------------------------------------------------------------------\u001b[0m",
      "\u001b[1;31mFileNotFoundError\u001b[0m                         Traceback (most recent call last)",
      "\u001b[1;32m<ipython-input-2-c643ac515195>\u001b[0m in \u001b[0;36m<module>\u001b[1;34m()\u001b[0m\n\u001b[1;32m----> 1\u001b[1;33m \u001b[0mf\u001b[0m \u001b[1;33m=\u001b[0m \u001b[0mopen\u001b[0m\u001b[1;33m(\u001b[0m\u001b[1;34m\"我为什么是一个文档.txt\"\u001b[0m\u001b[1;33m)\u001b[0m\u001b[1;33m\u001b[0m\u001b[0m\n\u001b[0m\u001b[0;32m      2\u001b[0m \u001b[0mprint\u001b[0m\u001b[1;33m(\u001b[0m\u001b[0mf\u001b[0m\u001b[1;33m.\u001b[0m\u001b[0mread\u001b[0m\u001b[1;33m(\u001b[0m\u001b[1;33m)\u001b[0m\u001b[1;33m)\u001b[0m\u001b[1;33m\u001b[0m\u001b[0m\n\u001b[0;32m      3\u001b[0m \u001b[0mf\u001b[0m\u001b[1;33m.\u001b[0m\u001b[0mclose\u001b[0m\u001b[1;33m(\u001b[0m\u001b[1;33m)\u001b[0m\u001b[1;33m\u001b[0m\u001b[0m\n",
      "\u001b[1;31mFileNotFoundError\u001b[0m: [Errno 2] No such file or directory: '我为什么是一个文档.txt'"
     ]
    }
   ],
   "source": [
    "# try-except语句：语法\n",
    "\n",
    "f = open(\"我为什么是一个文档.txt\")\n",
    "print(f.read())\n",
    "f.close()"
   ]
  },
  {
   "cell_type": "code",
   "execution_count": 3,
   "metadata": {},
   "outputs": [
    {
     "name": "stdout",
     "output_type": "stream",
     "text": [
      "文件打开的过程中，出错啦！\n"
     ]
    }
   ],
   "source": [
    "# try-except语句：语法\n",
    "\n",
    "# 当文档不存在时，会报错，用户体验不好，可以做如下修改。\n",
    "try:\n",
    "    f = open(\"我为什么是一个文档.txt\")\n",
    "    print(f.read())\n",
    "    f.close()\n",
    "except OSError:\n",
    "    print(\"文件打开的过程中，出错啦！\")"
   ]
  },
  {
   "cell_type": "code",
   "execution_count": 4,
   "metadata": {},
   "outputs": [
    {
     "name": "stdout",
     "output_type": "stream",
     "text": [
      "文件出错啦.\n",
      "出错原因是：[Errno 2] No such file or directory: '这为什么是一个文件呢.txt？'\n"
     ]
    }
   ],
   "source": [
    "# try-except语句：语法\n",
    "\n",
    "# 从程序员的角度看，导致OSError异常的原因非常多，\n",
    "# 如：FileExistsError、FileNotFoundError、PermissionError等\n",
    "# 可能会更在意具体的错误内容，故可用as 把具体的错误信息打印出来。\n",
    "\n",
    "try:\n",
    "    f = open(\"这为什么是一个文件呢.txt？\")\n",
    "    print(f.read())\n",
    "    f.close()\n",
    "except OSError as reason:\n",
    "    print(\"文件出错啦.\")\n",
    "    print(\"出错原因是：\"+str(reason))\n",
    "        "
   ]
  },
  {
   "cell_type": "code",
   "execution_count": null,
   "metadata": {
    "collapsed": true
   },
   "outputs": [],
   "source": []
  },
  {
   "cell_type": "code",
   "execution_count": 5,
   "metadata": {},
   "outputs": [
    {
     "name": "stdout",
     "output_type": "stream",
     "text": [
      "类型出错啦！\n",
      "错误原因是：unsupported operand type(s) for +: 'int' and 'str'\n"
     ]
    }
   ],
   "source": [
    "# try-except 语句：针对不同异常，设置多个except\n",
    "# 一个try 语句，可以和多个except 语句搭配，分别对感兴趣的异常进行检测处理。\n",
    "\n",
    "\n",
    "try:\n",
    "    sum = 1 + '1'\n",
    "    f = open('我是一个不存在的文档.txt')\n",
    "    print(f.read())\n",
    "    f.close()\n",
    "except OSError as reason:\n",
    "    print(\"文件出错啦！\")\n",
    "    print(\"错误原因是：\" + str(reason))\n",
    "except TypeError as reason:\n",
    "    print(\"类型出错啦！\")\n",
    "    print(\"错误原因是：\" + str(reason))\n",
    "    "
   ]
  },
  {
   "cell_type": "code",
   "execution_count": null,
   "metadata": {
    "collapsed": true
   },
   "outputs": [],
   "source": []
  },
  {
   "cell_type": "code",
   "execution_count": 12,
   "metadata": {},
   "outputs": [
    {
     "name": "stdout",
     "output_type": "stream",
     "text": [
      "文件打开过程中出错啦。\n"
     ]
    }
   ],
   "source": [
    "# try-except 语句：针对多个类型，进行统一处理。\n",
    "# except 后边可以跟有多个异常，然后对这些异常，进行统一处理。\n",
    "\n",
    "try: \n",
    "    int(\"abc\")\n",
    "    sum = 1 + '1'\n",
    "    f = open(\"我是一个不存在的文档.txt\")\n",
    "    print(f.read())\n",
    "    f.close()\n",
    "except(OSError,TypeError,ValueError):\n",
    " #   print(\"出错啦！\")\n",
    " #   print(\"出错原因是：\" + str(reason))\n",
    "    print(\"文件打开过程中出错啦。\")"
   ]
  },
  {
   "cell_type": "code",
   "execution_count": null,
   "metadata": {
    "collapsed": true
   },
   "outputs": [],
   "source": []
  },
  {
   "cell_type": "code",
   "execution_count": null,
   "metadata": {
    "collapsed": true
   },
   "outputs": [],
   "source": [
    "# try-except 语句：捕获所有异常\n",
    "# 如果你无法确定要对哪一类异常进行处理，\n",
    "# 只希望在try 语句块里，一旦出现任何异常，\n",
    "# 能给用户一个看得懂的提示，可以这么做。\n",
    "\n",
    "# .......\n",
    "# except:\n",
    "    # print(\"出错啦!\")\n",
    "# .......\n",
    "\n",
    "# 通常不建议这么做，因为这会隐藏所有程序员没有想到、且暂时未做好处理准备的错误。\n",
    "# 注意：try语句检测范围内，一旦出现异常，剩下的语句将不会被执行。\n"
   ]
  },
  {
   "cell_type": "code",
   "execution_count": null,
   "metadata": {
    "collapsed": true
   },
   "outputs": [],
   "source": []
  },
  {
   "cell_type": "code",
   "execution_count": null,
   "metadata": {
    "collapsed": true
   },
   "outputs": [],
   "source": []
  },
  {
   "cell_type": "code",
   "execution_count": 1,
   "metadata": {},
   "outputs": [
    {
     "name": "stdout",
     "output_type": "stream",
     "text": [
      "\n",
      "出错啦~\n"
     ]
    }
   ],
   "source": [
    "# try-finally 语句\n",
    "\n",
    "try:\n",
    "    f = open(\"我是一个不存在的文档.txt\")\n",
    "    print(f.read())\n",
    "    sum = 1 + '1'\n",
    "    f.close()\n",
    "except:\n",
    "    print(\"出错啦~\")\n",
    "\n",
    "# 如果“我是一个不存在的文档.txt”，确实存在，\n",
    "# open() 函数正常返回文件对象，\n",
    "# 异常却发生在成功打开文件后的 sum=1+'1' 语句上，\n",
    "# 此时，Python将直接跳转到except 语句，\n",
    "# 也即，文件打开了，但并没有执行关闭文件的语句。\n",
    "\n",
    "\n",
    "# 像这种不得不执行收尾的工作，\n",
    "# 比如，在程序崩溃前，保存用户文档，等等\n",
    "# 可以引入finally 来扩展try。\n",
    "\n",
    "# 如果程序没有任何异常，会跳过except语句块，执行finally 语句块的内容；\n",
    "# 如果程序出现异常，会先执行except语句的内容，再执行finally语句块的内容。\n",
    "# finally 语句块中的内容，就是确保无论如何，都将被执行的内容。\n"
   ]
  },
  {
   "cell_type": "code",
   "execution_count": 2,
   "metadata": {},
   "outputs": [
    {
     "name": "stdout",
     "output_type": "stream",
     "text": [
      "\n",
      "出错啦！\n"
     ]
    }
   ],
   "source": [
    "# try-finally 语句\n",
    "\n",
    "try:\n",
    "    f = open(\"我是一个不存在的文档.txt\")\n",
    "    print(f.read())\n",
    "    sum = 1 + '1'\n",
    "except:\n",
    "    print(\"出错啦！\")\n",
    "finally:\n",
    "    f.close()"
   ]
  },
  {
   "cell_type": "code",
   "execution_count": 3,
   "metadata": {},
   "outputs": [
    {
     "name": "stdout",
     "output_type": "stream",
     "text": [
      "\n",
      "出错啦！\n"
     ]
    }
   ],
   "source": [
    "# try-finally 语句\n",
    "\n",
    "try:\n",
    "    f = open(\"我是一个不存在的文档.txt\")\n",
    "    print(f.read())\n",
    "    sum = 1 + '1'\n",
    "except:\n",
    "    print(\"出错啦！\")\n",
    "finally:\n",
    "    f.close()"
   ]
  },
  {
   "cell_type": "code",
   "execution_count": null,
   "metadata": {
    "collapsed": true
   },
   "outputs": [],
   "source": []
  },
  {
   "cell_type": "code",
   "execution_count": 17,
   "metadata": {},
   "outputs": [
    {
     "ename": "ZeroDivisionError",
     "evalue": "",
     "output_type": "error",
     "traceback": [
      "\u001b[1;31m---------------------------------------------------------------------------\u001b[0m",
      "\u001b[1;31mZeroDivisionError\u001b[0m                         Traceback (most recent call last)",
      "\u001b[1;32m<ipython-input-17-bab39883b7b3>\u001b[0m in \u001b[0;36m<module>\u001b[1;34m()\u001b[0m\n\u001b[0;32m      3\u001b[0m            \u001b[1;31m# 抛出的异常还可以带参数，表示异常的解释。\u001b[0m\u001b[1;33m\u001b[0m\u001b[1;33m\u001b[0m\u001b[0m\n\u001b[0;32m      4\u001b[0m \u001b[1;33m\u001b[0m\u001b[0m\n\u001b[1;32m----> 5\u001b[1;33m \u001b[1;32mraise\u001b[0m \u001b[0mZeroDivisionError\u001b[0m\u001b[1;33m\u001b[0m\u001b[0m\n\u001b[0m",
      "\u001b[1;31mZeroDivisionError\u001b[0m: "
     ]
    }
   ],
   "source": [
    "# raise 语句\n",
    "# raise语句，能使代码自己抛出一个异常\n",
    "           # 抛出的异常还可以带参数，表示异常的解释。\n",
    "\n",
    "raise ZeroDivisionError\n"
   ]
  },
  {
   "cell_type": "code",
   "execution_count": 18,
   "metadata": {},
   "outputs": [
    {
     "ename": "ZeroDivisionError",
     "evalue": "除数不能为零。",
     "output_type": "error",
     "traceback": [
      "\u001b[1;31m---------------------------------------------------------------------------\u001b[0m",
      "\u001b[1;31mZeroDivisionError\u001b[0m                         Traceback (most recent call last)",
      "\u001b[1;32m<ipython-input-18-dc79b072e354>\u001b[0m in \u001b[0;36m<module>\u001b[1;34m()\u001b[0m\n\u001b[0;32m      1\u001b[0m \u001b[1;31m# raise 语句\u001b[0m\u001b[1;33m\u001b[0m\u001b[1;33m\u001b[0m\u001b[0m\n\u001b[0;32m      2\u001b[0m \u001b[1;33m\u001b[0m\u001b[0m\n\u001b[1;32m----> 3\u001b[1;33m \u001b[1;32mraise\u001b[0m \u001b[0mZeroDivisionError\u001b[0m\u001b[1;33m(\u001b[0m\u001b[1;34m\"除数不能为零。\"\u001b[0m\u001b[1;33m)\u001b[0m\u001b[1;33m\u001b[0m\u001b[0m\n\u001b[0m",
      "\u001b[1;31mZeroDivisionError\u001b[0m: 除数不能为零。"
     ]
    }
   ],
   "source": [
    "# raise 语句\n",
    "\n",
    "raise ZeroDivisionError(\"除数不能为零。\")"
   ]
  },
  {
   "cell_type": "code",
   "execution_count": null,
   "metadata": {
    "collapsed": true
   },
   "outputs": [],
   "source": []
  },
  {
   "cell_type": "code",
   "execution_count": 19,
   "metadata": {
    "collapsed": true
   },
   "outputs": [],
   "source": [
    "# 丰富的else 语句\n",
    "    # 跟if 搭配，构成“要么怎么样，要么不怎么样”的句式；\n",
    "        # if 条件:\n",
    "            # 条件为真，执行\n",
    "        # else:\n",
    "            # 条件为假执行\n",
    "            \n",
    "    # 跟循环语句(for, while) 搭配，构成“干完了能怎么样，干不完就别想怎么样”的句式；\n",
    "        # else 语句只在循环完成后，执行；\n",
    "        # 如果循环中间使用break 语句跳出循环，则else 语句里的内容无法被执行。\n",
    "        \n",
    "    # 跟异常处理搭配，构成“没有问题？那就干吧”的句式。\n",
    "        # 只要try 语句块里没有任何问题，就会执行else 语句块里的东西。\n",
    "    "
   ]
  },
  {
   "cell_type": "code",
   "execution_count": 8,
   "metadata": {},
   "outputs": [
    {
     "name": "stdout",
     "output_type": "stream",
     "text": [
      "请输入一个数：90\n",
      "90 最大的约数是 45\n"
     ]
    }
   ],
   "source": [
    "# else + 循环\n",
    "# 题目：求用户输入的数的最大约数，如果是素数的话，顺便提醒“这是一个素数”。\n",
    "# 分析：暴力法\n",
    "      # 一个一个尝试(num%count==0)\n",
    "      # 如果符合条件，则打印出最大的约束，并break，同时不会执行else 语句块的内容；\n",
    "      # 如果一直没有遇到符合条件的，则会执行else 语句块的内容。\n",
    "    \n",
    "def showMaxFactor(num):\n",
    "    count = num // 2\n",
    "    while count > 1:\n",
    "        if num % count == 0:\n",
    "            print(\"%d 最大的约数是 %d\" % (num, count))\n",
    "            break\n",
    "        count = -1\n",
    "    else:\n",
    "        print(\"%d 是素数!\" % num)\n",
    "        \n",
    "num = int(input(\"请输入一个数：\"))\n",
    "showMaxFactor(num)\n"
   ]
  },
  {
   "cell_type": "code",
   "execution_count": null,
   "metadata": {
    "collapsed": true
   },
   "outputs": [],
   "source": []
  },
  {
   "cell_type": "code",
   "execution_count": 23,
   "metadata": {},
   "outputs": [
    {
     "name": "stdout",
     "output_type": "stream",
     "text": [
      "出错了： invalid literal for int() with base 10: 'abc'\n"
     ]
    }
   ],
   "source": [
    "# else + 异常处理\n",
    "\n",
    "try:\n",
    "    int(\"abc\")\n",
    "except ValueError as reason:\n",
    "    print(\"出错了：\", str(reason))\n",
    "else:\n",
    "    print(\"没有任何异常。\")\n",
    "    "
   ]
  },
  {
   "cell_type": "code",
   "execution_count": null,
   "metadata": {
    "collapsed": true
   },
   "outputs": [],
   "source": []
  },
  {
   "cell_type": "code",
   "execution_count": 10,
   "metadata": {},
   "outputs": [
    {
     "name": "stdout",
     "output_type": "stream",
     "text": [
      "出错啦：not readable\n"
     ]
    }
   ],
   "source": [
    "# 简洁的with 语句\n",
    "# 对文件操作使用with 语句，with会自动帮助关闭文件。\n",
    "\n",
    "try:\n",
    "    f = open(\"data.txt\", \"w\")\n",
    "    for each_line in f:\n",
    "        print(each_line)\n",
    "except OSError as reason:\n",
    "    print(\"出错啦：\" + str(reason))\n",
    "finally:\n",
    "    f.close() \n",
    "    "
   ]
  },
  {
   "cell_type": "code",
   "execution_count": 12,
   "metadata": {},
   "outputs": [
    {
     "name": "stdout",
     "output_type": "stream",
     "text": [
      "出错啦：not readable\n"
     ]
    }
   ],
   "source": [
    "try:\n",
    "    with open(\"data.txt\",\"w\") as f:\n",
    "        for each_line in f:\n",
    "            print(each_line)\n",
    "except OSError as reason:\n",
    "    print(\"出错啦：\" + str(reason))\n",
    "    "
   ]
  },
  {
   "cell_type": "code",
   "execution_count": null,
   "metadata": {
    "collapsed": true
   },
   "outputs": [],
   "source": []
  }
 ],
 "metadata": {
  "kernelspec": {
   "display_name": "Python 3",
   "language": "python",
   "name": "python3"
  },
  "language_info": {
   "codemirror_mode": {
    "name": "ipython",
    "version": 3
   },
   "file_extension": ".py",
   "mimetype": "text/x-python",
   "name": "python",
   "nbconvert_exporter": "python",
   "pygments_lexer": "ipython3",
   "version": "3.6.2"
  }
 },
 "nbformat": 4,
 "nbformat_minor": 2
}
