{
 "cells": [
  {
   "cell_type": "code",
   "execution_count": 1,
   "metadata": {
    "collapsed": true
   },
   "outputs": [],
   "source": [
    "# 构造与析构\n",
    "    # 构造方法\n",
    "        # __init__(self[, ...])\n",
    "        # __new__(cls[, ...])\n",
    "    # 析构方法\n",
    "        # __del__(self)\n",
    "    "
   ]
  },
  {
   "cell_type": "code",
   "execution_count": null,
   "metadata": {
    "collapsed": true
   },
   "outputs": [],
   "source": [
    "# 魔法方法\n",
    "    # 魔法方法总是被双下划线包围；\n",
    "    # 魔法方法是面向对象的Python的一切；\n",
    "    # 魔法方法的魔力体现在“总是在适当的时候被调用”。\n"
   ]
  },
  {
   "cell_type": "code",
   "execution_count": 2,
   "metadata": {
    "collapsed": true
   },
   "outputs": [],
   "source": [
    "# 构造方法\n",
    "\n",
    "# __init__(self[, ...])：类在实例化成对象的时候，首先会调用的一个方法；\n",
    "# __new__(cls[,...])：类在实例化成对象的时候，第一个被调用的魔法方法。\n"
   ]
  },
  {
   "cell_type": "code",
   "execution_count": 3,
   "metadata": {
    "collapsed": true
   },
   "outputs": [],
   "source": [
    "# 有时候在定义类时，写__init__()方法，有时候却没写。\n",
    "# 这是因为需求。\n",
    "\n",
    "class Rectangle:\n",
    "    \"\"\"\n",
    "    定义一个矩形类，\n",
    "    需要长和宽两个参数，\n",
    "    拥有计算周长和计算面积两个方法，\n",
    "    需要对象在初始化时，拥有“长”和“宽”两个参数，\n",
    "    因此，需要重写 __init__()方法。\n",
    "    \"\"\"\n",
    "    def __init__(self, x, y):\n",
    "        self.x = x\n",
    "        self.y = y\n",
    "    def getPeri(self):\n",
    "        return (self.x + self.y)*2\n",
    "    def getArea(self):\n",
    "        return self.x * self.y\n"
   ]
  },
  {
   "cell_type": "code",
   "execution_count": 4,
   "metadata": {},
   "outputs": [
    {
     "ename": "TypeError",
     "evalue": "__init__() missing 2 required positional arguments: 'x' and 'y'",
     "output_type": "error",
     "traceback": [
      "\u001b[1;31m---------------------------------------------------------------------------\u001b[0m",
      "\u001b[1;31mTypeError\u001b[0m                                 Traceback (most recent call last)",
      "\u001b[1;32m<ipython-input-4-2eb18bed2d13>\u001b[0m in \u001b[0;36m<module>\u001b[1;34m()\u001b[0m\n\u001b[1;32m----> 1\u001b[1;33m \u001b[0mrect\u001b[0m \u001b[1;33m=\u001b[0m \u001b[0mRectangle\u001b[0m\u001b[1;33m(\u001b[0m\u001b[1;33m)\u001b[0m\u001b[1;33m\u001b[0m\u001b[0m\n\u001b[0m",
      "\u001b[1;31mTypeError\u001b[0m: __init__() missing 2 required positional arguments: 'x' and 'y'"
     ]
    }
   ],
   "source": [
    "rect = Rectangle()\n"
   ]
  },
  {
   "cell_type": "code",
   "execution_count": 5,
   "metadata": {
    "collapsed": true
   },
   "outputs": [],
   "source": [
    "rect = Rectangle(5,8)"
   ]
  },
  {
   "cell_type": "code",
   "execution_count": 11,
   "metadata": {},
   "outputs": [
    {
     "name": "stdout",
     "output_type": "stream",
     "text": [
      "周长是 26 米。\n",
      "面积是 40 平。\n"
     ]
    }
   ],
   "source": [
    "print(\"周长是\", rect.getPeri(),\"米。\")\n",
    "\n",
    "print(\"面积是 %d 平。\" % rect.getArea())\n"
   ]
  },
  {
   "cell_type": "code",
   "execution_count": null,
   "metadata": {
    "collapsed": true
   },
   "outputs": [],
   "source": []
  },
  {
   "cell_type": "code",
   "execution_count": 10,
   "metadata": {
    "collapsed": true
   },
   "outputs": [],
   "source": [
    "# 注意：__init__()方法的返回值一定是None，不能是其他。\n",
    "\n",
    "class A:\n",
    "    def __init__(self):\n",
    "        return \"A for A-cup.\"\n",
    "    "
   ]
  },
  {
   "cell_type": "code",
   "execution_count": 12,
   "metadata": {},
   "outputs": [
    {
     "ename": "TypeError",
     "evalue": "__init__() should return None, not 'str'",
     "output_type": "error",
     "traceback": [
      "\u001b[1;31m---------------------------------------------------------------------------\u001b[0m",
      "\u001b[1;31mTypeError\u001b[0m                                 Traceback (most recent call last)",
      "\u001b[1;32m<ipython-input-12-fc4fefb6499d>\u001b[0m in \u001b[0;36m<module>\u001b[1;34m()\u001b[0m\n\u001b[1;32m----> 1\u001b[1;33m \u001b[0mcup\u001b[0m \u001b[1;33m=\u001b[0m \u001b[0mA\u001b[0m\u001b[1;33m(\u001b[0m\u001b[1;33m)\u001b[0m\u001b[1;33m\u001b[0m\u001b[0m\n\u001b[0m",
      "\u001b[1;31mTypeError\u001b[0m: __init__() should return None, not 'str'"
     ]
    }
   ],
   "source": [
    "cup = A()"
   ]
  },
  {
   "cell_type": "code",
   "execution_count": null,
   "metadata": {
    "collapsed": true
   },
   "outputs": [],
   "source": [
    "# 一般在需要进行初始化时，才重写 __init__()方法\n",
    "# 其实，__init()方法并不是实例化对象时，第一个被调用的魔法方法。\n",
    "\n",
    "# __new__()方法才是一个对象实例化时，第一个调用的方法。\n",
    "# __new__()方法与其他魔法方法不同，\n",
    "    # 它的第一个参数不是self，而是这个类(cls)\n",
    "    # 而其他的参数会直接传递给__init__()方法。\n",
    "    # 它需要返回一个实例对象，通常是cls 这个类实例化的对象，\n",
    "        # 当然，也可以是其他对象。\n",
    "\n",
    "        # __new()__ 方法平时很少去重写它，一般让Python 用默认的方案执行。\n",
    "# 有一种特殊的情况，需要重写 __new__()方法：\n",
    "    # 当继承一个不可变的类型的时候，它的特性就很重要了。\n"
   ]
  },
  {
   "cell_type": "code",
   "execution_count": 17,
   "metadata": {},
   "outputs": [
    {
     "data": {
      "text/plain": [
       "'I LOVE PYTHON.'"
      ]
     },
     "execution_count": 17,
     "metadata": {},
     "output_type": "execute_result"
    }
   ],
   "source": [
    "# __new__() \n",
    "\n",
    "class CapStr(str):\n",
    "    def __new__(cls, string):\n",
    "        string = string.upper()\n",
    "        return str.__new__(cls, string)\n",
    "\n",
    "a = CapStr(\"I love Python.\")\n",
    "a\n",
    "\n",
    "# 这里返回 str.__new__(cls, string) 这种做法是值得推崇的，\n",
    "# 只需要重写我们关注的那部分内容，\n",
    "# 然后，其他的内容都交给Python 的默认机制去完成，\n",
    "# 因为，它们出错的概率比我们自己小得多。\n"
   ]
  },
  {
   "cell_type": "code",
   "execution_count": null,
   "metadata": {
    "collapsed": true
   },
   "outputs": [],
   "source": []
  },
  {
   "cell_type": "code",
   "execution_count": 5,
   "metadata": {},
   "outputs": [
    {
     "name": "stdout",
     "output_type": "stream",
     "text": [
      "我是 __init__ 方法，我被调用了 ...\n"
     ]
    }
   ],
   "source": [
    "# __del__(self)\n",
    "# 当对象要被销毁的时候，该方法会被调用；\n",
    "# 一定要注意的是：\n",
    "    # del x  不等于  自动调用 x.__del__()\n",
    "    # __del__() 方法是当垃圾回收机制回收这个对象的时候调用的。\n",
    "    \n",
    "class C:\n",
    "    def __init__(self):\n",
    "        print(\"我是 __init__ 方法，我被调用了 ...\")\n",
    "    def __del__(self):\n",
    "        print(\"我是 __del__ 方法，我被调用了 ...\")\n",
    "        \n",
    "c1 = C()"
   ]
  },
  {
   "cell_type": "code",
   "execution_count": 6,
   "metadata": {
    "collapsed": true
   },
   "outputs": [],
   "source": [
    "c2 = c1"
   ]
  },
  {
   "cell_type": "code",
   "execution_count": 7,
   "metadata": {
    "collapsed": true
   },
   "outputs": [],
   "source": [
    "c3 = c2"
   ]
  },
  {
   "cell_type": "code",
   "execution_count": 2,
   "metadata": {
    "collapsed": true
   },
   "outputs": [],
   "source": [
    "del c1"
   ]
  },
  {
   "cell_type": "code",
   "execution_count": 3,
   "metadata": {
    "collapsed": true
   },
   "outputs": [],
   "source": [
    "del c2"
   ]
  },
  {
   "cell_type": "code",
   "execution_count": 4,
   "metadata": {},
   "outputs": [
    {
     "name": "stdout",
     "output_type": "stream",
     "text": [
      "我是 __del__ 方法，我被调用了 ...\n"
     ]
    }
   ],
   "source": [
    "del c3"
   ]
  },
  {
   "cell_type": "code",
   "execution_count": null,
   "metadata": {
    "collapsed": true
   },
   "outputs": [],
   "source": []
  }
 ],
 "metadata": {
  "kernelspec": {
   "display_name": "Python 3",
   "language": "python",
   "name": "python3"
  },
  "language_info": {
   "codemirror_mode": {
    "name": "ipython",
    "version": 3
   },
   "file_extension": ".py",
   "mimetype": "text/x-python",
   "name": "python",
   "nbconvert_exporter": "python",
   "pygments_lexer": "ipython3",
   "version": "3.6.2"
  }
 },
 "nbformat": 4,
 "nbformat_minor": 2
}
