{
 "cells": [
  {
   "cell_type": "code",
   "execution_count": 1,
   "metadata": {
    "collapsed": true
   },
   "outputs": [],
   "source": [
    "# 内嵌函数和闭包\n",
    "    # global 关键字 \n",
    "    # 内嵌函数\n",
    "    # 闭包(closure)\n"
   ]
  },
  {
   "cell_type": "code",
   "execution_count": 3,
   "metadata": {},
   "outputs": [
    {
     "name": "stdout",
     "output_type": "stream",
     "text": [
      "In Function, count = 10\n",
      "Outside Function, count = 5\n"
     ]
    }
   ],
   "source": [
    "# global 关键字\n",
    "\n",
    "# 全局变量的作用域是整个模块（整个代码段），\n",
    "    # 也即，代码段内所有的函数内部都可以访问到全局变量。\n",
    "    # 注意，函数内部，仅仅去访问就好，不要试图修改局部变量。\n",
    "\n",
    "# Python会使用屏蔽(Shawdowing) 方式“保护”全局变量\n",
    "    # 一旦函数内部试图修改全局变量，\n",
    "    # Python 会在函数内部自动创建一个名字一模一样的局部变量，\n",
    "    # 这样，修改的结果只会修改到局部变量，不会影响全局变量。\n",
    "\n",
    "count = 5\n",
    "\n",
    "def myFun():\n",
    "    count = 10\n",
    "    print(\"In Function, count =\",count)\n",
    "\n",
    "myFun()\n",
    "print(\"Outside Function, count =\", count)\n"
   ]
  },
  {
   "cell_type": "code",
   "execution_count": 6,
   "metadata": {},
   "outputs": [
    {
     "name": "stdout",
     "output_type": "stream",
     "text": [
      "Before function, count = 5\n",
      "In function, count = 10\n",
      "Outside function, count = 10\n"
     ]
    }
   ],
   "source": [
    "# global 关键字\n",
    "# 如果一定要在函数内部，修改全局变量的值，使用global 关键字\n",
    "\n",
    "count = 5\n",
    "print(\"Before function, count =\", count)\n",
    "\n",
    "def myFun():\n",
    "    global count\n",
    "    count = 10\n",
    "    print(\"In function, count =\", count)\n",
    "\n",
    "myFun()\n",
    "\n",
    "print(\"Outside function, count =\", count)"
   ]
  },
  {
   "cell_type": "code",
   "execution_count": null,
   "metadata": {
    "collapsed": true
   },
   "outputs": [],
   "source": []
  },
  {
   "cell_type": "code",
   "execution_count": 8,
   "metadata": {},
   "outputs": [
    {
     "name": "stdout",
     "output_type": "stream",
     "text": [
      "fun1() 正在被调用...\n",
      "fun2() 正在被调用...\n"
     ]
    }
   ],
   "source": [
    "# 内嵌函数（内部函数）\n",
    "# Python 的函数定义是可以嵌套的，允许在函数内部创建另一个函数，叫“内嵌函数”或“内部函数”。\n",
    "\n",
    "def fun1():\n",
    "    print(\"fun1() 正在被调用...\")\n",
    "    def fun2():\n",
    "        print(\"fun2() 正在被调用...\")\n",
    "    fun2()    \n",
    "        \n",
    "fun1()     \n"
   ]
  },
  {
   "cell_type": "code",
   "execution_count": 12,
   "metadata": {},
   "outputs": [
    {
     "name": "stdout",
     "output_type": "stream",
     "text": [
      "fun1() 正在被调用...\n",
      "fun2() 正在被调用...\n"
     ]
    },
    {
     "ename": "NameError",
     "evalue": "name 'fun2' is not defined",
     "output_type": "error",
     "traceback": [
      "\u001b[1;31m---------------------------------------------------------------------------\u001b[0m",
      "\u001b[1;31mNameError\u001b[0m                                 Traceback (most recent call last)",
      "\u001b[1;32m<ipython-input-12-6417079773d3>\u001b[0m in \u001b[0;36m<module>\u001b[1;34m()\u001b[0m\n\u001b[0;32m     12\u001b[0m \u001b[0mfun1\u001b[0m\u001b[1;33m(\u001b[0m\u001b[1;33m)\u001b[0m\u001b[1;33m\u001b[0m\u001b[0m\n\u001b[0;32m     13\u001b[0m \u001b[1;33m\u001b[0m\u001b[0m\n\u001b[1;32m---> 14\u001b[1;33m \u001b[0mfun2\u001b[0m\u001b[1;33m(\u001b[0m\u001b[1;33m)\u001b[0m\u001b[1;33m\u001b[0m\u001b[0m\n\u001b[0m",
      "\u001b[1;31mNameError\u001b[0m: name 'fun2' is not defined"
     ]
    }
   ],
   "source": [
    "# 内嵌函数\n",
    "# 注意：整个内嵌函数的作用域，都在外部函数之内。\n",
    "# 例如，在fun1()函数体内，可以随意调用fun2()，\n",
    "        # 但出了fun1()函数体外，就不能调用fun2()，否则会报错。\n",
    "\n",
    "def fun1():\n",
    "    print(\"fun1() 正在被调用...\")\n",
    "    def fun2():\n",
    "        print(\"fun2() 正在被调用...\")\n",
    "    fun2()    \n",
    "\n",
    "fun1()\n",
    "\n",
    "fun2()\n",
    "\n"
   ]
  },
  {
   "cell_type": "code",
   "execution_count": 15,
   "metadata": {},
   "outputs": [
    {
     "name": "stdout",
     "output_type": "stream",
     "text": [
      "result1 = 40\n",
      "result2 = 45\n"
     ]
    }
   ],
   "source": [
    "# 闭包(closure)\n",
    "# 闭包：闭包是函数式编程的一个重要的语法结构。\n",
    "# Python 中的闭包，从表现形式上，\n",
    "    # 定义为：如果一个内部函数里，对在外部作用域（但不是全局作用域）的变量进行引用，那么内部函数就被认为是闭包。\n",
    "\n",
    "def funX(x):\n",
    "    def funY(y):\n",
    "        return x*y\n",
    "    return funY\n",
    "\n",
    "i = funX(8)\n",
    "result1 = i(5)\n",
    "print(\"result1 =\", result1)\n",
    "\n",
    "result2 = funX(5)(9)\n",
    "print(\"result2 =\", result2)\n"
   ]
  },
  {
   "cell_type": "code",
   "execution_count": 18,
   "metadata": {},
   "outputs": [
    {
     "ename": "NameError",
     "evalue": "name 'funY' is not defined",
     "output_type": "error",
     "traceback": [
      "\u001b[1;31m---------------------------------------------------------------------------\u001b[0m",
      "\u001b[1;31mNameError\u001b[0m                                 Traceback (most recent call last)",
      "\u001b[1;32m<ipython-input-18-583e94e99520>\u001b[0m in \u001b[0;36m<module>\u001b[1;34m()\u001b[0m\n\u001b[0;32m      7\u001b[0m     \u001b[1;32mreturn\u001b[0m \u001b[0mfunY\u001b[0m\u001b[1;33m\u001b[0m\u001b[0m\n\u001b[0;32m      8\u001b[0m \u001b[1;33m\u001b[0m\u001b[0m\n\u001b[1;32m----> 9\u001b[1;33m \u001b[0mfunY\u001b[0m\u001b[1;33m(\u001b[0m\u001b[1;36m5\u001b[0m\u001b[1;33m)\u001b[0m\u001b[1;33m\u001b[0m\u001b[0m\n\u001b[0m",
      "\u001b[1;31mNameError\u001b[0m: name 'funY' is not defined"
     ]
    }
   ],
   "source": [
    "# 闭包\n",
    "# 注意，闭包的概念是由内部函数而来的，故不能在外部函数以外的地方，对内部函数进行调用，否则会报错。\n",
    "\n",
    "def funX(x):\n",
    "    def funY(y):\n",
    "        return x*y\n",
    "    return funY\n",
    "\n",
    "funY(5)\n"
   ]
  },
  {
   "cell_type": "code",
   "execution_count": 20,
   "metadata": {},
   "outputs": [
    {
     "ename": "UnboundLocalError",
     "evalue": "local variable 'x' referenced before assignment",
     "output_type": "error",
     "traceback": [
      "\u001b[1;31m---------------------------------------------------------------------------\u001b[0m",
      "\u001b[1;31mUnboundLocalError\u001b[0m                         Traceback (most recent call last)",
      "\u001b[1;32m<ipython-input-20-809aa545c5e5>\u001b[0m in \u001b[0;36m<module>\u001b[1;34m()\u001b[0m\n\u001b[0;32m     11\u001b[0m     \u001b[1;32mreturn\u001b[0m \u001b[0mfunY\u001b[0m\u001b[1;33m\u001b[0m\u001b[0m\n\u001b[0;32m     12\u001b[0m \u001b[1;33m\u001b[0m\u001b[0m\n\u001b[1;32m---> 13\u001b[1;33m \u001b[0mfunX\u001b[0m\u001b[1;33m(\u001b[0m\u001b[1;33m)\u001b[0m\u001b[1;33m(\u001b[0m\u001b[1;33m)\u001b[0m\u001b[1;33m\u001b[0m\u001b[0m\n\u001b[0m\u001b[0;32m     14\u001b[0m \u001b[1;33m\u001b[0m\u001b[0m\n\u001b[0;32m     15\u001b[0m \u001b[1;33m\u001b[0m\u001b[0m\n",
      "\u001b[1;32m<ipython-input-20-809aa545c5e5>\u001b[0m in \u001b[0;36mfunY\u001b[1;34m()\u001b[0m\n\u001b[0;32m      7\u001b[0m     \u001b[0mx\u001b[0m \u001b[1;33m=\u001b[0m \u001b[1;36m5\u001b[0m\u001b[1;33m\u001b[0m\u001b[0m\n\u001b[0;32m      8\u001b[0m     \u001b[1;32mdef\u001b[0m \u001b[0mfunY\u001b[0m\u001b[1;33m(\u001b[0m\u001b[1;33m)\u001b[0m\u001b[1;33m:\u001b[0m\u001b[1;33m\u001b[0m\u001b[0m\n\u001b[1;32m----> 9\u001b[1;33m         \u001b[0mx\u001b[0m \u001b[1;33m*=\u001b[0m \u001b[0mx\u001b[0m\u001b[1;33m\u001b[0m\u001b[0m\n\u001b[0m\u001b[0;32m     10\u001b[0m         \u001b[1;32mreturn\u001b[0m \u001b[0mx\u001b[0m\u001b[1;33m\u001b[0m\u001b[0m\n\u001b[0;32m     11\u001b[0m     \u001b[1;32mreturn\u001b[0m \u001b[0mfunY\u001b[0m\u001b[1;33m\u001b[0m\u001b[0m\n",
      "\u001b[1;31mUnboundLocalError\u001b[0m: local variable 'x' referenced before assignment"
     ]
    }
   ],
   "source": [
    "# 闭包\n",
    "# 在闭包中，外部函数的局部变量对应于内部函数的局部变量，\n",
    "          # 事实上，相当于之前讲的全局变量跟局部变量之间的关系，\n",
    "          # 在内部函数中，只能对外部函数的局部变量进行访问，不能修改。\n",
    "        \n",
    "def funX():\n",
    "    x = 5\n",
    "    def funY():\n",
    "        x *= x\n",
    "        return x\n",
    "    return funY\n",
    "\n",
    "funX()()\n",
    "    \n",
    "    "
   ]
  },
  {
   "cell_type": "code",
   "execution_count": 29,
   "metadata": {},
   "outputs": [
    {
     "name": "stdout",
     "output_type": "stream",
     "text": [
      "resolution1 = 25\n",
      "resolution2 = 64\n"
     ]
    }
   ],
   "source": [
    "# 闭包\n",
    "# 上述错误，有两种解决方案。\n",
    "# 方案一：容器\n",
    "    # 在 Python3 之前，没有直接的解决方案，只能间接地通过容器类型来存放，\n",
    "    # 因为容器类型不是存放在栈里，所以不会被“屏蔽”掉。\n",
    "    # 之前的列表、元组、字符串 都是容器类型。\n",
    "# 方案二：nonlocal\n",
    "    # 在 Python3 里，可以使用 nonlocal 关键字\n",
    "    # 作用：在内部函数里，修改外部函数的局部变量的值。\n",
    "\n",
    "# 方案一：容器\n",
    "def funX():\n",
    "    x = [5]\n",
    "    def funY():\n",
    "        x[0] *=  x[0]\n",
    "        return x[0]\n",
    "    return funY\n",
    "    \n",
    "resolution1 = funX()()\n",
    "print(\"resolution1 =\", resolution1)\n",
    "\n",
    "\n",
    "# 方案二：nonlocal\n",
    "def funXX():\n",
    "    xx = 8\n",
    "    def funYY():\n",
    "        nonlocal xx\n",
    "        xx *= xx\n",
    "        return xx\n",
    "    return funYY\n",
    "\n",
    "\n",
    "resolution2 = funXX()()\n",
    "print(\"resolution2 =\", resolution2)\n",
    "\n"
   ]
  },
  {
   "cell_type": "code",
   "execution_count": null,
   "metadata": {
    "collapsed": true
   },
   "outputs": [],
   "source": []
  }
 ],
 "metadata": {
  "kernelspec": {
   "display_name": "Python 3",
   "language": "python",
   "name": "python3"
  },
  "language_info": {
   "codemirror_mode": {
    "name": "ipython",
    "version": 3
   },
   "file_extension": ".py",
   "mimetype": "text/x-python",
   "name": "python",
   "nbconvert_exporter": "python",
   "pygments_lexer": "ipython3",
   "version": "3.6.2"
  }
 },
 "nbformat": 4,
 "nbformat_minor": 2
}
