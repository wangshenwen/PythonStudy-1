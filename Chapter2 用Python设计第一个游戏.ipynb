{
 "cells": [
  {
   "cell_type": "code",
   "execution_count": 2,
   "metadata": {},
   "outputs": [
    {
     "name": "stdout",
     "output_type": "stream",
     "text": [
      "猜一猜小甲鱼，心中所想的数字：12\n",
      "实际数字更小一些。\n"
     ]
    }
   ],
   "source": [
    "temp = input(\"猜一猜小甲鱼，心中所想的数字：\")\n",
    "guess = int(temp)\n",
    "secret = 10\n",
    "if guess == secret:\n",
    "    print(\"猜对了，你真棒！\")\n",
    "else:\n",
    "    if guess > secret:\n",
    "        print(\"实际数字更小一些。\")\n",
    "    else:\n",
    "        print(\"实际数字更大一些。\")\n"
   ]
  },
  {
   "cell_type": "code",
   "execution_count": null,
   "metadata": {
    "collapsed": true
   },
   "outputs": [],
   "source": []
  },
  {
   "cell_type": "code",
   "execution_count": null,
   "metadata": {
    "collapsed": true
   },
   "outputs": [],
   "source": []
  }
 ],
 "metadata": {
  "kernelspec": {
   "display_name": "Python 3",
   "language": "python",
   "name": "python3"
  },
  "language_info": {
   "codemirror_mode": {
    "name": "ipython",
    "version": 3
   },
   "file_extension": ".py",
   "mimetype": "text/x-python",
   "name": "python",
   "nbconvert_exporter": "python",
   "pygments_lexer": "ipython3",
   "version": "3.6.2"
  }
 },
 "nbformat": 4,
 "nbformat_minor": 2
}
