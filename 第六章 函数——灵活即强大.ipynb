{
 "cells": [
  {
   "cell_type": "code",
   "execution_count": 1,
   "metadata": {
    "collapsed": true
   },
   "outputs": [],
   "source": [
    "# 灵活，并不意味着无所不能、无所不包，函数因参数而灵活。\n",
    "# 没有参数，一个函数只能死板地完成一个功能、一项任务。\n",
    "    # 形参和实参\n",
    "    # 函数文档\n",
    "    # 关键字参数\n",
    "    # 默认参数\n",
    "    # 收集参数\n"
   ]
  },
  {
   "cell_type": "code",
   "execution_count": 4,
   "metadata": {},
   "outputs": [
    {
     "name": "stdout",
     "output_type": "stream",
     "text": [
      "小甲鱼\n",
      "老甲鱼\n"
     ]
    }
   ],
   "source": [
    "# 形参和实参\n",
    "# 参数从调用的角度看，分为形式参数（形参）和实际参数（实参）。\n",
    "    # 形参(parameter)：指函数创建和定义过程中，小括号里的参数；\n",
    "    # 实参(argumnet)：指函数在被调用的过程中，传递进来的参数。 \n",
    "    \n",
    "def myFirstFunction(name):\n",
    "    print(name)\n",
    "\n",
    "myFirstFunction(\"小甲鱼\")\n",
    "myFirstFunction(\"老甲鱼\")\n"
   ]
  },
  {
   "cell_type": "code",
   "execution_count": 5,
   "metadata": {},
   "outputs": [
    {
     "data": {
      "text/plain": [
       "65.0"
      ]
     },
     "execution_count": 5,
     "metadata": {},
     "output_type": "execute_result"
    }
   ],
   "source": [
    "# 函数文档：描述函数的功能。\n",
    "\n",
    "def exchangeRate(dollar):\n",
    "    \"\"\"美元——>人民币\n",
    "    暂定汇率为6.5\n",
    "    \"\"\"\n",
    "    return dollar*6.5\n",
    "\n",
    "exchangeRate(10)\n"
   ]
  },
  {
   "cell_type": "code",
   "execution_count": 7,
   "metadata": {},
   "outputs": [
    {
     "data": {
      "text/plain": [
       "'美元——>人民币\\n    暂定汇率为6.5\\n    '"
      ]
     },
     "execution_count": 7,
     "metadata": {},
     "output_type": "execute_result"
    }
   ],
   "source": [
    "exchangeRate.__doc__"
   ]
  },
  {
   "cell_type": "code",
   "execution_count": 8,
   "metadata": {},
   "outputs": [
    {
     "name": "stdout",
     "output_type": "stream",
     "text": [
      "Help on function exchangeRate in module __main__:\n",
      "\n",
      "exchangeRate(dollar)\n",
      "    美元——>人民币\n",
      "    暂定汇率为6.5\n",
      "\n"
     ]
    }
   ],
   "source": [
    "help(exchangeRate)"
   ]
  },
  {
   "cell_type": "code",
   "execution_count": 13,
   "metadata": {},
   "outputs": [
    {
     "name": "stdout",
     "output_type": "stream",
     "text": [
      "小甲鱼 —> 让编程改变世界\n",
      "让编程改变世界 —> 小甲鱼\n",
      "小甲鱼 —> 让编程改变世界\n"
     ]
    }
   ],
   "source": [
    "# 关键字参数\n",
    "# 定义：关键字参数是在传入实参时，指定形参的变量名。\n",
    "\n",
    "def saySomething(name,words):\n",
    "    print(name + \" —> \" + words)\n",
    "\n",
    "saySomething(\"小甲鱼\",\"让编程改变世界\")\n",
    "\n",
    "saySomething(\"让编程改变世界\",\"小甲鱼\")\n",
    "\n",
    "saySomething(words=\"让编程改变世界\", name=\"小甲鱼\")\n"
   ]
  },
  {
   "cell_type": "code",
   "execution_count": 15,
   "metadata": {},
   "outputs": [
    {
     "name": "stdout",
     "output_type": "stream",
     "text": [
      "小甲鱼  —>  让编程改变世界\n"
     ]
    }
   ],
   "source": [
    "# 默认参数\n",
    "# 定义：默认参数是在定义的时候，赋予了默认值的参数。\n",
    "# 注意：在函数调用时，默认参数可以缺省参数赋值。\n",
    "\n",
    "def saySomething(name=\"小甲鱼\",words=\"让编程改变世界\"):\n",
    "    print(name,\" —> \", words)\n",
    "    \n",
    "saySomething()\n",
    "\n",
    "# 默认参数与关键字参数\n",
    "# 默认参数：可以不带参数去调用函数；  \n",
    "# 默认参数在参数定义过程中，为形参赋值，当函数调用的时候，不传递实参，则默认使用形参的初始值代替。\n",
    "\n",
    "# 关键字参数：在函数调用的时候，通过参数名指定套赋值的参数，这样就不怕搞不清参数的顺序，而导致函数调用出错。\n"
   ]
  },
  {
   "cell_type": "code",
   "execution_count": 24,
   "metadata": {},
   "outputs": [
    {
     "name": "stdout",
     "output_type": "stream",
     "text": [
      "有 5 个参数\n",
      "第二个参数是： i\n"
     ]
    }
   ],
   "source": [
    "# 收集参数（也叫，可变参数）\n",
    "# 函数作者有时候也不知道这个函数到底要多少个参数，仅需在参数前面加上星号(*)即可。\n",
    "\n",
    "def test(* params):\n",
    "    print(\"有 %d 个参数\" % len(params))\n",
    "    print(\"第二个参数是：\", params[1])\n",
    "\n",
    "test('F','i','s','h','C')\n"
   ]
  },
  {
   "cell_type": "code",
   "execution_count": 25,
   "metadata": {},
   "outputs": [
    {
     "ename": "TypeError",
     "evalue": "test() missing 1 required keyword-only argument: 'extra'",
     "output_type": "error",
     "traceback": [
      "\u001b[1;31m---------------------------------------------------------------------------\u001b[0m",
      "\u001b[1;31mTypeError\u001b[0m                                 Traceback (most recent call last)",
      "\u001b[1;32m<ipython-input-25-c53d6e04ef1d>\u001b[0m in \u001b[0;36m<module>\u001b[1;34m()\u001b[0m\n\u001b[0;32m      7\u001b[0m     \u001b[0mprint\u001b[0m\u001b[1;33m(\u001b[0m\u001b[1;34m\"位置参数是：\"\u001b[0m\u001b[1;33m,\u001b[0m \u001b[0mextra\u001b[0m\u001b[1;33m)\u001b[0m\u001b[1;33m\u001b[0m\u001b[0m\n\u001b[0;32m      8\u001b[0m \u001b[1;33m\u001b[0m\u001b[0m\n\u001b[1;32m----> 9\u001b[1;33m \u001b[0mtest\u001b[0m\u001b[1;33m(\u001b[0m\u001b[1;36m1\u001b[0m\u001b[1;33m,\u001b[0m\u001b[1;36m2\u001b[0m\u001b[1;33m,\u001b[0m\u001b[1;36m3\u001b[0m\u001b[1;33m,\u001b[0m\u001b[1;36m4\u001b[0m\u001b[1;33m,\u001b[0m\u001b[1;36m5\u001b[0m\u001b[1;33m,\u001b[0m\u001b[1;36m6\u001b[0m\u001b[1;33m,\u001b[0m\u001b[1;36m7\u001b[0m\u001b[1;33m,\u001b[0m\u001b[1;36m8\u001b[0m\u001b[1;33m)\u001b[0m\u001b[1;33m\u001b[0m\u001b[0m\n\u001b[0m\u001b[0;32m     10\u001b[0m \u001b[1;33m\u001b[0m\u001b[0m\n",
      "\u001b[1;31mTypeError\u001b[0m: test() missing 1 required keyword-only argument: 'extra'"
     ]
    }
   ],
   "source": [
    "# 收集参数\n",
    "# Python 把标志为收集参数的参数们，打包成一个元组，\n",
    "# 注意，在收集参数后面，还需要有其他参数，在调用函数时，需要用关键字参数来指定。\n",
    "# 否则，Python 会把实参都列入收集参数的范畴。\n",
    "\n",
    "def test(*params, extra):\n",
    "    print(\"收集参数是：\", params)\n",
    "    print(\"位置参数是：\", extra)\n",
    "    \n",
    "test(1,2,3,4,5,6,7,8)\n",
    "\n",
    "# 此例子，就应该报错"
   ]
  },
  {
   "cell_type": "code",
   "execution_count": 33,
   "metadata": {},
   "outputs": [
    {
     "name": "stdout",
     "output_type": "stream",
     "text": [
      "收集参数是： (1, 2, 3, 4, 5, 6, 7, 8, 9, 10)\n",
      "位置参数是： 88\n"
     ]
    }
   ],
   "source": [
    "# 收集参数\n",
    "# 从上面的例子看出，收集参数中，其他参数需要用关键字参数来指定。\n",
    "# 或者，也可将其他参数设置为默认参数。\n",
    "\n",
    "def test(* params, extra=88):\n",
    "    print(\"收集参数是：\", params)\n",
    "    print(\"位置参数是：\", extra)\n",
    "    \n",
    "test(1,2,3,4,5,6,7,8,9,10)\n"
   ]
  },
  {
   "cell_type": "code",
   "execution_count": 34,
   "metadata": {},
   "outputs": [
    {
     "name": "stdout",
     "output_type": "stream",
     "text": [
      "收集参数是： (1, 2, 3, 4, 5, 6, 7, 8, 9, 10)\n",
      "位置参数是： 99\n"
     ]
    }
   ],
   "source": [
    "# 收集参数\n",
    "\n",
    "def test(* params, extra):\n",
    "    print(\"收集参数是：\", params)\n",
    "    print(\"位置参数是：\", extra)\n",
    "    \n",
    "test(1,2,3,4,5,6,7,8,9,10,extra=99)"
   ]
  },
  {
   "cell_type": "code",
   "execution_count": 52,
   "metadata": {},
   "outputs": [
    {
     "name": "stdout",
     "output_type": "stream",
     "text": [
      "有1个收集参数：\n"
     ]
    },
    {
     "ename": "IndexError",
     "evalue": "tuple index out of range",
     "output_type": "error",
     "traceback": [
      "\u001b[1;31m---------------------------------------------------------------------------\u001b[0m",
      "\u001b[1;31mIndexError\u001b[0m                                Traceback (most recent call last)",
      "\u001b[1;32m<ipython-input-52-6a32b9e396c5>\u001b[0m in \u001b[0;36m<module>\u001b[1;34m()\u001b[0m\n\u001b[0;32m      8\u001b[0m \u001b[1;33m\u001b[0m\u001b[0m\n\u001b[0;32m      9\u001b[0m \u001b[0ma\u001b[0m \u001b[1;33m=\u001b[0m \u001b[1;33m[\u001b[0m\u001b[1;36m1\u001b[0m\u001b[1;33m,\u001b[0m\u001b[1;36m2\u001b[0m\u001b[1;33m,\u001b[0m\u001b[1;36m3\u001b[0m\u001b[1;33m,\u001b[0m\u001b[1;36m4\u001b[0m\u001b[1;33m,\u001b[0m\u001b[1;36m5\u001b[0m\u001b[1;33m,\u001b[0m\u001b[1;36m6\u001b[0m\u001b[1;33m,\u001b[0m\u001b[1;36m7\u001b[0m\u001b[1;33m,\u001b[0m\u001b[1;36m8\u001b[0m\u001b[1;33m,\u001b[0m\u001b[1;36m9\u001b[0m\u001b[1;33m,\u001b[0m\u001b[1;36m10\u001b[0m\u001b[1;33m]\u001b[0m\u001b[1;33m\u001b[0m\u001b[0m\n\u001b[1;32m---> 10\u001b[1;33m \u001b[0mtest\u001b[0m\u001b[1;33m(\u001b[0m\u001b[0ma\u001b[0m\u001b[1;33m)\u001b[0m\u001b[1;33m\u001b[0m\u001b[0m\n\u001b[0m\u001b[0;32m     11\u001b[0m \u001b[1;33m\u001b[0m\u001b[0m\n\u001b[0;32m     12\u001b[0m \u001b[1;33m\u001b[0m\u001b[0m\n",
      "\u001b[1;32m<ipython-input-52-6a32b9e396c5>\u001b[0m in \u001b[0;36mtest\u001b[1;34m(*params)\u001b[0m\n\u001b[0;32m      5\u001b[0m \u001b[1;32mdef\u001b[0m \u001b[0mtest\u001b[0m\u001b[1;33m(\u001b[0m\u001b[1;33m*\u001b[0m\u001b[0mparams\u001b[0m\u001b[1;33m)\u001b[0m\u001b[1;33m:\u001b[0m\u001b[1;33m\u001b[0m\u001b[0m\n\u001b[0;32m      6\u001b[0m     \u001b[0mprint\u001b[0m\u001b[1;33m(\u001b[0m\u001b[1;34m\"有%d个收集参数：\"\u001b[0m\u001b[1;33m%\u001b[0m \u001b[0mlen\u001b[0m\u001b[1;33m(\u001b[0m\u001b[0mparams\u001b[0m\u001b[1;33m)\u001b[0m\u001b[1;33m)\u001b[0m\u001b[1;33m\u001b[0m\u001b[0m\n\u001b[1;32m----> 7\u001b[1;33m     \u001b[0mprint\u001b[0m\u001b[1;33m(\u001b[0m\u001b[1;34m\"第二个收集参数是：\"\u001b[0m\u001b[1;33m,\u001b[0m \u001b[0mparams\u001b[0m\u001b[1;33m[\u001b[0m\u001b[1;36m1\u001b[0m\u001b[1;33m]\u001b[0m\u001b[1;33m)\u001b[0m\u001b[1;33m\u001b[0m\u001b[0m\n\u001b[0m\u001b[0;32m      8\u001b[0m \u001b[1;33m\u001b[0m\u001b[0m\n\u001b[0;32m      9\u001b[0m \u001b[0ma\u001b[0m \u001b[1;33m=\u001b[0m \u001b[1;33m[\u001b[0m\u001b[1;36m1\u001b[0m\u001b[1;33m,\u001b[0m\u001b[1;36m2\u001b[0m\u001b[1;33m,\u001b[0m\u001b[1;36m3\u001b[0m\u001b[1;33m,\u001b[0m\u001b[1;36m4\u001b[0m\u001b[1;33m,\u001b[0m\u001b[1;36m5\u001b[0m\u001b[1;33m,\u001b[0m\u001b[1;36m6\u001b[0m\u001b[1;33m,\u001b[0m\u001b[1;36m7\u001b[0m\u001b[1;33m,\u001b[0m\u001b[1;36m8\u001b[0m\u001b[1;33m,\u001b[0m\u001b[1;36m9\u001b[0m\u001b[1;33m,\u001b[0m\u001b[1;36m10\u001b[0m\u001b[1;33m]\u001b[0m\u001b[1;33m\u001b[0m\u001b[0m\n",
      "\u001b[1;31mIndexError\u001b[0m: tuple index out of range"
     ]
    }
   ],
   "source": [
    "# 收集参数\n",
    "# 星号(*)，既可以“打包”，也可以“解包”。\n",
    "# 例如，将一个列表传入收集参数中。\n",
    "\n",
    "def test(*params):\n",
    "    print(\"有%d个收集参数：\"% len(params))\n",
    "    print(\"第二个收集参数是：\", params[1])\n",
    "\n",
    "a = [1,2,3,4,5,6,7,8,9,10]\n",
    "test(a)\n",
    "\n",
    "\n",
    "# 错误示例，不能直接将列表、元组、字符串等序列型参数，用参数名当做收集参数\n"
   ]
  },
  {
   "cell_type": "code",
   "execution_count": 49,
   "metadata": {},
   "outputs": [
    {
     "name": "stdout",
     "output_type": "stream",
     "text": [
      "共有7个参数：\n",
      "第二个参数是： 2\n"
     ]
    }
   ],
   "source": [
    "# 收集参数\n",
    "# 接上错误示例，应该在列表a 前，加上星号(*)，表示需要“解包”，才能使用。\n",
    "\n",
    "def test(*params):\n",
    "    print(\"共有%d个参数：\" % len(params))\n",
    "    print(\"第二个参数是：\",params[1])\n",
    "    \n",
    "a = 1,2,3,4,5,6,7,\n",
    "test(*a)\n"
   ]
  },
  {
   "cell_type": "code",
   "execution_count": null,
   "metadata": {
    "collapsed": true
   },
   "outputs": [],
   "source": []
  }
 ],
 "metadata": {
  "kernelspec": {
   "display_name": "Python 3",
   "language": "python",
   "name": "python3"
  },
  "language_info": {
   "codemirror_mode": {
    "name": "ipython",
    "version": 3
   },
   "file_extension": ".py",
   "mimetype": "text/x-python",
   "name": "python",
   "nbconvert_exporter": "python",
   "pygments_lexer": "ipython3",
   "version": "3.6.2"
  }
 },
 "nbformat": 4,
 "nbformat_minor": 2
}
