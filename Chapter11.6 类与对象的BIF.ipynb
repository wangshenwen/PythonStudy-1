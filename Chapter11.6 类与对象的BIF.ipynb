{
 "cells": [
  {
   "cell_type": "code",
   "execution_count": 1,
   "metadata": {
    "collapsed": true
   },
   "outputs": [],
   "source": [
    "# 类和对象的一些BIF\n",
    "    # issubclass(class, classinfo)：子类；\n",
    "    # isinstance(object, classinfo)：实例对象；\n",
    "# 访问对象的一些BIF\n",
    "    # hasattr(object, name)：测试一个对象里是否有指定的属性；\n",
    "    # getattr(object, name[, default])：返回对象指定的属性值；\n",
    "    # setattr(object, name, value)：设置对象中指定属性的值；\n",
    "    # delattr(object, name)：删除对象中指定的属性。\n",
    "    \n",
    "# property(fget=None, fset=None, fdel=None, doc=None)：通过属性来设置属性。\n"
   ]
  },
  {
   "cell_type": "code",
   "execution_count": 9,
   "metadata": {},
   "outputs": [
    {
     "name": "stdout",
     "output_type": "stream",
     "text": [
      "issubclass(B,A) = True\n",
      "issubclass(B,B) = True\n",
      "issubclass(B, object) = True\n",
      "issubclass(A,C) = False\n"
     ]
    }
   ],
   "source": [
    "# issubclass(class, classinfo)：  \n",
    "    # 如果第一个参数class 是第二个参数classinfo 的子类，则返回True，否则返回False。\n",
    "    # 一个类被认为是它自身的子类；\n",
    "    # classinfo 可以是类对象组成的元组，只要class 是其中任何一个候选类的子类，则返回True；\n",
    "    # 在其他情况下，会抛出一个TypeError 异常。\n",
    "    \n",
    "class A:\n",
    "    pass\n",
    "\n",
    "class B(A):\n",
    "    pass\n",
    "\n",
    "print(\"issubclass(B,A) =\", issubclass(B,A))\n",
    "\n",
    "print(\"issubclass(B,B) =\", issubclass(B,B))\n",
    "\n",
    "print(\"issubclass(B, object) =\", issubclass(B, object))\n",
    "\n",
    "\n",
    "class C:\n",
    "    pass\n",
    "\n",
    "print(\"issubclass(A,C) =\", issubclass(A,C))"
   ]
  },
  {
   "cell_type": "code",
   "execution_count": 13,
   "metadata": {},
   "outputs": [
    {
     "name": "stdout",
     "output_type": "stream",
     "text": [
      "isinstance(b1, B) = True\n",
      "isinstance(b1, A) = True\n",
      "isinstance(b1, C) = False\n",
      "isinstance(b1,(A, B, C)) = True\n"
     ]
    }
   ],
   "source": [
    "# isinstance(object, classinfo)：\n",
    "    # 如果第一个参数class 是第二个参数 classinfo 的实例对象，则返回True，否则返回False。\n",
    "    # 如果object 是classinfo的子类的一个实例，也符合条件；\n",
    "    # 如果第一个参数object不是对象，则永远返回False；\n",
    "    # classinfo 可以是类对象组成的元组，只要object 是其中任何一个候选对象的实例，则返回True；\n",
    "    # 如果第二个参数不是类，或者由类对象组成的元组，会抛出一个TypeError 异常。\n",
    "    \n",
    "class A:\n",
    "    pass\n",
    "\n",
    "class B(A):\n",
    "    pass\n",
    "\n",
    "class C:\n",
    "    pass\n",
    "\n",
    "b1 = B()\n",
    "\n",
    "print(\"isinstance(b1, B) =\", isinstance(b1, B))\n",
    "\n",
    "print(\"isinstance(b1, A) =\", isinstance(b1, A))\n",
    "\n",
    "print(\"isinstance(b1, C) =\", isinstance(b1, C))\n",
    "\n",
    "print(\"isinstance(b1,(A, B, C)) =\", isinstance(b1, (A, B, C)))\n",
    "\n"
   ]
  },
  {
   "cell_type": "code",
   "execution_count": 14,
   "metadata": {},
   "outputs": [
    {
     "name": "stdout",
     "output_type": "stream",
     "text": [
      "hasattr(c1,'x') = True\n"
     ]
    }
   ],
   "source": [
    "# hasattr(object, name)\n",
    "    # 测试一个对象里，是否有指定的属性；\n",
    "    # 第一个参数object是对象，第二个参数name是属性名（属性的字符串名字）。\n",
    "    \n",
    "class C:\n",
    "    def __init__(self, x=0):\n",
    "        self.x = x\n",
    "\n",
    "c1 = C()\n",
    "print(\"hasattr(c1,'x') =\",hasattr(c1,'x'))\n"
   ]
  },
  {
   "cell_type": "code",
   "execution_count": 20,
   "metadata": {},
   "outputs": [
    {
     "name": "stdout",
     "output_type": "stream",
     "text": [
      "getattr(d1,'x) = 0\n",
      "getattr(d1,'y) = 您访问的属性不存在...\n"
     ]
    },
    {
     "ename": "AttributeError",
     "evalue": "'D' object has no attribute 'y'",
     "output_type": "error",
     "traceback": [
      "\u001b[1;31m---------------------------------------------------------------------------\u001b[0m",
      "\u001b[1;31mAttributeError\u001b[0m                            Traceback (most recent call last)",
      "\u001b[1;32m<ipython-input-20-aedbe3b9200b>\u001b[0m in \u001b[0;36m<module>\u001b[1;34m()\u001b[0m\n\u001b[0;32m     15\u001b[0m \u001b[0mprint\u001b[0m\u001b[1;33m(\u001b[0m\u001b[1;34m\"getattr(d1,'y) =\"\u001b[0m\u001b[1;33m,\u001b[0m \u001b[0mgetattr\u001b[0m\u001b[1;33m(\u001b[0m\u001b[0md1\u001b[0m\u001b[1;33m,\u001b[0m\u001b[1;34m'y'\u001b[0m\u001b[1;33m,\u001b[0m\u001b[1;34m'您访问的属性不存在...'\u001b[0m\u001b[1;33m)\u001b[0m\u001b[1;33m)\u001b[0m\u001b[1;33m\u001b[0m\u001b[0m\n\u001b[0;32m     16\u001b[0m \u001b[1;33m\u001b[0m\u001b[0m\n\u001b[1;32m---> 17\u001b[1;33m \u001b[0mprint\u001b[0m\u001b[1;33m(\u001b[0m\u001b[1;34m\"getattr(d1,'y) =\"\u001b[0m\u001b[1;33m,\u001b[0m \u001b[0mgetattr\u001b[0m\u001b[1;33m(\u001b[0m\u001b[0md1\u001b[0m\u001b[1;33m,\u001b[0m \u001b[1;34m'y'\u001b[0m\u001b[1;33m)\u001b[0m\u001b[1;33m)\u001b[0m\u001b[1;33m\u001b[0m\u001b[0m\n\u001b[0m",
      "\u001b[1;31mAttributeError\u001b[0m: 'D' object has no attribute 'y'"
     ]
    }
   ],
   "source": [
    "# getattr(object, name[, default])\n",
    "    # 返回对象指定的属性值，\n",
    "    # 如果指定的属性不存在，\n",
    "        # 则返回default(可选参数) 的值；\n",
    "        # 若没有设置default参数，则抛出 AttributeError 异常。\n",
    "\n",
    "class C:\n",
    "    def __init__(self, x=0):\n",
    "        self.x = x\n",
    "        \n",
    "c1 = C()\n",
    "\n",
    "print(\"getattr(c1,'x') =\", getattr(c1,'x'))\n",
    "\n",
    "print(\"getattr(c1,'y') =\", getattr(c1,'y','您访问的属性不存在...'))\n",
    "\n",
    "print(\"getattr(c1,'y') =\", getattr(c1, 'y'))\n",
    "# 没设置default的值，当指定的属性不存在时，就应该报错。\n"
   ]
  },
  {
   "cell_type": "code",
   "execution_count": 22,
   "metadata": {},
   "outputs": [
    {
     "name": "stdout",
     "output_type": "stream",
     "text": [
      "getattr(c1, 'y') = FishC\n"
     ]
    }
   ],
   "source": [
    "# setattr(object, name, value)\n",
    "    # 设置对象中指定属性的值，如果指定的属性不存在，则会新建属性并赋值。\n",
    "    \n",
    "class C:\n",
    "    def __init__(self, x=0):\n",
    "        self.x = x\n",
    "\n",
    "c1 = C()\n",
    "    \n",
    "setattr(c1, 'y', 'FishC')\n",
    "print(\"getattr(c1, 'y') =\", getattr(c1,'y'))\n"
   ]
  },
  {
   "cell_type": "code",
   "execution_count": 30,
   "metadata": {},
   "outputs": [
    {
     "name": "stdout",
     "output_type": "stream",
     "text": [
      "getattr(c1,'x') = 100\n",
      "getattr(c1,'x') = Never Giveup\n",
      "getattr(c1,'y') = FishC\n"
     ]
    },
    {
     "ename": "AttributeError",
     "evalue": "z",
     "output_type": "error",
     "traceback": [
      "\u001b[1;31m---------------------------------------------------------------------------\u001b[0m",
      "\u001b[1;31mAttributeError\u001b[0m                            Traceback (most recent call last)",
      "\u001b[1;32m<ipython-input-30-d518ec348867>\u001b[0m in \u001b[0;36m<module>\u001b[1;34m()\u001b[0m\n\u001b[0;32m     17\u001b[0m \u001b[0mdelattr\u001b[0m\u001b[1;33m(\u001b[0m\u001b[0mc1\u001b[0m\u001b[1;33m,\u001b[0m\u001b[1;34m'x'\u001b[0m\u001b[1;33m)\u001b[0m\u001b[1;33m\u001b[0m\u001b[0m\n\u001b[0;32m     18\u001b[0m \u001b[0mdelattr\u001b[0m\u001b[1;33m(\u001b[0m\u001b[0mc1\u001b[0m\u001b[1;33m,\u001b[0m\u001b[1;34m'y'\u001b[0m\u001b[1;33m)\u001b[0m\u001b[1;33m\u001b[0m\u001b[0m\n\u001b[1;32m---> 19\u001b[1;33m \u001b[0mdelattr\u001b[0m\u001b[1;33m(\u001b[0m\u001b[0mc1\u001b[0m\u001b[1;33m,\u001b[0m\u001b[1;34m'z'\u001b[0m\u001b[1;33m)\u001b[0m\u001b[1;33m\u001b[0m\u001b[0m\n\u001b[0m",
      "\u001b[1;31mAttributeError\u001b[0m: z"
     ]
    }
   ],
   "source": [
    "# delattr(object, name)\n",
    "    # 删除对象中的指定属性，如果属性不存在，则抛出AttributeError的异常。\n",
    "    \n",
    "class C:\n",
    "    def __init__(self, x=100):\n",
    "        self.x = x\n",
    "\n",
    "c1 = C()\n",
    "\n",
    "print(\"getattr(c1,'x') =\", getattr(c1,'x'))\n",
    "setattr(c1, 'x', 'Never Giveup')\n",
    "print(\"getattr(c1,'x') =\", getattr(c1,'x'))\n",
    "\n",
    "setattr(c1,'y','FishC')\n",
    "print(\"getattr(c1,'y') =\", getattr(c1,'y'))\n",
    "\n",
    "delattr(c1,'x')\n",
    "delattr(c1,'y')\n",
    "delattr(c1,'z')\n"
   ]
  },
  {
   "cell_type": "code",
   "execution_count": null,
   "metadata": {
    "collapsed": true
   },
   "outputs": [],
   "source": []
  },
  {
   "cell_type": "code",
   "execution_count": 37,
   "metadata": {},
   "outputs": [
    {
     "name": "stdout",
     "output_type": "stream",
     "text": [
      "c.x = 10\n",
      "c.x = 12\n",
      "c.size = 100\n"
     ]
    },
    {
     "ename": "AttributeError",
     "evalue": "'C' object has no attribute 'size'",
     "output_type": "error",
     "traceback": [
      "\u001b[1;31m---------------------------------------------------------------------------\u001b[0m",
      "\u001b[1;31mAttributeError\u001b[0m                            Traceback (most recent call last)",
      "\u001b[1;32m<ipython-input-37-15a8cbeb199b>\u001b[0m in \u001b[0;36m<module>\u001b[1;34m()\u001b[0m\n\u001b[0;32m     36\u001b[0m \u001b[1;33m\u001b[0m\u001b[0m\n\u001b[0;32m     37\u001b[0m \u001b[1;32mdel\u001b[0m \u001b[0mc\u001b[0m\u001b[1;33m.\u001b[0m\u001b[0mx\u001b[0m\u001b[1;33m\u001b[0m\u001b[0m\n\u001b[1;32m---> 38\u001b[1;33m \u001b[0mprint\u001b[0m\u001b[1;33m(\u001b[0m\u001b[1;34m\"c.size =\"\u001b[0m\u001b[1;33m,\u001b[0m \u001b[0mc\u001b[0m\u001b[1;33m.\u001b[0m\u001b[0msize\u001b[0m\u001b[1;33m)\u001b[0m\u001b[1;33m\u001b[0m\u001b[0m\n\u001b[0m",
      "\u001b[1;31mAttributeError\u001b[0m: 'C' object has no attribute 'size'"
     ]
    }
   ],
   "source": [
    "# roperty(fget=None, fset=None, fdel=None, doc=None)\n",
    "# 通过属性来设置属性\n",
    "# property()函数，返回一个可以设置属性的属性，\n",
    "    # 第一个参数是：获得属性的方法名；\n",
    "    # 第二个参数是：设置属性的方法名；\n",
    "    # 第三个参数是：删除属性的方法名。\n",
    "    \n",
    "# 无论内部如何改动，只需要相应的修改property()的参数，\n",
    "    # 用户仍然只需要去操作x属性，即可，没有任何影响。\n",
    "    \n",
    "class C:\n",
    "    def __init__(self, size=10):\n",
    "        self.size = size\n",
    "    \n",
    "    def getSize(self):\n",
    "        return self.size\n",
    "    \n",
    "    def setSize(self, value):\n",
    "        self.size = value\n",
    "    \n",
    "    def delSize(self):\n",
    "        del self.size\n",
    "\n",
    "    x = property(getSize, setSize, delSize)\n",
    "\n",
    "\n",
    "c = C()\n",
    "\n",
    "print(\"c.x =\", c.x)\n",
    "\n",
    "c.x = 12\n",
    "print(\"c.x =\", c.x)\n",
    "\n",
    "c.size = 100\n",
    "print(\"c.size =\", c.size)\n",
    "\n",
    "del c.x\n",
    "print(\"c.size =\", c.size)"
   ]
  },
  {
   "cell_type": "code",
   "execution_count": null,
   "metadata": {
    "collapsed": true
   },
   "outputs": [],
   "source": []
  }
 ],
 "metadata": {
  "kernelspec": {
   "display_name": "Python 3",
   "language": "python",
   "name": "python3"
  },
  "language_info": {
   "codemirror_mode": {
    "name": "ipython",
    "version": 3
   },
   "file_extension": ".py",
   "mimetype": "text/x-python",
   "name": "python",
   "nbconvert_exporter": "python",
   "pygments_lexer": "ipython3",
   "version": "3.6.2"
  }
 },
 "nbformat": 4,
 "nbformat_minor": 2
}
