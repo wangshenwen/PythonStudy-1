{
 "cells": [
  {
   "cell_type": "code",
   "execution_count": 1,
   "metadata": {
    "collapsed": true
   },
   "outputs": [],
   "source": [
    "# 元组\n",
    "# 列表与元组的最大区别：\n",
    "    # 列表：可以任意修改列表中的元素，如插入或者删除一个元素；\n",
    "    # 元组：不可改变的，可以创建元组、访问元组、用切片的方式复制元组。\n"
   ]
  },
  {
   "cell_type": "code",
   "execution_count": 24,
   "metadata": {},
   "outputs": [
    {
     "name": "stdout",
     "output_type": "stream",
     "text": [
      "tuple1 = ()\n",
      "type(tuple1) = <class 'tuple'>\n",
      "\n",
      "tuple2 = (1, 2, 3, 4, 5, 6, 7)\n",
      "type(tuple2) = <class 'tuple'>\n",
      "\n",
      "tuple3 = 33\n",
      "type(tuple3) = <class 'int'>\n",
      "\n",
      "tuple4 = (44,)\n",
      "type(tuple4) = <class 'tuple'>\n",
      "\n",
      "tuple5 = (55,)\n",
      "type(tuple5) = <class 'tuple'>\n",
      "\n",
      "tuple6 = (1, 2, 4, 6, 8, 5)\n",
      "type(tuple6) <class 'tuple'>\n"
     ]
    }
   ],
   "source": [
    "# 创建列表：中括号。\n",
    "# 创建元组：\n",
    "    # 空元组，小括号；\n",
    "    # 大部分时候，小括号；\n",
    "    # 只有一个元素的元组，逗号。\n",
    "\n",
    "tuple1 = ()    \n",
    "print(\"tuple1 =\", tuple1)\n",
    "print(\"type(tuple1) =\", type(tuple1))\n",
    "print()\n",
    "\n",
    "tuple2 = (1,2,3,4,5,6,7)\n",
    "print(\"tuple2 =\", tuple2)\n",
    "print(\"type(tuple2) =\", type(tuple2))\n",
    "print()\n",
    "\n",
    "tuple3 = (33)\n",
    "print(\"tuple3 =\", tuple3)\n",
    "print(\"type(tuple3) =\", type(tuple3))\n",
    "print()\n",
    "\n",
    "tuple4 = 44,\n",
    "print(\"tuple4 =\", tuple4)\n",
    "print(\"type(tuple4) =\", type(tuple4))\n",
    "print()\n",
    "\n",
    "tuple5 = (55,)\n",
    "print(\"tuple5 =\", tuple5)\n",
    "print(\"type(tuple5) =\", type(tuple5))\n",
    "print()\n",
    "\n",
    "tuple6 = 1,2,4,6,8,5,\n",
    "print(\"tuple6 =\", tuple6 )\n",
    "print(\"type(tuple6)\", type(tuple6))\n"
   ]
  },
  {
   "cell_type": "code",
   "execution_count": 20,
   "metadata": {},
   "outputs": [
    {
     "name": "stdout",
     "output_type": "stream",
     "text": [
      "tuple11[1] = 55\n",
      "tuple11[6] = 88\n",
      "tuple11[:] = (11, 55, 66, 22, 44, 33, 88, 77, 99)\n",
      "tuple11[2:4] = (66, 22)\n",
      "tuple11[3:] = (22, 44, 33, 88, 77, 99)\n",
      "tuple22 = (55, 66, 22, 44, 33, 88, 77, 99)\n"
     ]
    }
   ],
   "source": [
    "# 访问一个元组元素\n",
    "   # 索引\n",
    "tuple11 = (11,55,66,22,44,33,88,77,99)\n",
    "print(\"tuple11[1] =\", tuple11[1])\n",
    "print(\"tuple11[6] =\", tuple11[6])\n",
    "   # 分片\n",
    "print(\"tuple11[:] =\", tuple11[:])\n",
    "print(\"tuple11[2:4] =\", tuple11[2:4])\n",
    "print(\"tuple11[3:] =\", tuple11[3:])\n",
    "\n",
    "tuple22 = tuple11[1:]\n",
    "print(\"tuple22 =\", tuple22)\n"
   ]
  },
  {
   "cell_type": "code",
   "execution_count": 43,
   "metadata": {},
   "outputs": [
    {
     "name": "stdout",
     "output_type": "stream",
     "text": [
      "('小鸡', '小鸭', '小鹅')\n",
      "\n",
      "('小鸡', '小狗', '小鸭', '小鹅')\n",
      "\n",
      "(1, 2, 3, 4, 5, 6, 7, 8, 9)\n",
      "(2, 3, 4, 5, 7, 8, 9)\n"
     ]
    }
   ],
   "source": [
    "# 元组元素的增加与删除\n",
    "# 直接在同一个元组上增加和删除元素是不能的；\n",
    "# 通过拷贝，构造新的元组，形成对元组元素的增加和删除\n",
    "\n",
    "temp = (\"小鸡\", \"小鸭\", \"小鹅\")\n",
    "print(temp)\n",
    "print()\n",
    "temp = temp[:1] + (\"小狗\",) + temp[1:]\n",
    "print(temp)\n",
    "print()\n",
    "\n",
    "# ---------------删除----------------\n",
    "num = (1,2,3,4,5,6,7,8,9)\n",
    "print(num)\n",
    "num = num[1:5] + num[6:]\n",
    "print(num)"
   ]
  },
  {
   "cell_type": "code",
   "execution_count": 46,
   "metadata": {},
   "outputs": [
    {
     "name": "stdout",
     "output_type": "stream",
     "text": [
      "(1, 2, 3, 4, 555, 333, 111)\n",
      "<class 'tuple'>\n"
     ]
    },
    {
     "ename": "NameError",
     "evalue": "name 'num' is not defined",
     "output_type": "error",
     "traceback": [
      "\u001b[1;31m---------------------------------------------------------------------------\u001b[0m",
      "\u001b[1;31mNameError\u001b[0m                                 Traceback (most recent call last)",
      "\u001b[1;32m<ipython-input-46-22d808c0b229>\u001b[0m in \u001b[0;36m<module>\u001b[1;34m()\u001b[0m\n\u001b[0;32m      6\u001b[0m \u001b[1;33m\u001b[0m\u001b[0m\n\u001b[0;32m      7\u001b[0m \u001b[1;32mdel\u001b[0m \u001b[0mnum\u001b[0m\u001b[1;33m\u001b[0m\u001b[0m\n\u001b[1;32m----> 8\u001b[1;33m \u001b[0mprint\u001b[0m\u001b[1;33m(\u001b[0m\u001b[0mnum\u001b[0m\u001b[1;33m)\u001b[0m\u001b[1;33m\u001b[0m\u001b[0m\n\u001b[0m",
      "\u001b[1;31mNameError\u001b[0m: name 'num' is not defined"
     ]
    }
   ],
   "source": [
    "# 删除元组\n",
    "\n",
    "num = 1,2,3,4,555,333,111\n",
    "print(num)\n",
    "print(type(num))\n",
    "\n",
    "del num\n",
    "print(num)"
   ]
  },
  {
   "cell_type": "code",
   "execution_count": null,
   "metadata": {
    "collapsed": true
   },
   "outputs": [],
   "source": []
  }
 ],
 "metadata": {
  "kernelspec": {
   "display_name": "Python 3",
   "language": "python",
   "name": "python3"
  },
  "language_info": {
   "codemirror_mode": {
    "name": "ipython",
    "version": 3
   },
   "file_extension": ".py",
   "mimetype": "text/x-python",
   "name": "python",
   "nbconvert_exporter": "python",
   "pygments_lexer": "ipython3",
   "version": "3.6.2"
  }
 },
 "nbformat": 4,
 "nbformat_minor": 2
}
