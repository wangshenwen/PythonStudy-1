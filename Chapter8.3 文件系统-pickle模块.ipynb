{
 "cells": [
  {
   "cell_type": "code",
   "execution_count": 1,
   "metadata": {
    "collapsed": true
   },
   "outputs": [],
   "source": [
    "# 从文件中读取出【字符串】，很简单，可以read(), readline()方法；\n",
    "\n",
    "# 从文件中读取出【数值、列表、字典、类的实例】等复杂数据类型，异常麻烦。\n",
    "\n",
    "# pickle 模块：能容易地把列表、字典等复杂数据类型存储为文件。\n",
    "    # 是Python 提供的一个标准模块，一个令人惊叹的模块；\n",
    "    # 几乎可以把所有Python 的对象都转化为二进制的形式存放，这个过程称为picking；\n",
    "    # 从二进制形式转换回对象的过程，称为unpickling。\n"
   ]
  },
  {
   "cell_type": "code",
   "execution_count": 2,
   "metadata": {
    "collapsed": true
   },
   "outputs": [],
   "source": [
    "import pickle\n",
    "\n",
    "my_list = [123, 12.34, '小甲鱼', ['avc', 'dsf']]\n",
    "pickle_file = open(r\"D:\\mylist0927.pkl\", \"wb\")\n",
    "\n",
    "pickle.dump(my_list, pickle_file)\n",
    "pickle_file.close()\n",
    "\n",
    "# 希望把这个列表永久存储起来（保存成文件），打开文件的形式一定要以二进制的形式打开；\n",
    "# 后缀名可以随意，但为了方便记忆，建议使用 .pkl 或 .pickle 形式；\n",
    "# 使用dump 方法保存数据，完成后记得保存，跟普通文件操作一样。\n",
    "\n",
    "# 程序执行之后，在D盘会出现一个mylist0927.pkl 文件，\n",
    "# 在记事本打开之后，显示乱码，因为其保存形式是二进制。\n"
   ]
  },
  {
   "cell_type": "code",
   "execution_count": 6,
   "metadata": {},
   "outputs": [
    {
     "name": "stdout",
     "output_type": "stream",
     "text": [
      "[123, 12.34, '小甲鱼', ['avc', 'dsf']]\n",
      "<class 'list'>\n"
     ]
    }
   ],
   "source": [
    "# 在需要使用的时候，使用二进制模式，先把文件打开，再用load 把数据加载尽进来。\n",
    "\n",
    "import pickle\n",
    "pickle_file = open(r\"D:\\mylist0927.pkl\",\"rb\")\n",
    "mylist0927 = pickle.load(pickle_file)\n",
    "print(mylist0927)\n",
    "\n",
    "print(type(mylist0927))\n",
    "\n",
    "# pickle 不仅能保存列表，还能返回任何你能想象得到的东西。\n"
   ]
  },
  {
   "cell_type": "code",
   "execution_count": null,
   "metadata": {
    "collapsed": true
   },
   "outputs": [],
   "source": []
  }
 ],
 "metadata": {
  "kernelspec": {
   "display_name": "Python 3",
   "language": "python",
   "name": "python3"
  },
  "language_info": {
   "codemirror_mode": {
    "name": "ipython",
    "version": 3
   },
   "file_extension": ".py",
   "mimetype": "text/x-python",
   "name": "python",
   "nbconvert_exporter": "python",
   "pygments_lexer": "ipython3",
   "version": "3.6.2"
  }
 },
 "nbformat": 4,
 "nbformat_minor": 2
}
