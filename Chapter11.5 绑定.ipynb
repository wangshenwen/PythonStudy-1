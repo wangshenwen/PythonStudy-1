{
 "cells": [
  {
   "cell_type": "code",
   "execution_count": 5,
   "metadata": {},
   "outputs": [
    {
     "name": "stdout",
     "output_type": "stream",
     "text": [
      "no zuo no die.\n",
      "-----------------\n"
     ]
    },
    {
     "ename": "TypeError",
     "evalue": "printBB() takes 0 positional arguments but 1 was given",
     "output_type": "error",
     "traceback": [
      "\u001b[1;31m---------------------------------------------------------------------------\u001b[0m",
      "\u001b[1;31mTypeError\u001b[0m                                 Traceback (most recent call last)",
      "\u001b[1;32m<ipython-input-5-8dea800e8e43>\u001b[0m in \u001b[0;36m<module>\u001b[1;34m()\u001b[0m\n\u001b[0;32m     11\u001b[0m \u001b[1;33m\u001b[0m\u001b[0m\n\u001b[0;32m     12\u001b[0m \u001b[0mbb\u001b[0m \u001b[1;33m=\u001b[0m \u001b[0mBB\u001b[0m\u001b[1;33m(\u001b[0m\u001b[1;33m)\u001b[0m\u001b[1;33m\u001b[0m\u001b[0m\n\u001b[1;32m---> 13\u001b[1;33m \u001b[0mbb\u001b[0m\u001b[1;33m.\u001b[0m\u001b[0mprintBB\u001b[0m\u001b[1;33m(\u001b[0m\u001b[1;33m)\u001b[0m\u001b[1;33m\u001b[0m\u001b[0m\n\u001b[0m",
      "\u001b[1;31mTypeError\u001b[0m: printBB() takes 0 positional arguments but 1 was given"
     ]
    }
   ],
   "source": [
    "# Python 严格要求，方法需要有实例，才能被调用。\n",
    "    # 这种限制就是Python的绑定的概念。\n",
    "\n",
    "class BB:\n",
    "    def printBB():\n",
    "        print(\"no zuo no die.\")\n",
    "    \n",
    "BB.printBB()\n",
    "print(\"-----------------\")\n",
    "\n",
    "# 这样做的一个问题，根据类实例化后的对象，根本无法调用里面的函数。\n",
    "\n",
    "bb = BB()\n",
    "bb.printBB()\n",
    "\n",
    "# 实际上，这是由于Python的绑定机制，\n",
    "    # 自动把bb对象作为第一个参数传入，才会出现TypeError.\n"
   ]
  },
  {
   "cell_type": "code",
   "execution_count": 20,
   "metadata": {},
   "outputs": [
    {
     "name": "stdout",
     "output_type": "stream",
     "text": [
      "CC.__dict__ : {'__module__': '__main__', 'setXY': <function CC.setXY at 0x00000000057AE488>, 'printXY': <function CC.printXY at 0x000000000583DD08>, '__dict__': <attribute '__dict__' of 'CC' objects>, '__weakref__': <attribute '__weakref__' of 'CC' objects>, '__doc__': None}\n",
      "\n",
      "dd.__dict__ : {}\n",
      "\n",
      "dd.__dict__ : {'x': 4, 'y': 5}\n",
      "\n",
      "CC.__dict__ : {'__module__': '__main__', 'setXY': <function CC.setXY at 0x00000000057AE488>, 'printXY': <function CC.printXY at 0x000000000583DD08>, '__dict__': <attribute '__dict__' of 'CC' objects>, '__weakref__': <attribute '__weakref__' of 'CC' objects>, '__doc__': None}\n",
      "\n",
      "------我是思考题的分界线-------\n",
      "4 5\n"
     ]
    }
   ],
   "source": [
    "# 继续深挖。\n",
    "\n",
    "class CC:\n",
    "    def setXY(self, x, y):\n",
    "        self.x = x\n",
    "        self.y = y\n",
    "    def printXY(self):\n",
    "        print(self.x, self.y)\n",
    "\n",
    "dd = CC()\n",
    "\n",
    "# 可以用 __dict__ 查看对象所拥有的属性。\n",
    "print(\"CC.__dict__ :\", CC.__dict__)\n",
    "print()\n",
    "\n",
    "print(\"dd.__dict__ :\", dd.__dict__)\n",
    "print()\n",
    "\n",
    "\n",
    "dd.setXY(4,5)\n",
    "print(\"dd.__dict__ :\", dd.__dict__)\n",
    "print()\n",
    "\n",
    "print(\"CC.__dict__ :\", CC.__dict__)\n",
    "print()\n",
    "print(\"------我是思考题的分界线-------\")\n",
    "\n",
    "# 请思考：\n",
    "# 如果把类实例删除掉，实例对象dd能否调用printXY() 方法？\n",
    "del CC\n",
    "dd.printXY()\n",
    "# 因此，答案是可以的。\n"
   ]
  },
  {
   "cell_type": "code",
   "execution_count": null,
   "metadata": {
    "collapsed": true
   },
   "outputs": [],
   "source": [
    "# __dict__ ：查看对象所拥有的所有属性。\n",
    "\n",
    "# __dict__ 属性是一个字典组成，\n",
    "    # 字典中仅有实例对象的属性，不显示类属性和特殊属性；\n",
    "    # 键表示的是属性名，值表示的是属性相应的数据值。\n",
    "    "
   ]
  },
  {
   "cell_type": "code",
   "execution_count": null,
   "metadata": {
    "collapsed": true
   },
   "outputs": [],
   "source": []
  }
 ],
 "metadata": {
  "kernelspec": {
   "display_name": "Python 3",
   "language": "python",
   "name": "python3"
  },
  "language_info": {
   "codemirror_mode": {
    "name": "ipython",
    "version": 3
   },
   "file_extension": ".py",
   "mimetype": "text/x-python",
   "name": "python",
   "nbconvert_exporter": "python",
   "pygments_lexer": "ipython3",
   "version": "3.6.2"
  }
 },
 "nbformat": 4,
 "nbformat_minor": 2
}
