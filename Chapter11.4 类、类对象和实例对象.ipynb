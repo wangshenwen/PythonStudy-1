{
 "cells": [
  {
   "cell_type": "code",
   "execution_count": 5,
   "metadata": {},
   "outputs": [
    {
     "name": "stdout",
     "output_type": "stream",
     "text": [
      "0 0 0\n",
      "\n",
      "0 0 10\n",
      "\n",
      "100 100 10\n",
      "\n"
     ]
    }
   ],
   "source": [
    "# 类中定义的属性是静态变量，\n",
    "    # 类的属性是与类对象进行绑定，并不会依赖任何它的实例对象。\n",
    "\n",
    "# example\n",
    "class C:\n",
    "    count = 0\n",
    "    \n",
    "a = C()\n",
    "b = C()\n",
    "c = C()\n",
    "\n",
    "print(a.count, b.count, c.count)\n",
    "print()\n",
    "\n",
    "c.count += 10\n",
    "print(a.count, b.count, c.count)\n",
    "print()\n",
    "\n",
    "C.count += 100\n",
    "print(a.count, b.count, c.count)\n",
    "print()\n",
    "\n",
    "# 实例对象c的count属性进行赋值后，相当于覆盖了类对象C的count属性。\n"
   ]
  },
  {
   "cell_type": "code",
   "execution_count": null,
   "metadata": {
    "collapsed": true
   },
   "outputs": [],
   "source": []
  },
  {
   "cell_type": "code",
   "execution_count": 18,
   "metadata": {},
   "outputs": [
    {
     "name": "stdout",
     "output_type": "stream",
     "text": [
      "c.x() = XMan\n",
      "c.x = 1\n",
      "\n",
      "c.x() ="
     ]
    },
    {
     "ename": "TypeError",
     "evalue": "'int' object is not callable",
     "output_type": "error",
     "traceback": [
      "\u001b[1;31m---------------------------------------------------------------------------\u001b[0m",
      "\u001b[1;31mTypeError\u001b[0m                                 Traceback (most recent call last)",
      "\u001b[1;32m<ipython-input-18-0b96d529fbd4>\u001b[0m in \u001b[0;36m<module>\u001b[1;34m()\u001b[0m\n\u001b[0;32m     14\u001b[0m \u001b[1;33m\u001b[0m\u001b[0m\n\u001b[0;32m     15\u001b[0m \u001b[0mprint\u001b[0m\u001b[1;33m(\u001b[0m\u001b[1;34m\"c.x() =\"\u001b[0m\u001b[1;33m,\u001b[0m \u001b[0mend\u001b[0m\u001b[1;33m=\u001b[0m\u001b[1;34m\"\"\u001b[0m\u001b[1;33m)\u001b[0m\u001b[1;33m\u001b[0m\u001b[0m\n\u001b[1;32m---> 16\u001b[1;33m \u001b[0mc\u001b[0m\u001b[1;33m.\u001b[0m\u001b[0mx\u001b[0m\u001b[1;33m(\u001b[0m\u001b[1;33m)\u001b[0m\u001b[1;33m\u001b[0m\u001b[0m\n\u001b[0m\u001b[0;32m     17\u001b[0m \u001b[1;33m\u001b[0m\u001b[0m\n",
      "\u001b[1;31mTypeError\u001b[0m: 'int' object is not callable"
     ]
    }
   ],
   "source": [
    "# 如果属性名字与方法名字相同，属性会覆盖方法。\n",
    "\n",
    "class C:\n",
    "    def x(self):\n",
    "        print(\"XMan\")\n",
    "        \n",
    "c = C()\n",
    "print(\"c.x() = \", end=\"\")\n",
    "c.x()\n",
    "\n",
    "c.x = 1\n",
    "print(\"c.x =\",c.x)\n",
    "print()\n",
    "\n",
    "print(\"c.x() =\", end=\"\")\n",
    "c.x()\n",
    "\n",
    "# 此处报错，\n",
    "# 因为相同名称的属性名和方法名，属性名已经覆盖了方法名，\n",
    "# 因此，没有该方法。\n"
   ]
  },
  {
   "cell_type": "code",
   "execution_count": 19,
   "metadata": {
    "collapsed": true
   },
   "outputs": [],
   "source": [
    "# 为避免名字冲突，注意命名规范。\n",
    "\n",
    "# 类的定义要“少吃多餐”，\n",
    "    # 不要试图在一个类里面定义出所有能想到的特性和方法，\n",
    "    # 应该利用继承和组合机制，进行扩展。\n",
    "    \n",
    "# 用不同词性的词，进行命名：\n",
    "    # 属性名用名词，\n",
    "    # 方法名用动词，\n",
    "    #使用驼峰命名法。"
   ]
  },
  {
   "cell_type": "code",
   "execution_count": null,
   "metadata": {
    "collapsed": true
   },
   "outputs": [],
   "source": []
  }
 ],
 "metadata": {
  "kernelspec": {
   "display_name": "Python 3",
   "language": "python",
   "name": "python3"
  },
  "language_info": {
   "codemirror_mode": {
    "name": "ipython",
    "version": 3
   },
   "file_extension": ".py",
   "mimetype": "text/x-python",
   "name": "python",
   "nbconvert_exporter": "python",
   "pygments_lexer": "ipython3",
   "version": "3.6.2"
  }
 },
 "nbformat": 4,
 "nbformat_minor": 2
}
