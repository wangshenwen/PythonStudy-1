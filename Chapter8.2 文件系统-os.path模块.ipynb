{
 "cells": [
  {
   "cell_type": "code",
   "execution_count": 1,
   "metadata": {
    "collapsed": true
   },
   "outputs": [],
   "source": [
    "# os.path 模块可以完成针对路径名的操作，其常用的函数方法，如下。\n",
    "\n",
    "# basename(path)：去掉路径名称，单独返回文件名；\n",
    "# dirname(path)：去掉文件名，单独返回目录路径；\n",
    "\n",
    "# join(path1[,path2[,path3[,...]]])：将path1, path2, path3 各部分组合成一个路径名；\n",
    "\n",
    "# split(path)：分割文件名与路径名，返回(f_path, f_name)元组，\n",
    "             # 如果完成使用目录，将最后一个目录作为文件名分离，且不会判断文件或目录是否存在；\n",
    "    \n",
    "# splitext(path)：分离文件名与扩展名，返回(f_name,f_extension)元组；\n",
    "\n",
    "# getatime(file)：返回指定文件最近的访问时间，\n",
    "# getctime(file)：返回指定文件的创建时间；\n",
    "# getmtime(file)：返回指定文件最新的修改时间；\n",
    "    # getatime,getctime,getmtime：浮点型秒数，可用time 模块的gmtime() 或localtime() 函数换算；\n",
    "\n",
    "    \n",
    "# 以下函数返回 True 或 False\n",
    "    # exists(path)：判断指定路径（目录或文件）是否存在；\n",
    "    # isabs(path)：判断指定路径是否为绝对路径；\n",
    "\n",
    "    # isdir(path)：判断指定路径是否存在，且是一个目录；\n",
    "    # isfile(file)：判断指定路径是否存在，且是一个文件；\n",
    "\n",
    "    # islink(path)：判断路径是否存在，且是一个符号链接；\n",
    "    # ismount(path)：判断路径是否存在，且是一个挂载点；\n",
    "    \n",
    "    # samefile(file1, file2)：判断file1 和 file2 两个路径是否指向同一个文件。\n",
    "\n"
   ]
  },
  {
   "cell_type": "code",
   "execution_count": 7,
   "metadata": {},
   "outputs": [
    {
     "name": "stdout",
     "output_type": "stream",
     "text": [
      "文件名是： test.txt\n",
      "路径名是： E:\\a\\b\\c\n",
      "<class 'str'>\n",
      "<class 'str'>\n"
     ]
    }
   ],
   "source": [
    "# basename(path)：获得文件名；\n",
    "# dirname(path)：获得路径名\n",
    "\n",
    "import os.path\n",
    "print(\"文件名是：\", os.path.basename(r\"E:\\a\\b\\c\\test.txt\"))\n",
    "print(\"路径名是：\", os.path.dirname(r\"E:\\a\\b\\c\\test.txt\"))\n",
    "\n",
    "print(type(os.path.basename(r\"E:\\a\\b\\c\\text.txt\")))\n",
    "print(type(os.path.dirname(r\"E:\\a\\b\\c\\test.txt\")))\n",
    "\n",
    "# 注意，不会判断路径是否存在。"
   ]
  },
  {
   "cell_type": "code",
   "execution_count": 5,
   "metadata": {},
   "outputs": [
    {
     "name": "stdout",
     "output_type": "stream",
     "text": [
      "组合后的路径： E:\\a\\b\\c.txt\n",
      "<class 'str'>\n"
     ]
    }
   ],
   "source": [
    "# join(path1[,path2[,...]])\n",
    "    # 在os.path 模块下\n",
    "    # 将路径名和文件名组合成一个完整的路径；\n",
    "# os.path模块下的join 函数，与BIF的join函数，完全不同。\n",
    "\n",
    "import os.path\n",
    "path1 = os.path.join(r\"E:\\a\\b\",\"c.txt\")\n",
    "print(\"组合后的路径：\", path1)\n",
    "print(type(path1))\n",
    "\n",
    "# 注意，不会判断路径是否存在。"
   ]
  },
  {
   "cell_type": "code",
   "execution_count": 9,
   "metadata": {},
   "outputs": [
    {
     "name": "stdout",
     "output_type": "stream",
     "text": [
      "('a\\\\b\\\\c', 'test')\n",
      "<class 'tuple'>\n",
      "\n",
      "('a\\\\b\\\\c', 'd.txt')\n",
      "<class 'tuple'>\n",
      "\n",
      "('a\\\\b\\\\c\\\\d', '.txt')\n",
      "<class 'tuple'>\n",
      "\n"
     ]
    }
   ],
   "source": [
    "# split(path)：分割路径和文件名；\n",
    "    # 若完全使用目录，会将最后一个目录作为文件名分离；\n",
    "# splitext(path)：分割文件名和扩展名；\n",
    "\n",
    "import os.path\n",
    "t1 = os.path.split(r\"a\\b\\c\\test\")\n",
    "print(t1)\n",
    "print(type(t1))\n",
    "print()\n",
    "\n",
    "t2 = os.path.split(r\"a\\b\\c\\d.txt\")\n",
    "print(t2)\n",
    "print(type(t2))\n",
    "print()\n",
    "\n",
    "t3 = os.path.splitext(r\"a\\b\\c\\d.txt\")\n",
    "print(t3)\n",
    "print(type(t3))\n",
    "print()\n"
   ]
  },
  {
   "cell_type": "code",
   "execution_count": 14,
   "metadata": {},
   "outputs": [
    {
     "name": "stdout",
     "output_type": "stream",
     "text": [
      "当前路径是： C:\\Users\\Administrator\\PythonStudy-1\n"
     ]
    },
    {
     "ename": "FileNotFoundError",
     "evalue": "[WinError 2] 系统找不到指定的文件。: 'C:\\\\Users\\\\Administrator\\\\PythonStudy-1\\\\record1.txt'",
     "output_type": "error",
     "traceback": [
      "\u001b[1;31m---------------------------------------------------------------------------\u001b[0m",
      "\u001b[1;31mFileNotFoundError\u001b[0m                         Traceback (most recent call last)",
      "\u001b[1;32m<ipython-input-14-47fd9d9884af>\u001b[0m in \u001b[0;36m<module>\u001b[1;34m()\u001b[0m\n\u001b[0;32m      5\u001b[0m \u001b[1;33m\u001b[0m\u001b[0m\n\u001b[0;32m      6\u001b[0m \u001b[0mprint\u001b[0m\u001b[1;33m(\u001b[0m\u001b[1;34m\"当前路径是：\"\u001b[0m \u001b[1;33m,\u001b[0m\u001b[0mos\u001b[0m\u001b[1;33m.\u001b[0m\u001b[0mgetcwd\u001b[0m\u001b[1;33m(\u001b[0m\u001b[1;33m)\u001b[0m\u001b[1;33m)\u001b[0m\u001b[1;33m\u001b[0m\u001b[0m\n\u001b[1;32m----> 7\u001b[1;33m \u001b[0mprint\u001b[0m\u001b[1;33m(\u001b[0m\u001b[1;34m\"文件大小是：\"\u001b[0m\u001b[1;33m,\u001b[0m \u001b[0mos\u001b[0m\u001b[1;33m.\u001b[0m\u001b[0mpath\u001b[0m\u001b[1;33m.\u001b[0m\u001b[0mgetsize\u001b[0m\u001b[1;33m(\u001b[0m\u001b[1;34mr\"C:\\Users\\Administrator\\PythonStudy-1\\record1.txt\"\u001b[0m\u001b[1;33m)\u001b[0m\u001b[1;33m)\u001b[0m\u001b[1;33m\u001b[0m\u001b[0m\n\u001b[0m\u001b[0;32m      8\u001b[0m \u001b[0mprint\u001b[0m\u001b[1;33m(\u001b[0m\u001b[0mtype\u001b[0m\u001b[1;33m(\u001b[0m\u001b[0mos\u001b[0m\u001b[1;33m.\u001b[0m\u001b[0mpath\u001b[0m\u001b[1;33m.\u001b[0m\u001b[0mgetsize\u001b[0m\u001b[1;33m(\u001b[0m\u001b[1;34mr\"C:\\Users\\Administrator\\PythonStudy-1\\record.txt\"\u001b[0m\u001b[1;33m)\u001b[0m\u001b[1;33m)\u001b[0m\u001b[1;33m)\u001b[0m\u001b[1;33m\u001b[0m\u001b[0m\n\u001b[0;32m      9\u001b[0m \u001b[1;33m\u001b[0m\u001b[0m\n",
      "\u001b[1;32mC:\\SoftwaresInstalled\\Anaconda3\\lib\\genericpath.py\u001b[0m in \u001b[0;36mgetsize\u001b[1;34m(filename)\u001b[0m\n\u001b[0;32m     48\u001b[0m \u001b[1;32mdef\u001b[0m \u001b[0mgetsize\u001b[0m\u001b[1;33m(\u001b[0m\u001b[0mfilename\u001b[0m\u001b[1;33m)\u001b[0m\u001b[1;33m:\u001b[0m\u001b[1;33m\u001b[0m\u001b[0m\n\u001b[0;32m     49\u001b[0m     \u001b[1;34m\"\"\"Return the size of a file, reported by os.stat().\"\"\"\u001b[0m\u001b[1;33m\u001b[0m\u001b[0m\n\u001b[1;32m---> 50\u001b[1;33m     \u001b[1;32mreturn\u001b[0m \u001b[0mos\u001b[0m\u001b[1;33m.\u001b[0m\u001b[0mstat\u001b[0m\u001b[1;33m(\u001b[0m\u001b[0mfilename\u001b[0m\u001b[1;33m)\u001b[0m\u001b[1;33m.\u001b[0m\u001b[0mst_size\u001b[0m\u001b[1;33m\u001b[0m\u001b[0m\n\u001b[0m\u001b[0;32m     51\u001b[0m \u001b[1;33m\u001b[0m\u001b[0m\n\u001b[0;32m     52\u001b[0m \u001b[1;33m\u001b[0m\u001b[0m\n",
      "\u001b[1;31mFileNotFoundError\u001b[0m: [WinError 2] 系统找不到指定的文件。: 'C:\\\\Users\\\\Administrator\\\\PythonStudy-1\\\\record1.txt'"
     ]
    }
   ],
   "source": [
    "# getsize(file)：获取文件的尺寸，返回值是字节为单位。\n",
    "\n",
    "import os.path\n",
    "import os\n",
    "\n",
    "print(\"当前路径是：\" ,os.getcwd())\n",
    "print(\"文件大小是：\", os.path.getsize(r\"C:\\Users\\Administrator\\PythonStudy-1\\record.txt\"))\n",
    "print(type(os.path.getsize(r\"C:\\Users\\Administrator\\PythonStudy-1\\record.txt\")))\n",
    "\n"
   ]
  },
  {
   "cell_type": "code",
   "execution_count": null,
   "metadata": {
    "collapsed": true
   },
   "outputs": [],
   "source": []
  },
  {
   "cell_type": "code",
   "execution_count": null,
   "metadata": {
    "collapsed": true
   },
   "outputs": [],
   "source": []
  },
  {
   "cell_type": "code",
   "execution_count": null,
   "metadata": {
    "collapsed": true
   },
   "outputs": [],
   "source": []
  },
  {
   "cell_type": "code",
   "execution_count": null,
   "metadata": {
    "collapsed": true
   },
   "outputs": [],
   "source": []
  },
  {
   "cell_type": "code",
   "execution_count": null,
   "metadata": {
    "collapsed": true
   },
   "outputs": [],
   "source": []
  },
  {
   "cell_type": "code",
   "execution_count": null,
   "metadata": {
    "collapsed": true
   },
   "outputs": [],
   "source": []
  },
  {
   "cell_type": "code",
   "execution_count": null,
   "metadata": {
    "collapsed": true
   },
   "outputs": [],
   "source": []
  },
  {
   "cell_type": "code",
   "execution_count": null,
   "metadata": {
    "collapsed": true
   },
   "outputs": [],
   "source": []
  },
  {
   "cell_type": "code",
   "execution_count": null,
   "metadata": {
    "collapsed": true
   },
   "outputs": [],
   "source": []
  }
 ],
 "metadata": {
  "kernelspec": {
   "display_name": "Python 3",
   "language": "python",
   "name": "python3"
  },
  "language_info": {
   "codemirror_mode": {
    "name": "ipython",
    "version": 3
   },
   "file_extension": ".py",
   "mimetype": "text/x-python",
   "name": "python",
   "nbconvert_exporter": "python",
   "pygments_lexer": "ipython3",
   "version": "3.6.2"
  }
 },
 "nbformat": 4,
 "nbformat_minor": 2
}
