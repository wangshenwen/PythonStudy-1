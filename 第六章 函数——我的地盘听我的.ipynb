{
 "cells": [
  {
   "cell_type": "code",
   "execution_count": 1,
   "metadata": {
    "collapsed": true
   },
   "outputs": [],
   "source": [
    "# 函数：我的地盘听我的\n",
    "    # 函数和过程\n",
    "    # 再谈谈返回值\n",
    "    # 函数变量的作用域\n",
    "    "
   ]
  },
  {
   "cell_type": "code",
   "execution_count": 4,
   "metadata": {},
   "outputs": [
    {
     "name": "stdout",
     "output_type": "stream",
     "text": [
      "Hello ~~ \n",
      "None\n"
     ]
    }
   ],
   "source": [
    "# 函数和过程\n",
    "# Python中，严格来说，只有函数，没有过程。\n",
    "\n",
    "def hello():\n",
    "    print(\"Hello ~~ \")\n",
    "\n",
    "print(hello())\n",
    "\n",
    "# 该例子说明，当函数中没有return函数时，Python会默认返回 return None。\n",
    "# Python 所有函数都是有返回值的。\n"
   ]
  },
  {
   "cell_type": "code",
   "execution_count": 8,
   "metadata": {},
   "outputs": [
    {
     "name": "stdout",
     "output_type": "stream",
     "text": [
      "test() = [1, 31.44, 'abd']\n"
     ]
    }
   ],
   "source": [
    "# 再谈谈返回值\n",
    "# Python 可以动态确定函数的类型，函数能返回不同类型的值。\n",
    "\n",
    "def test():\n",
    "    return [1, 31.44, \"abd\"]\n",
    "\n",
    "print(\"test() =\", test())\n"
   ]
  },
  {
   "cell_type": "code",
   "execution_count": 9,
   "metadata": {},
   "outputs": [
    {
     "name": "stdout",
     "output_type": "stream",
     "text": [
      "test() = (1, 3.14, '小甲鱼')\n"
     ]
    }
   ],
   "source": [
    "# 再谈返回值\n",
    "# Python 可以利用列表打包多种类型的值，一次性返回；也可以直接利用元组的形式，返回多个值。\n",
    "\n",
    "def test():\n",
    "    return 1, 3.14, \"小甲鱼\"\n",
    "\n",
    "print(\"test() =\", test())\n"
   ]
  },
  {
   "cell_type": "code",
   "execution_count": 13,
   "metadata": {},
   "outputs": [
    {
     "name": "stdout",
     "output_type": "stream",
     "text": [
      "请输入原价：199\n",
      "请输入折扣率：0.87\n",
      "打折后的价格是： 173.13\n"
     ]
    }
   ],
   "source": [
    "# 函数变量的作用域\n",
    "# 变量的作用域，也叫“变量的可见性”\n",
    "# 一般函数，都有局部变量(Local Variable)和全局变量(Global Variable)之分。\n",
    "\n",
    "def discounts(price, rate):\n",
    "    final_price = price * rate\n",
    "    return final_price\n",
    "\n",
    "old_price = float(input(\"请输入原价：\"))\n",
    "rate = float(input(\"请输入折扣率：\"))\n",
    "new_price = discounts(old_price, rate)\n",
    "\n",
    "print(\"打折后的价格是：\", new_price)\n"
   ]
  },
  {
   "cell_type": "code",
   "execution_count": 16,
   "metadata": {},
   "outputs": [
    {
     "name": "stdout",
     "output_type": "stream",
     "text": [
      "原价：199\n",
      "折扣率：0.8\n",
      "折后价： 159.20000000000002\n"
     ]
    },
    {
     "ename": "NameError",
     "evalue": "name 'final_price' is not defined",
     "output_type": "error",
     "traceback": [
      "\u001b[1;31m---------------------------------------------------------------------------\u001b[0m",
      "\u001b[1;31mNameError\u001b[0m                                 Traceback (most recent call last)",
      "\u001b[1;32m<ipython-input-16-c1de55a1d5b2>\u001b[0m in \u001b[0;36m<module>\u001b[1;34m()\u001b[0m\n\u001b[0;32m     12\u001b[0m \u001b[1;33m\u001b[0m\u001b[0m\n\u001b[0;32m     13\u001b[0m \u001b[1;33m\u001b[0m\u001b[0m\n\u001b[1;32m---> 14\u001b[1;33m \u001b[0mprint\u001b[0m\u001b[1;33m(\u001b[0m\u001b[1;34m\"试图打印局部变量：\"\u001b[0m\u001b[1;33m,\u001b[0m \u001b[0mfinal_price\u001b[0m\u001b[1;33m)\u001b[0m\u001b[1;33m\u001b[0m\u001b[0m\n\u001b[0m\u001b[0;32m     15\u001b[0m \u001b[1;33m\u001b[0m\u001b[0m\n\u001b[0;32m     16\u001b[0m \u001b[1;31m# 该错误说明，局部变量，作用域范围之外，没有用。\u001b[0m\u001b[1;33m\u001b[0m\u001b[1;33m\u001b[0m\u001b[0m\n",
      "\u001b[1;31mNameError\u001b[0m: name 'final_price' is not defined"
     ]
    }
   ],
   "source": [
    "# 函数变量的作用域\n",
    "    # 在 discounts 函数中，三个参数 price, rate, final_price 都是局部变量；\n",
    "\n",
    "def discounts(price, rate):\n",
    "    final_price = price * rate\n",
    "    return final_price\n",
    "\n",
    "price3 = float(input(\"原价：\"))\n",
    "rate3 = float(input(\"折扣率：\"))\n",
    "new_price = discounts(price3, rate3)\n",
    "print(\"折后价：\", new_price)\n",
    "\n",
    "\n",
    "print(\"试图打印局部变量：\", final_price)\n",
    "\n",
    "# final_price 是 discounts 函数的局部变量，出了函数之外，就没有用了。\n",
    "\n",
    "# 总结一下：\n",
    "    # 在函数里面定义的参数及变量都是局部变量，出了这个函数，变量无效；\n",
    "    # 原理是：\n",
    "        # Python 运行函数时，利用栈(Stack) 进行存储；\n",
    "        # 当执行完函数后，函数中的所有数据都会被自动删除。\n",
    "    # 所有，函数外面，无法访问到函数里面的局部变量。\n",
    "    \n",
    "    # 与局部变量相对应的是全局变量，全局变量的作用域更大，在函数里面能访问到它们。\n",
    "    "
   ]
  },
  {
   "cell_type": "code",
   "execution_count": 4,
   "metadata": {},
   "outputs": [
    {
     "name": "stdout",
     "output_type": "stream",
     "text": [
      "原价：9999\n",
      "折扣率：0.99\n",
      "try print price3,rate3 = 9999.0 0.99\n",
      "折后价： 9899.01\n"
     ]
    }
   ],
   "source": [
    "# 函数变量的作用域\n",
    "# 全局变量，函数外部定义，能在函数内部访问。\n",
    "\n",
    "def discounts(price,rate):\n",
    "    final_price = price * rate\n",
    "    print(\"try print price3,rate3 =\", price3,  rate3)\n",
    "    return final_price\n",
    "\n",
    "price3 = float(input(\"原价：\"))\n",
    "rate3 = float(input(\"折扣率：\"))\n",
    "new_price = discounts(price3, rate3)\n",
    "\n",
    "print(\"折后价：\", new_price)\n"
   ]
  },
  {
   "cell_type": "code",
   "execution_count": 5,
   "metadata": {},
   "outputs": [
    {
     "name": "stdout",
     "output_type": "stream",
     "text": [
      "原价：999\n",
      "折扣：0.7\n",
      "在局部范围内，修改全局变量的值price4后，price4的值： 70\n",
      "全局变量price4 的值是： 999.0\n",
      "折后价： 699.3\n"
     ]
    }
   ],
   "source": [
    "# 函数变量的作用域\n",
    "\n",
    "# 全局变量在整段代码中都可以被访问到，但不要试图在函数内部修改全局变量的值；\n",
    "# 因为那样Python 会自动在函数内部新建一个名字一样的局部变量代替；\n",
    "    # 但是，真正的全局变量，一点都没变；\n",
    "# 在Python中，强烈反对，局部变量的名字与全局变量一样。\n",
    "\n",
    "def discounts(price,rate):\n",
    "    final_price = price * rate\n",
    "    price4 = 70\n",
    "    print(\"在局部范围内，修改全局变量的值price4后，price4的值：\",price4)\n",
    "    return final_price\n",
    "\n",
    "price4 = float(input(\"原价：\"))\n",
    "rate4 = float(input(\"折扣：\"))\n",
    "new_price = discounts(price4, rate4)\n",
    "\n",
    "print(\"全局变量price4 的值是：\", price4)\n",
    "print(\"折后价：\", new_price)\n",
    "\n"
   ]
  },
  {
   "cell_type": "code",
   "execution_count": null,
   "metadata": {
    "collapsed": true
   },
   "outputs": [],
   "source": []
  }
 ],
 "metadata": {
  "kernelspec": {
   "display_name": "Python 3",
   "language": "python",
   "name": "python3"
  },
  "language_info": {
   "codemirror_mode": {
    "name": "ipython",
    "version": 3
   },
   "file_extension": ".py",
   "mimetype": "text/x-python",
   "name": "python",
   "nbconvert_exporter": "python",
   "pygments_lexer": "ipython3",
   "version": "3.6.2"
  }
 },
 "nbformat": 4,
 "nbformat_minor": 2
}
