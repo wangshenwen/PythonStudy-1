{
 "cells": [
  {
   "cell_type": "code",
   "execution_count": 1,
   "metadata": {
    "collapsed": true
   },
   "outputs": [],
   "source": [
    "# 算数运算\n",
    "    # 工厂函数\n",
    "    # 算数操作符\n",
    "    # 反运算\n",
    "    # 增量赋值运算\n",
    "    # 一元操作符\n"
   ]
  },
  {
   "cell_type": "code",
   "execution_count": 8,
   "metadata": {},
   "outputs": [
    {
     "name": "stdout",
     "output_type": "stream",
     "text": [
      "type(len) = <class 'builtin_function_or_method'>\n",
      "type(dir) = <class 'builtin_function_or_method'>\n",
      "type(int) = <class 'type'>\n",
      "type(list) = <class 'type'>\n",
      "\n",
      "type(C) = <class 'type'>\n",
      "\n",
      "a + b = 468\n",
      "\n"
     ]
    }
   ],
   "source": [
    "# 工厂函数\n",
    "\n",
    "# Python2.2以后，对类和类型进行了统一，\n",
    "    # 将 int(),float(),str(),list(),tuple()这些BIF转换为工厂函数。\n",
    "    \n",
    "print(\"type(len) =\", type(len))\n",
    "print(\"type(dir) =\", type(dir))\n",
    "print(\"type(int) =\", type(int))\n",
    "print(\"type(list) =\", type(list))\n",
    "print()\n",
    "\n",
    "# 普通的BIF应是：<class 'builtin_function_or_method'>\n",
    "# 而工厂函数是： <class 'type'>\n",
    "    # <class 'type'> 在定义一个类时看到过。\n",
    "\n",
    "class C:\n",
    "    pass\n",
    "print(\"type(C) =\", type(C))\n",
    "print()\n",
    "# type(C)的类型是type类型，也就是类对象，\n",
    "    # 所谓的工厂函数，就是一个类对象。\n",
    "    # 当你调用它们的时候，就是创建一个相应的实例对象。\n",
    "\n",
    "a = int('123')\n",
    "b = int('345')\n",
    "print(\"a + b =\", a+b)\n",
    "print()\n",
    "\n",
    "# 豁然发现：原来对象是可以计算的！！\n",
    "# Python中无处不对象，\n",
    "# Python的魔法方法，还提供了自定义对象的数值处理，\n",
    "    # 重写魔方方法。\n"
   ]
  },
  {
   "cell_type": "code",
   "execution_count": 9,
   "metadata": {
    "collapsed": true
   },
   "outputs": [],
   "source": [
    "# 算数操作符相关的魔法方法\n",
    "    # 当对象进行相关的算数运算，自然会触发对应的魔法方法。\n",
    "    # 可以重写算数操作的魔法方法，自定义任何对象间的算数运算。\n",
    "    # 通过指定魔法方法的重写，可以让Python按照我们的意愿来执行。\n",
    "    "
   ]
  },
  {
   "cell_type": "code",
   "execution_count": 10,
   "metadata": {
    "collapsed": true
   },
   "outputs": [],
   "source": [
    "# 算数操作符的魔法方法 —— 例1\n",
    "\n",
    "class NewInt(int):\n",
    "    def __add__(self, other):\n",
    "        return int.__sub__(self, other)\n",
    "    def __sub__(self, other):\n",
    "        return int.__add__(self, other)\n",
    "  "
   ]
  },
  {
   "cell_type": "code",
   "execution_count": 11,
   "metadata": {
    "collapsed": true
   },
   "outputs": [],
   "source": [
    "a = NewInt(3)\n",
    "b = NewInt(5)\n"
   ]
  },
  {
   "cell_type": "code",
   "execution_count": 12,
   "metadata": {},
   "outputs": [
    {
     "data": {
      "text/plain": [
       "-2"
      ]
     },
     "execution_count": 12,
     "metadata": {},
     "output_type": "execute_result"
    }
   ],
   "source": [
    "a + b"
   ]
  },
  {
   "cell_type": "code",
   "execution_count": 13,
   "metadata": {},
   "outputs": [
    {
     "data": {
      "text/plain": [
       "8"
      ]
     },
     "execution_count": 13,
     "metadata": {},
     "output_type": "execute_result"
    }
   ],
   "source": [
    "a - b"
   ]
  },
  {
   "cell_type": "code",
   "execution_count": 16,
   "metadata": {},
   "outputs": [],
   "source": [
    "# 算数操作符的魔法方法 —— 例2\n",
    "\n",
    "class TryInt(int):\n",
    "    def __add__(self, other):\n",
    "        return self + other\n",
    "    def __sub__(self, other):\n",
    "        return self - other\n"
   ]
  },
  {
   "cell_type": "code",
   "execution_count": 18,
   "metadata": {},
   "outputs": [],
   "source": [
    "a = TryInt(1)\n",
    "b = TryInt(2)\n"
   ]
  },
  {
   "cell_type": "code",
   "execution_count": 19,
   "metadata": {},
   "outputs": [
    {
     "ename": "RecursionError",
     "evalue": "maximum recursion depth exceeded while calling a Python object",
     "output_type": "error",
     "traceback": [
      "\u001b[1;31m---------------------------------------------------------------------------\u001b[0m",
      "\u001b[1;31mRecursionError\u001b[0m                            Traceback (most recent call last)",
      "\u001b[1;32m<ipython-input-19-f96fb8f649b6>\u001b[0m in \u001b[0;36m<module>\u001b[1;34m()\u001b[0m\n\u001b[1;32m----> 1\u001b[1;33m \u001b[0ma\u001b[0m \u001b[1;33m+\u001b[0m \u001b[0mb\u001b[0m\u001b[1;33m\u001b[0m\u001b[0m\n\u001b[0m",
      "\u001b[1;32m<ipython-input-16-317ed1f8dda3>\u001b[0m in \u001b[0;36m__add__\u001b[1;34m(self, other)\u001b[0m\n\u001b[0;32m      3\u001b[0m \u001b[1;32mclass\u001b[0m \u001b[0mTryInt\u001b[0m\u001b[1;33m(\u001b[0m\u001b[0mint\u001b[0m\u001b[1;33m)\u001b[0m\u001b[1;33m:\u001b[0m\u001b[1;33m\u001b[0m\u001b[0m\n\u001b[0;32m      4\u001b[0m     \u001b[1;32mdef\u001b[0m \u001b[0m__add__\u001b[0m\u001b[1;33m(\u001b[0m\u001b[0mself\u001b[0m\u001b[1;33m,\u001b[0m \u001b[0mother\u001b[0m\u001b[1;33m)\u001b[0m\u001b[1;33m:\u001b[0m\u001b[1;33m\u001b[0m\u001b[0m\n\u001b[1;32m----> 5\u001b[1;33m         \u001b[1;32mreturn\u001b[0m \u001b[0mself\u001b[0m \u001b[1;33m+\u001b[0m \u001b[0mother\u001b[0m\u001b[1;33m\u001b[0m\u001b[0m\n\u001b[0m\u001b[0;32m      6\u001b[0m     \u001b[1;32mdef\u001b[0m \u001b[0m__sub__\u001b[0m\u001b[1;33m(\u001b[0m\u001b[0mself\u001b[0m\u001b[1;33m,\u001b[0m \u001b[0mother\u001b[0m\u001b[1;33m)\u001b[0m\u001b[1;33m:\u001b[0m\u001b[1;33m\u001b[0m\u001b[0m\n\u001b[0;32m      7\u001b[0m         \u001b[1;32mreturn\u001b[0m \u001b[0mself\u001b[0m \u001b[1;33m-\u001b[0m \u001b[0mother\u001b[0m\u001b[1;33m\u001b[0m\u001b[0m\n",
      "... last 1 frames repeated, from the frame below ...\n",
      "\u001b[1;32m<ipython-input-16-317ed1f8dda3>\u001b[0m in \u001b[0;36m__add__\u001b[1;34m(self, other)\u001b[0m\n\u001b[0;32m      3\u001b[0m \u001b[1;32mclass\u001b[0m \u001b[0mTryInt\u001b[0m\u001b[1;33m(\u001b[0m\u001b[0mint\u001b[0m\u001b[1;33m)\u001b[0m\u001b[1;33m:\u001b[0m\u001b[1;33m\u001b[0m\u001b[0m\n\u001b[0;32m      4\u001b[0m     \u001b[1;32mdef\u001b[0m \u001b[0m__add__\u001b[0m\u001b[1;33m(\u001b[0m\u001b[0mself\u001b[0m\u001b[1;33m,\u001b[0m \u001b[0mother\u001b[0m\u001b[1;33m)\u001b[0m\u001b[1;33m:\u001b[0m\u001b[1;33m\u001b[0m\u001b[0m\n\u001b[1;32m----> 5\u001b[1;33m         \u001b[1;32mreturn\u001b[0m \u001b[0mself\u001b[0m \u001b[1;33m+\u001b[0m \u001b[0mother\u001b[0m\u001b[1;33m\u001b[0m\u001b[0m\n\u001b[0m\u001b[0;32m      6\u001b[0m     \u001b[1;32mdef\u001b[0m \u001b[0m__sub__\u001b[0m\u001b[1;33m(\u001b[0m\u001b[0mself\u001b[0m\u001b[1;33m,\u001b[0m \u001b[0mother\u001b[0m\u001b[1;33m)\u001b[0m\u001b[1;33m:\u001b[0m\u001b[1;33m\u001b[0m\u001b[0m\n\u001b[0;32m      7\u001b[0m         \u001b[1;32mreturn\u001b[0m \u001b[0mself\u001b[0m \u001b[1;33m-\u001b[0m \u001b[0mother\u001b[0m\u001b[1;33m\u001b[0m\u001b[0m\n",
      "\u001b[1;31mRecursionError\u001b[0m: maximum recursion depth exceeded while calling a Python object"
     ]
    }
   ],
   "source": [
    "a + b\n",
    "\n",
    "# 此处会报错，是因为代码有逻辑错误，陷入无限循环。\n",
    "    # 当对象涉及加法操作时，自动调用魔法方法 __add__();\n",
    "    # return self + other，返回对象本身加另一个对象；\n",
    "    # 也触发了魔法方法 __add__();\n",
    "    # 这样，就形成了无限循环。\n",
    "    "
   ]
  },
  {
   "cell_type": "code",
   "execution_count": 20,
   "metadata": {
    "collapsed": true
   },
   "outputs": [],
   "source": [
    "# 算数操作符的魔法方法 —— 例3\n",
    "    # 把对象，变成int型数字，避免陷入无限循环；\n",
    "    # 例2的改进版。\n",
    "    \n",
    "class NewTryInt(int):\n",
    "    def __add__(self, other):\n",
    "        return int(self) + int(other)\n",
    "    def __sub__(self, other):\n",
    "        return int(self) - int(other)"
   ]
  },
  {
   "cell_type": "code",
   "execution_count": 21,
   "metadata": {},
   "outputs": [
    {
     "data": {
      "text/plain": [
       "11"
      ]
     },
     "execution_count": 21,
     "metadata": {},
     "output_type": "execute_result"
    }
   ],
   "source": [
    "a = NewTryInt(3)\n",
    "b = NewTryInt(8)\n",
    "\n",
    "a+b"
   ]
  },
  {
   "cell_type": "code",
   "execution_count": 25,
   "metadata": {
    "collapsed": true
   },
   "outputs": [],
   "source": [
    "# 算数操作符的魔法方法 —— 例4\n",
    "\n",
    "class int(int):\n",
    "    def __add__(self, other):\n",
    "        return int.__sub__(self, other)\n"
   ]
  },
  {
   "cell_type": "code",
   "execution_count": 28,
   "metadata": {},
   "outputs": [
    {
     "data": {
      "text/plain": [
       "-2"
      ]
     },
     "execution_count": 28,
     "metadata": {},
     "output_type": "execute_result"
    }
   ],
   "source": [
    "a = int(3)\n",
    "b = int(5)\n",
    "\n",
    "a + b"
   ]
  },
  {
   "cell_type": "code",
   "execution_count": 30,
   "metadata": {},
   "outputs": [
    {
     "data": {
      "text/plain": [
       "-2"
      ]
     },
     "execution_count": 30,
     "metadata": {},
     "output_type": "execute_result"
    }
   ],
   "source": [
    "a1 = int('3')\n",
    "b1 = int('5')\n",
    "\n",
    "a1 + b1\n"
   ]
  },
  {
   "cell_type": "code",
   "execution_count": null,
   "metadata": {
    "collapsed": true
   },
   "outputs": [],
   "source": []
  },
  {
   "cell_type": "code",
   "execution_count": null,
   "metadata": {
    "collapsed": true
   },
   "outputs": [],
   "source": [
    "# 反运算相关的魔法方法\n",
    "    # 反运算魔法方法，跟上一节介绍的算数运算符保持一一对应；\n",
    "    # 不同之处是，反运算比算数运算的魔法方法前多了一个'r'；\n",
    "\n",
    "# 如果a对象的__add__()方法没法实现，或者不支持相应的操作，\n",
    "    # 那么Python会自动调用b的__radd__()方法。\n"
   ]
  },
  {
   "cell_type": "code",
   "execution_count": 1,
   "metadata": {
    "collapsed": true
   },
   "outputs": [],
   "source": [
    "# 注意，此处需要 restart the kernel\n",
    "# 不然前面重新定义的 __add__(self, other)，会影响此次计算的结果。\n",
    "\n",
    "class Nint(int):\n",
    "    def __radd__(self, other):\n",
    "        return int.__sub__(other, self)\n",
    "    \n",
    "a = Nint(5)\n",
    "b = Nint(9)\n"
   ]
  },
  {
   "cell_type": "code",
   "execution_count": 3,
   "metadata": {},
   "outputs": [
    {
     "data": {
      "text/plain": [
       "14"
      ]
     },
     "execution_count": 3,
     "metadata": {},
     "output_type": "execute_result"
    }
   ],
   "source": [
    "a + b\n",
    "\n",
    "# 因为 a对象中有默认的 __add__()方法，\n",
    "    # 所有 b对象的 __radd__()方法没有执行。"
   ]
  },
  {
   "cell_type": "code",
   "execution_count": 4,
   "metadata": {},
   "outputs": [
    {
     "data": {
      "text/plain": [
       "-8"
      ]
     },
     "execution_count": 4,
     "metadata": {},
     "output_type": "execute_result"
    }
   ],
   "source": [
    "1 + b"
   ]
  },
  {
   "cell_type": "code",
   "execution_count": 1,
   "metadata": {},
   "outputs": [
    {
     "data": {
      "text/plain": [
       "2"
      ]
     },
     "execution_count": 1,
     "metadata": {},
     "output_type": "execute_result"
    }
   ],
   "source": [
    "# 注意：对于 a + b\n",
    "      # b的 __radd__(self,other)的self是b对象，other是a对象。\n",
    "# 对于注重操作数运算顺序的运算符（例如：减法、除法、移位），\n",
    "    # 在重写反运算魔法方法时，要注意操作数self 和 other 的顺序。\n",
    "\n",
    "# 下面的例子的逻辑有一点错误。\n",
    "    # 注意，此处需要 restart the kernel\n",
    "\n",
    "class Nint(int):\n",
    "    def __rsub__(self, other):\n",
    "        return int.__sub__(self, other)\n",
    "    \n",
    "a = Nint(5)\n",
    "\n",
    "3 - a"
   ]
  },
  {
   "cell_type": "code",
   "execution_count": null,
   "metadata": {
    "collapsed": true
   },
   "outputs": [],
   "source": []
  },
  {
   "cell_type": "code",
   "execution_count": null,
   "metadata": {
    "collapsed": true
   },
   "outputs": [],
   "source": [
    "# 增量赋值运算符\n",
    "    # Python中有大量的魔法方法，可以定制增量赋值语句。\n",
    "\n",
    "# 例如：a = a + b\n",
    "# 写成增量的模式就是 a += b\n"
   ]
  },
  {
   "cell_type": "code",
   "execution_count": null,
   "metadata": {
    "collapsed": true
   },
   "outputs": [],
   "source": []
  },
  {
   "cell_type": "code",
   "execution_count": null,
   "metadata": {
    "collapsed": true
   },
   "outputs": [],
   "source": [
    "# 一元操作符\n",
    "    # 一元操作符是只有一个操作数的意思。\n",
    "# Python 中支持的一元操作数主要有：\n",
    "    # __neg__()：表示正号行为；\n",
    "    # __pos__()：表示负号行为；\n",
    "    # __abs__()：当定义被abs()调用时，表示取绝对值；\n",
    "    # __invert__()：定义按位取反的行为。\n",
    "    "
   ]
  },
  {
   "cell_type": "code",
   "execution_count": null,
   "metadata": {
    "collapsed": true
   },
   "outputs": [],
   "source": []
  }
 ],
 "metadata": {
  "kernelspec": {
   "display_name": "Python 3",
   "language": "python",
   "name": "python3"
  },
  "language_info": {
   "codemirror_mode": {
    "name": "ipython",
    "version": 3
   },
   "file_extension": ".py",
   "mimetype": "text/x-python",
   "name": "python",
   "nbconvert_exporter": "python",
   "pygments_lexer": "ipython3",
   "version": "3.6.2"
  }
 },
 "nbformat": 4,
 "nbformat_minor": 2
}
