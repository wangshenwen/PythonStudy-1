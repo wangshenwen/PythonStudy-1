{
 "cells": [
  {
   "cell_type": "code",
   "execution_count": 5,
   "metadata": {},
   "outputs": [
    {
     "name": "stdout",
     "output_type": "stream",
     "text": [
      "电脑开机时间:\n",
      "2020-07-28,13:45:34\n"
     ]
    }
   ],
   "source": [
    "import psutil\n",
    "import os, datetime\n",
    "def main():\n",
    "    print(\"电脑开机时间:\")\n",
    "    dt=datetime.datetime.fromtimestamp(psutil.boot_time())\n",
    "    print(dt.strftime(\"%Y-%m-%d,%H:%M:%S\"))\n",
    "if __name__==\"__main__\":\n",
    "    main()\n"
   ]
  }
 ],
 "metadata": {
  "kernelspec": {
   "display_name": "Python 3",
   "language": "python",
   "name": "python3"
  },
  "language_info": {
   "codemirror_mode": {
    "name": "ipython",
    "version": 3
   },
   "file_extension": ".py",
   "mimetype": "text/x-python",
   "name": "python",
   "nbconvert_exporter": "python",
   "pygments_lexer": "ipython3",
   "version": "3.6.2"
  }
 },
 "nbformat": 4,
 "nbformat_minor": 2
}
